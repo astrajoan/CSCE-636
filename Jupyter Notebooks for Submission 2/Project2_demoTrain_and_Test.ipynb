{
  "nbformat": 4,
  "nbformat_minor": 0,
  "metadata": {
    "colab": {
      "name": "Project2_demoTrain_and_Test.ipynb",
      "provenance": [],
      "collapsed_sections": [
        "J3qSkVYySGw_"
      ],
      "toc_visible": true
    },
    "kernelspec": {
      "name": "python3",
      "display_name": "Python 3"
    }
  },
  "cells": [
    {
      "cell_type": "markdown",
      "metadata": {
        "id": "UrpLd7Rq-DIR"
      },
      "source": [
        "# Load dataset"
      ]
    },
    {
      "cell_type": "code",
      "metadata": {
        "id": "Ak9mVhjHVhV5",
        "colab": {
          "base_uri": "https://localhost:8080/"
        },
        "outputId": "1a0dc8ec-7615-42d6-fbf6-e82d529ef781"
      },
      "source": [
        "!wget https://storage.googleapis.com/deepmind-media/Datasets/kinetics700_2020.tar.gz"
      ],
      "execution_count": null,
      "outputs": [
        {
          "output_type": "stream",
          "text": [
            "--2021-02-24 20:24:30--  https://storage.googleapis.com/deepmind-media/Datasets/kinetics700_2020.tar.gz\n",
            "Resolving storage.googleapis.com (storage.googleapis.com)... 74.125.20.128, 74.125.142.128, 74.125.195.128, ...\n",
            "Connecting to storage.googleapis.com (storage.googleapis.com)|74.125.20.128|:443... connected.\n",
            "HTTP request sent, awaiting response... 200 OK\n",
            "Length: 25354611 (24M) [application/x-gzip]\n",
            "Saving to: ‘kinetics700_2020.tar.gz’\n",
            "\n",
            "\rkinetics700_2020.ta   0%[                    ]       0  --.-KB/s               \rkinetics700_2020.ta 100%[===================>]  24.18M  --.-KB/s    in 0.1s    \n",
            "\n",
            "2021-02-24 20:24:30 (189 MB/s) - ‘kinetics700_2020.tar.gz’ saved [25354611/25354611]\n",
            "\n"
          ],
          "name": "stdout"
        }
      ]
    },
    {
      "cell_type": "code",
      "metadata": {
        "id": "jzGaEBpHVxT8"
      },
      "source": [
        "import tarfile\n",
        "\n",
        "tar = tarfile.open('kinetics700_2020.tar.gz', \"r:gz\")\n",
        "tar.extractall()\n",
        "tar.close()"
      ],
      "execution_count": null,
      "outputs": []
    },
    {
      "cell_type": "code",
      "metadata": {
        "colab": {
          "base_uri": "https://localhost:8080/"
        },
        "id": "3zoPP0NDWDZ7",
        "outputId": "194ae6ea-cadc-4a40-b019-2851268c32d4"
      },
      "source": [
        "import os\n",
        "import csv\n",
        "import numpy as np\n",
        "\n",
        "file_path = '/content/kinetics700_2020'\n",
        "\n",
        "data_train = []\n",
        "label_train = []\n",
        "# data_val = []\n",
        "# label_val = []\n",
        "data_test = []\n",
        "label_test = []\n",
        "\n",
        "fname = 'train.csv'\n",
        "with open(os.path.join(file_path,fname)) as file:\n",
        "  reader = csv.reader(file)\n",
        "  for i,row in enumerate(reader):\n",
        "    if i == 0: # Ignore the header\n",
        "      continue\n",
        "    else:\n",
        "      dict_temp = {'url': row[1], 'time': list(map(float,row[2:4]))}\n",
        "      data_train.append(dict_temp)\n",
        "      label_train.append(row[0])\n",
        "    \n",
        "# Print the first 10 elements\n",
        "print(data_train[:10])\n",
        "print(label_train[:10])\n",
        "\n",
        "\n",
        "# Use validation dataset as test set\n",
        "fname = 'validate.csv'\n",
        "with open(os.path.join(file_path,fname)) as file:\n",
        "  reader = csv.reader(file)\n",
        "  for i,row in enumerate(reader):\n",
        "    if i == 0:\n",
        "      continue\n",
        "    else:\n",
        "      dict_temp = {'url': row[1], 'time': list(map(float,row[2:4]))}\n",
        "      data_test.append(dict_temp)\n",
        "      label_test.append(row[0])\n",
        "\n",
        "label_train = np.array(label_train)\n",
        "label_test = np.array(label_test)"
      ],
      "execution_count": null,
      "outputs": [
        {
          "output_type": "stream",
          "text": [
            "[{'url': '---0dWlqevI', 'time': [19.0, 29.0]}, {'url': '---aQ-tA5_A', 'time': [9.0, 19.0]}, {'url': '---j12rm3WI', 'time': [14.0, 24.0]}, {'url': '--07WQ2iBlw', 'time': [1.0, 11.0]}, {'url': '--0NTAs-fA0', 'time': [29.0, 39.0]}, {'url': '--0l35AkU34', 'time': [68.0, 78.0]}, {'url': '--33Lscn6sk', 'time': [4.0, 14.0]}, {'url': '--3OAstUWtU', 'time': [45.0, 55.0]}, {'url': '--3lTx87ebQ', 'time': [23.0, 33.0]}, {'url': '--3ouPhoy2A', 'time': [20.0, 30.0]}]\n",
            "['clay pottery making', 'news anchoring', 'using bagging machine', 'javelin throw', 'climbing a rope', 'sipping cup', 'flipping pancake', 'tickling', 'watering plants', 'eating spaghetti']\n"
          ],
          "name": "stdout"
        }
      ]
    },
    {
      "cell_type": "markdown",
      "metadata": {
        "id": "J3qSkVYySGw_"
      },
      "source": [
        "# Action: waking up"
      ]
    },
    {
      "cell_type": "code",
      "metadata": {
        "id": "yJc24C3VOJP5"
      },
      "source": [
        "'''\n",
        "  We are NOT modifying the stored original train data and train label,\n",
        "\n",
        "  data_train, label_train,\n",
        "\n",
        "  only working with indices and save the result to new arrays or lists\n",
        "'''\n",
        "\n",
        "target_label = 'waking up'\n",
        "# Get indices of 'baby waking up' in training set\n",
        "indices = np.where(label_train == target_label)[0]\n",
        "train_raw = [] # Store raw info of train data: url & time\n",
        "y_train = [] # Store train data labels\n",
        "\n",
        "for idx in indices:\n",
        "  train_raw.append(data_train[idx]) # Target class raw info\n",
        "  y_train.append(1) # Target class label = 1\n",
        "\n",
        "np.random.seed(0)\n",
        "# Randomly shuffle the indices of all training data\n",
        "shuffled_indices_total = np.random.permutation(len(data_train))\n",
        "# Delete the indices of 'baby waking up' in training set\n",
        "shuffled_indices_0 = shuffled_indices_total[~np.isin(\n",
        "    shuffled_indices_total,indices\n",
        ")]\n",
        "\n",
        "# Append the rest of the training samples to train_raw,\n",
        "# equal number of label 0 as label 1 (target)\n",
        "# Indices already shuffled, so this is in random order\n",
        "for i in range(len(indices)):\n",
        "  train_raw.append(data_train[shuffled_indices_0[i]])\n",
        "  y_train.append(0)\n",
        "\n",
        "'''\n",
        "  Do the same thing for test set\n",
        "'''\n",
        "indices_test = np.where(label_test == target_label)[0]\n",
        "test_raw = []\n",
        "y_test = []\n",
        "\n",
        "# Target class in validation set\n",
        "for idx in indices_test:\n",
        "  test_raw.append(data_test[idx])\n",
        "  y_test.append(1)\n",
        "\n",
        "np.random.seed(0)\n",
        "shuffled_indices_test = np.random.permutation(len(data_test))\n",
        "shuffled_indices_test_0 = shuffled_indices_test[~np.isin(\n",
        "    shuffled_indices_test,indices_test\n",
        ")]\n",
        "\n",
        "for i in range(len(indices_test)):\n",
        "  test_raw.append(data_test[shuffled_indices_test_0[i]])\n",
        "  y_test.append(0)"
      ],
      "execution_count": null,
      "outputs": []
    },
    {
      "cell_type": "markdown",
      "metadata": {
        "id": "CTskqNeN1fzD"
      },
      "source": [
        "# youtube-dl and ffmpeg"
      ]
    },
    {
      "cell_type": "code",
      "metadata": {
        "id": "rL8zaJOANsVA",
        "colab": {
          "base_uri": "https://localhost:8080/"
        },
        "outputId": "783b1c3d-ea32-4a57-8ee2-737eacd5097e"
      },
      "source": [
        "!pip install --upgrade youtube_dl"
      ],
      "execution_count": null,
      "outputs": [
        {
          "output_type": "stream",
          "text": [
            "Collecting youtube_dl\n",
            "\u001b[?25l  Downloading https://files.pythonhosted.org/packages/4e/fe/8d11d7a778633441efa68f1a0bd5fbfcd79e31cb0ef7f20acb8d5c4498db/youtube_dl-2021.2.22-py2.py3-none-any.whl (1.9MB)\n",
            "\u001b[K     |████████████████████████████████| 1.9MB 7.8MB/s \n",
            "\u001b[?25hInstalling collected packages: youtube-dl\n",
            "Successfully installed youtube-dl-2021.2.22\n"
          ],
          "name": "stdout"
        }
      ]
    },
    {
      "cell_type": "markdown",
      "metadata": {
        "id": "kXh3BJ8So-ux"
      },
      "source": [
        "Make directory for the Kinetics dataset"
      ]
    },
    {
      "cell_type": "code",
      "metadata": {
        "id": "tyjaC3o6mt94"
      },
      "source": [
        "import os\n",
        "\n",
        "# Directory for the Kinetics dataset\n",
        "kinetics_dir = '/content/kinetics'\n",
        "os.mkdir(kinetics_dir)\n",
        "\n",
        "# Directory for train, val and test set for Kinetics\n",
        "train_dir = os.path.join(kinetics_dir,'train')\n",
        "os.mkdir(train_dir)\n",
        "# val_dir = os.path.join(kinetics_dir,'val')\n",
        "# os.mkdir(val_dir)\n",
        "test_dir = os.path.join(kinetics_dir,'test')\n",
        "os.mkdir(test_dir)\n",
        "\n",
        "# Directory for target and supplementary classes\n",
        "train_target_dir = os.path.join(train_dir,'target')\n",
        "os.mkdir(train_target_dir)\n",
        "train_others_dir = os.path.join(train_dir,'others')\n",
        "os.mkdir(train_others_dir)\n",
        "# val_target_dir = os.path.join(val_dir,'target')\n",
        "# os.mkdir(val_target_dir)\n",
        "# val_others_dir = os.path.join(val_dir,'others')\n",
        "# os.mkdir(val_others_dir)\n",
        "test_target_dir = os.path.join(test_dir,'target')\n",
        "os.mkdir(test_target_dir)\n",
        "test_others_dir = os.path.join(test_dir,'others')\n",
        "os.mkdir(test_others_dir)"
      ],
      "execution_count": null,
      "outputs": []
    },
    {
      "cell_type": "code",
      "metadata": {
        "colab": {
          "base_uri": "https://localhost:8080/"
        },
        "id": "VKFmf1fI2HX-",
        "outputId": "cf69ea0a-d13c-4825-d842-5c10c295d4cb"
      },
      "source": [
        "import youtube_dl, subprocess\n",
        "import datetime\n",
        "import time\n",
        "\n",
        "'''\n",
        "  Training and validation set\n",
        "'''\n",
        "\n",
        "for i, info in enumerate(train_raw):\n",
        "  if info['url'][0] != '=':\n",
        "    info['url'] = '=' + info['url']\n",
        "  \n",
        "  URL = 'https://www.youtube.com/watch?v' + info['url'] # url of YouTube video\n",
        "  FROM = str(datetime.timedelta(seconds=info['time'][0]))\n",
        "  LENGTH = str(datetime.timedelta(seconds=(info['time'][1]-info['time'][0])))\n",
        "  if y_train[i] == 1:\n",
        "    TARGET = os.path.join(train_target_dir,\"waking_up.{}.mp4\".format(i))\n",
        "  else:\n",
        "    TARGET = os.path.join(train_others_dir,\"others.{}.mp4\".format(\n",
        "        i - y_train.count(1)\n",
        "    ))\n",
        "  \n",
        "  with youtube_dl.YoutubeDL({'format': 'best'}) as ydl:\n",
        "    try:\n",
        "      result = ydl.extract_info(URL, download=False)\n",
        "      video = result['entries'][0] if 'entries' in result else result\n",
        "    except:\n",
        "      continue\n",
        "    \n",
        "  url = video['url']\n",
        "  time.sleep(1)\n",
        "  subprocess.call(['ffmpeg', '-i', url, '-ss', FROM, '-t', LENGTH, \n",
        "                   '-c:v', 'copy', '-c:a', 'copy', TARGET,])  \n"
      ],
      "execution_count": null,
      "outputs": [
        {
          "output_type": "stream",
          "text": [
            "[youtube] Icdp-yT0Wuk: Downloading webpage\n",
            "[youtube] pei_efdwiDI: Downloading webpage\n",
            "[youtube] 18DpXhELiOg: Downloading webpage\n",
            "[youtube] lcKsu6WyUIk: Downloading webpage\n",
            "[youtube] c1Isf821kwk: Downloading webpage\n",
            "[youtube] NbyB1ZLh8D8: Downloading webpage\n",
            "[youtube] qDR5AcY7k54: Downloading webpage\n",
            "[youtube] vk5hP3CoHHE: Downloading webpage\n",
            "[youtube] NsFUOHHhtRs: Downloading webpage\n",
            "[youtube] AeIORQ7NjSU: Downloading webpage\n",
            "[youtube] F0uKSs_12WQ: Downloading webpage\n",
            "[youtube] vrjO1aa8qf4: Downloading webpage\n",
            "[youtube] dDPp74lNu-U: Downloading webpage\n",
            "[youtube] gHSsr3Pejv8: Downloading webpage\n",
            "[youtube] hMvqYObd49s: Downloading webpage\n",
            "[youtube] RdIALtXgKYE: Downloading webpage\n",
            "[youtube] sl9EH9GgHE8: Downloading webpage\n",
            "[youtube] xAaVDRtFqYI: Downloading webpage\n"
          ],
          "name": "stdout"
        },
        {
          "output_type": "stream",
          "text": [
            "ERROR: Private video\n",
            "Sign in if you've been granted access to this video\n"
          ],
          "name": "stderr"
        },
        {
          "output_type": "stream",
          "text": [
            "[youtube] S0B8zz4pyG4: Downloading webpage\n",
            "[youtube] djyEYZxHhqg: Downloading webpage\n",
            "[youtube] 6nZo48fG_fw: Downloading webpage\n",
            "[youtube] Btv2g56o3xU: Downloading webpage\n",
            "[youtube] GHNkmhyzwNQ: Downloading webpage\n",
            "[youtube] WISzb3RB3Zk: Downloading webpage\n",
            "[youtube] q0aQBDvT_Ek: Downloading webpage\n",
            "[youtube] PITCuF7CZLo: Downloading webpage\n",
            "[youtube] zt_YbExKo4A: Downloading webpage\n",
            "[youtube] fw1Vm-TLOLQ: Downloading webpage\n",
            "[youtube] g5kY3s-q5YY: Downloading webpage\n",
            "[youtube] TkYPTgsstnE: Downloading webpage\n",
            "[youtube] mCEghgtauWk: Downloading webpage\n"
          ],
          "name": "stdout"
        },
        {
          "output_type": "stream",
          "text": [
            "ERROR: This video has been removed for violating YouTube's Terms of Service.\n"
          ],
          "name": "stderr"
        },
        {
          "output_type": "stream",
          "text": [
            "[youtube] 1Dgc2iSNBpM: Downloading webpage\n",
            "[youtube] W2Dl9x7EVxM: Downloading webpage\n",
            "[youtube] uX-yvJw9r84: Downloading webpage\n",
            "[youtube] dA1WvKI4p2E: Downloading webpage\n",
            "[youtube] 8uYeRdvYkgo: Downloading webpage\n",
            "[youtube] AjvLrREOy-U: Downloading webpage\n",
            "[youtube] 7flfFEfiSdA: Downloading webpage\n",
            "[youtube] 7PIJXUobhOY: Downloading webpage\n",
            "[youtube] fIPtqtzyZc0: Downloading webpage\n",
            "[youtube] NIBxvGNNx58: Downloading webpage\n",
            "[youtube] ndMXloIUFLQ: Downloading webpage\n",
            "[youtube] _Z0BTbNISSM: Downloading webpage\n",
            "[youtube] 2hurATWhXGg: Downloading webpage\n",
            "[youtube] ku9yUl9X5dU: Downloading webpage\n",
            "[youtube] EP9DW4-PVno: Downloading webpage\n",
            "[youtube] FuwC-FdB0uE: Downloading webpage\n",
            "[youtube] MzNwirWSfAs: Downloading webpage\n",
            "[youtube] l3bcz4ZGQjA: Downloading webpage\n",
            "[youtube] -BmbWwxHpSo: Downloading webpage\n",
            "[youtube] HtosCXEQzVk: Downloading webpage\n",
            "[youtube] esrEQReiXzE: Downloading webpage\n",
            "[youtube] DWXd9m5C1R8: Downloading webpage\n",
            "[youtube] 6Q14NMNge04: Downloading webpage\n",
            "[youtube] IPKUDtlMZdQ: Downloading webpage\n",
            "[youtube] zw4Yw7FY47c: Downloading webpage\n",
            "[youtube] QSrP5MPJyJE: Downloading webpage\n",
            "[youtube] fzd77ytaRio: Downloading webpage\n",
            "[youtube] TxITvDuuUH0: Downloading webpage\n",
            "[youtube] Po_frNUoQI8: Downloading webpage\n",
            "[youtube] g9o5RZvkIts: Downloading webpage\n",
            "[youtube] LNk1b27zXlE: Downloading webpage\n",
            "[youtube] K_RtteZsJRQ: Downloading webpage\n",
            "[youtube] PjWYMYgAclU: Downloading webpage\n"
          ],
          "name": "stdout"
        },
        {
          "output_type": "stream",
          "text": [
            "ERROR: Private video\n",
            "Sign in if you've been granted access to this video\n"
          ],
          "name": "stderr"
        },
        {
          "output_type": "stream",
          "text": [
            "[youtube] 4w-3qQTVuxE: Downloading webpage\n",
            "[youtube] 4w-3qQTVuxE: Downloading player 392133a3\n",
            "[youtube] dFj25SRdDHU: Downloading webpage\n",
            "[youtube] vOJYKeveVfI: Downloading webpage\n",
            "[youtube] tJcJr5Gl-vM: Downloading webpage\n",
            "[youtube] lkBQtl4LSjc: Downloading webpage\n",
            "[youtube] WLwJaJvrS20: Downloading webpage\n",
            "[youtube] u21owJIs5u0: Downloading webpage\n",
            "[youtube] PT0NCA6J4V4: Downloading webpage\n",
            "[youtube] 6izylZdsMYo: Downloading webpage\n",
            "[youtube] p25zyIJtO3E: Downloading webpage\n",
            "[youtube] yadNKwS1hBw: Downloading webpage\n",
            "[youtube] Hs9ZmDCJ4mo: Downloading webpage\n",
            "[youtube] dcouG63-zgs: Downloading webpage\n",
            "[youtube] QqJqxTediow: Downloading webpage\n",
            "[youtube] 47q1QL_fVSk: Downloading webpage\n",
            "[youtube] TfBhR7qGl6o: Downloading webpage\n",
            "[youtube] QyDIRzYn33U: Downloading webpage\n",
            "[youtube] f-qaQz691Bk: Downloading webpage\n",
            "[youtube] x9igzYEDx54: Downloading webpage\n",
            "[youtube] U2I2Ap8hfHE: Downloading webpage\n",
            "[youtube] WKOSR5BoW1o: Downloading webpage\n",
            "[youtube] dkbGwBRz-18: Downloading webpage\n",
            "[youtube] 4pPx6ztnr58: Downloading webpage\n",
            "[youtube] rgLNjLp94hs: Downloading webpage\n",
            "[youtube] _SU14Mch4_g: Downloading webpage\n",
            "[youtube] _98FOVUM9zA: Downloading webpage\n",
            "[youtube] z62hC-8OJZs: Downloading webpage\n",
            "[youtube] yF1SXr_lcNI: Downloading webpage\n",
            "[youtube] n4DK_x-mj0Q: Downloading webpage\n",
            "[youtube] Bow6XGxrJws: Downloading webpage\n",
            "[youtube] XBIk79JO4JA: Downloading webpage\n",
            "[youtube] J3oby3bNNJ0: Downloading webpage\n",
            "[youtube] iqP94XUD3B8: Downloading webpage\n",
            "[youtube] sk4CkyZdAzw: Downloading webpage\n",
            "[youtube] u5902kOTJV0: Downloading webpage\n",
            "[youtube] kcyQKOCnUi0: Downloading webpage\n",
            "[youtube] Jc_OLs43vno: Downloading webpage\n",
            "[youtube] jwIeHS0NcKQ: Downloading webpage\n",
            "[youtube] SYMfcEcqS_c: Downloading webpage\n",
            "[youtube] qz7Ua7HiCwc: Downloading webpage\n",
            "[youtube] Eft3nz5C07s: Downloading webpage\n",
            "[youtube] gqONx7VGYBM: Downloading webpage\n",
            "[youtube] cxlvAqZwDkw: Downloading webpage\n",
            "[youtube] KWn-VoDOmBs: Downloading webpage\n",
            "[youtube] 2zvSBSQ6XDQ: Downloading webpage\n",
            "[youtube] Fmn5s8fsxtE: Downloading webpage\n",
            "[youtube] pJYb8egMpg4: Downloading webpage\n",
            "[youtube] 746mEdE9QuU: Downloading webpage\n",
            "[youtube] HZGDjC405lE: Downloading webpage\n",
            "[youtube] Fk49lC-KzR4: Downloading webpage\n",
            "[youtube] 7axe7kO8d4A: Downloading webpage\n",
            "[youtube] -QRTjab0UzA: Downloading webpage\n",
            "[youtube] 3QHVZIhtd-Q: Downloading webpage\n",
            "[youtube] aAuO_dFG4VI: Downloading webpage\n"
          ],
          "name": "stdout"
        },
        {
          "output_type": "stream",
          "text": [
            "ERROR: Private video\n",
            "Sign in if you've been granted access to this video\n"
          ],
          "name": "stderr"
        },
        {
          "output_type": "stream",
          "text": [
            "[youtube] UKGVLind6Qc: Downloading webpage\n",
            "[youtube] Yde3kdKjoZk: Downloading webpage\n",
            "[youtube] vWprQVm1Yv8: Downloading webpage\n",
            "[youtube] pLFYmZkp_Nc: Downloading webpage\n",
            "[youtube] 13clccfHYXk: Downloading webpage\n",
            "[youtube] MwG0U7mgXvo: Downloading webpage\n",
            "[youtube] pYuK47Vrn_c: Downloading webpage\n",
            "[youtube] R9tiIshByU8: Downloading webpage\n",
            "[youtube] upRqEV5VNAY: Downloading webpage\n",
            "[youtube] VRNGDg6K_mo: Downloading webpage\n",
            "[youtube] rL-RMrzMUVE: Downloading webpage\n",
            "[youtube] 92rFooOFf-4: Downloading webpage\n",
            "[youtube] eyTv9S-MBlc: Downloading webpage\n",
            "[youtube] u08VH3NAhVY: Downloading webpage\n",
            "[youtube] 8pAu65eoXM0: Downloading webpage\n",
            "[youtube] lSori0ru13Q: Downloading webpage\n",
            "[youtube] TeBLCEx6R6E: Downloading webpage\n",
            "[youtube] zUKrR7NOBFk: Downloading webpage\n",
            "[youtube] G9agsz28go4: Downloading webpage\n",
            "[youtube] v3SxFBcOa5Q: Downloading webpage\n",
            "[youtube] DWUope5E6lQ: Downloading webpage\n",
            "[youtube] CwyPLYFs5ko: Downloading webpage\n",
            "[youtube] SdLY4CfbrIw: Downloading webpage\n",
            "[youtube] JKT5qqo8LiA: Downloading webpage\n",
            "[youtube] rEJAyj6IHow: Downloading webpage\n",
            "[youtube] nr7kYZfe5a0: Downloading webpage\n",
            "[youtube] Yk-fRYQnw3M: Downloading webpage\n",
            "[youtube] sl54QlZYwR8: Downloading webpage\n",
            "[youtube] yL4exCnp_-U: Downloading webpage\n",
            "[youtube] GibY5XTdU98: Downloading webpage\n",
            "[youtube] xRnY1KTPEIM: Downloading webpage\n",
            "[youtube] uY_iMZS3_GI: Downloading webpage\n",
            "[youtube] -NbChwCAeWg: Downloading webpage\n",
            "[youtube] Irr9eDxAcXU: Downloading webpage\n",
            "[youtube] CA-pEPH7NK0: Downloading webpage\n",
            "[youtube] mkS0JvXnEpc: Downloading webpage\n",
            "[youtube] ULEoqfQBbIo: Downloading webpage\n",
            "[youtube] PIC4uD9vXR8: Downloading webpage\n",
            "[youtube] -2IvRufK7uc: Downloading webpage\n",
            "[youtube] xyCf5Wf0eU0: Downloading webpage\n",
            "[youtube] j6QmvUGUR6Y: Downloading webpage\n",
            "[youtube] P4S_jrYoT_I: Downloading webpage\n",
            "[youtube] I8_PPrmgOv0: Downloading webpage\n",
            "[youtube] O6wJ3YSmMZI: Downloading webpage\n",
            "[youtube] G3lYZ92VlR8: Downloading webpage\n",
            "[youtube] 22cCc3RoUX8: Downloading webpage\n",
            "[youtube] yhsyLnqxabw: Downloading webpage\n",
            "[youtube] AccOAC7uWJE: Downloading webpage\n"
          ],
          "name": "stdout"
        }
      ]
    },
    {
      "cell_type": "code",
      "metadata": {
        "colab": {
          "base_uri": "https://localhost:8080/"
        },
        "id": "elFSVixMS9i7",
        "outputId": "ae7a0668-70be-4596-ea65-bf6d3576b689"
      },
      "source": [
        "import youtube_dl, subprocess\n",
        "import datetime\n",
        "\n",
        "'''\n",
        "  Test set\n",
        "'''\n",
        "for i, info in enumerate(test_raw):\n",
        "  if info['url'][0] != '=':\n",
        "    info['url'] = '=' + info['url']\n",
        "  \n",
        "  URL = 'https://www.youtube.com/watch?v' + info['url'] # url of YouTube video\n",
        "  FROM = str(datetime.timedelta(seconds=info['time'][0]))\n",
        "  LENGTH = str(datetime.timedelta(seconds=(info['time'][1]-info['time'][0])))\n",
        "  if y_test[i] == 1:\n",
        "    TARGET = os.path.join(test_target_dir,\"waking_up.{}.mp4\".format(i))\n",
        "  else:\n",
        "    TARGET = os.path.join(test_others_dir,\"others.{}.mp4\".format(\n",
        "        i - y_test.count(1)\n",
        "    ))\n",
        "  \n",
        "  with youtube_dl.YoutubeDL({'format': 'best'}) as ydl:\n",
        "    try:\n",
        "      result = ydl.extract_info(URL, download=False)\n",
        "      video = result['entries'][0] if 'entries' in result else result\n",
        "    except:\n",
        "      continue\n",
        "    \n",
        "  url = video['url']\n",
        "  subprocess.call(['ffmpeg', '-i', url, '-ss', FROM, '-t', LENGTH, \n",
        "                   '-c:v', 'copy', '-c:a', 'copy', TARGET,])  "
      ],
      "execution_count": null,
      "outputs": [
        {
          "output_type": "stream",
          "text": [
            "[youtube] 7WbL2_G2Fxk: Downloading webpage\n",
            "[youtube] 7ybStMn4djM: Downloading webpage\n",
            "[youtube] 81Uv4wkWY04: Downloading webpage\n",
            "[youtube] 8ADALIlIxs0: Downloading webpage\n",
            "[youtube] 8E5sRzOvvDM: Downloading webpage\n",
            "[youtube] 8GJYcWJEnE0: Downloading webpage\n",
            "[youtube] 8GX62W5nysQ: Downloading webpage\n",
            "[youtube] 8TU2JeZjG6Y: Downloading webpage\n",
            "[youtube] 8arA38O3v4E: Downloading webpage\n",
            "[youtube] 8qYtEzIWFSs: Downloading webpage\n",
            "[youtube] 8rPyLeyKKB4: Downloading webpage\n",
            "[youtube] 8sqPPrtx5SQ: Downloading webpage\n",
            "[youtube] 8xw7nlo_KTE: Downloading webpage\n",
            "[youtube] 9HVaujcdsMI: Downloading webpage\n",
            "[youtube] 9IW2c3cHgco: Downloading webpage\n",
            "[youtube] 9Qea2fSFfKA: Downloading webpage\n",
            "[youtube] 9SnodtjVnwI: Downloading webpage\n",
            "[youtube] 9b3kEN_OfLo: Downloading webpage\n",
            "[youtube] 9ikIjhO-7a8: Downloading webpage\n",
            "[youtube] 9j1CYoykW3Y: Downloading webpage\n",
            "[youtube] 9j5eIIWNHUs: Downloading webpage\n",
            "[youtube] 9l6wFxq_7Iw: Downloading webpage\n",
            "[youtube] 9vmTnYLrqAY: Downloading webpage\n",
            "[youtube] 9yRIqZI_BL4: Downloading webpage\n",
            "[youtube] ALYUlWumZ5Q: Downloading webpage\n",
            "[youtube] ALdP_HTq6Dc: Downloading webpage\n",
            "[youtube] AQKxapJs3f8: Downloading webpage\n",
            "[youtube] Aewx50_8qTc: Downloading webpage\n",
            "[youtube] AhgIRgbDeUs: Downloading webpage\n",
            "[youtube] AoHjkYS6OEM: Downloading webpage\n",
            "[youtube] AqtLuXm4Rqs: Downloading webpage\n",
            "[youtube] ArBqN-v81LU: Downloading webpage\n",
            "[youtube] AsfqqQMoWEs: Downloading webpage\n",
            "[youtube] AtyGAu4bMHY: Downloading webpage\n",
            "[youtube] AuMfvvCk_2A: Downloading webpage\n",
            "[youtube] AwqBWMvFSCk: Downloading webpage\n",
            "[youtube] a1ee80pZp8A: Downloading webpage\n",
            "[youtube] a2D7O2tYhIs: Downloading webpage\n",
            "[youtube] a8VlbVpe3uE: Downloading webpage\n",
            "[youtube] aD1cPmoGmZw: Downloading webpage\n",
            "[youtube] aTTvL1xekzM: Downloading webpage\n",
            "[youtube] aWQWwWRIETA: Downloading webpage\n",
            "[youtube] aXXDwrk77V4: Downloading webpage\n",
            "[youtube] aafT7nWdG6g: Downloading webpage\n"
          ],
          "name": "stdout"
        },
        {
          "output_type": "stream",
          "text": [
            "ERROR: Video unavailable\n",
            "This video is no longer available because the YouTube account associated with this video has been terminated.\n"
          ],
          "name": "stderr"
        },
        {
          "output_type": "stream",
          "text": [
            "[youtube] ab9CwFC9AD8: Downloading webpage\n",
            "[youtube] abHV2cb5O0c: Downloading webpage\n",
            "[youtube] aca6zG_4msI: Downloading webpage\n",
            "[youtube] ai_NPOVdSv0: Downloading webpage\n",
            "[youtube] ba-21sa-liU: Downloading webpage\n",
            "[youtube] fl1_HBlH6V4: Downloading webpage\n",
            "[youtube] 8H-gP3_FsN8: Downloading webpage\n",
            "[youtube] LttrahDYTZM: Downloading webpage\n",
            "[youtube] SfiCl6aZ0AE: Downloading webpage\n",
            "[youtube] f89bMcLNm5k: Downloading webpage\n"
          ],
          "name": "stdout"
        },
        {
          "output_type": "stream",
          "text": [
            "ERROR: Video unavailable\n",
            "This video is no longer available because the YouTube account associated with this video has been terminated.\n"
          ],
          "name": "stderr"
        },
        {
          "output_type": "stream",
          "text": [
            "[youtube] R0HfS0mF_GU: Downloading webpage\n",
            "[youtube] BSvxM7uq8TY: Downloading webpage\n",
            "[youtube] kNbDRT9Hxfg: Downloading webpage\n",
            "[youtube] lZKCZC98Qy8: Downloading webpage\n",
            "[youtube] eAz-jW31Iq8: Downloading webpage\n",
            "[youtube] DklguvUaA9Y: Downloading webpage\n",
            "[youtube] JZIJE2f6ATI: Downloading webpage\n",
            "[youtube] POkvVGyZFRw: Downloading webpage\n",
            "[youtube] Cngm3WgjFno: Downloading webpage\n",
            "[youtube] A_rZXGMGoZI: Downloading webpage\n",
            "[youtube] aPHplduXH8E: Downloading webpage\n",
            "[youtube] hhFkFE8BfY4: Downloading webpage\n",
            "[youtube] jfN9pi0UsDI: Downloading webpage\n",
            "[youtube] eGN4PGLXSRY: Downloading webpage\n",
            "[youtube] vuZTT9xsdOQ: Downloading webpage\n",
            "[youtube] Jf0uRsN9eJw: Downloading webpage\n",
            "[youtube] md_QHCb97eg: Downloading webpage\n",
            "[youtube] njxnXizqTqs: Downloading webpage\n",
            "[youtube] a0StIdSw9Ws: Downloading webpage\n",
            "[youtube] KPtVHOO5D18: Downloading webpage\n",
            "[youtube] EJ8InYZaE78: Downloading webpage\n",
            "[youtube] -PE3-a9o57M: Downloading webpage\n",
            "[youtube] uYFFdC2xzrM: Downloading webpage\n",
            "[youtube] HndIdOSqbJA: Downloading webpage\n",
            "[youtube] AGgD1RzACSM: Downloading webpage\n",
            "[youtube] I6NDj1EcP6w: Downloading webpage\n",
            "[youtube] 0O3S2OqHDKE: Downloading webpage\n",
            "[youtube] Lt0TIkZdUs4: Downloading webpage\n",
            "[youtube] vWJu3GOVc9E: Downloading webpage\n",
            "[youtube] yjZ03DbAXDY: Downloading webpage\n",
            "[youtube] SfF0hMmRJe0: Downloading webpage\n",
            "[youtube] mhCgbBynjSI: Downloading webpage\n",
            "[youtube] fhDiak_9zhI: Downloading webpage\n",
            "[youtube] 81O_2rjfPqw: Downloading webpage\n",
            "[youtube] rbDotH4x3Yo: Downloading webpage\n",
            "[youtube] b1g0Jwb_SVU: Downloading webpage\n",
            "[youtube] emDLOptOdKo: Downloading webpage\n",
            "[youtube] tihMk9UfhZ8: Downloading webpage\n",
            "[youtube] 9aww-5gxJ9Q: Downloading webpage\n",
            "[youtube] BKcZ8NSCLKM: Downloading webpage\n",
            "[youtube] 9AduGCvHE4c: Downloading webpage\n",
            "[youtube] 87kUpX3MFA8: Downloading webpage\n",
            "[youtube] Zwwx7mm0sDQ: Downloading webpage\n",
            "[youtube] zJVULgHStBU: Downloading webpage\n"
          ],
          "name": "stdout"
        }
      ]
    },
    {
      "cell_type": "markdown",
      "metadata": {
        "id": "DAtsUBZTBhB_"
      },
      "source": [
        "Download videos from Google Colab"
      ]
    },
    {
      "cell_type": "code",
      "metadata": {
        "colab": {
          "base_uri": "https://localhost:8080/"
        },
        "id": "JeyaGW-iBkUB",
        "outputId": "42205256-7964-40fd-d2fb-338ab99e5a31"
      },
      "source": [
        "!zip -r /content/file.zip /content/kinetics"
      ],
      "execution_count": null,
      "outputs": [
        {
          "output_type": "stream",
          "text": [
            "  adding: content/kinetics/ (stored 0%)\n",
            "  adding: content/kinetics/train/ (stored 0%)\n",
            "  adding: content/kinetics/train/target/ (stored 0%)\n",
            "  adding: content/kinetics/train/others/ (stored 0%)\n",
            "  adding: content/kinetics/train/others/others2.851.mp4 (deflated 2%)\n",
            "  adding: content/kinetics/train/others/others2.881.mp4 (deflated 1%)\n",
            "  adding: content/kinetics/train/others/others2.874.mp4 (deflated 1%)\n",
            "  adding: content/kinetics/train/others/others2.913.mp4 (deflated 41%)\n",
            "  adding: content/kinetics/train/others/others2.891.mp4 (deflated 1%)\n",
            "  adding: content/kinetics/train/others/others2.907.mp4 (deflated 0%)\n",
            "  adding: content/kinetics/train/others/others2.820.mp4 (deflated 1%)\n",
            "  adding: content/kinetics/train/others/others2.942.mp4 (deflated 1%)\n",
            "  adding: content/kinetics/train/others/others2.860.mp4 (deflated 1%)\n",
            "  adding: content/kinetics/train/others/others2.875.mp4 (deflated 2%)\n",
            "  adding: content/kinetics/train/others/others2.976.mp4 (deflated 0%)\n",
            "  adding: content/kinetics/train/others/others2.824.mp4 (deflated 0%)\n",
            "  adding: content/kinetics/train/others/others2.952.mp4 (deflated 2%)\n",
            "  adding: content/kinetics/train/others/others2.838.mp4 (deflated 1%)\n",
            "  adding: content/kinetics/train/others/others2.863.mp4 (deflated 1%)\n",
            "  adding: content/kinetics/train/others/others2.914.mp4 (deflated 0%)\n",
            "  adding: content/kinetics/train/others/others2.906.mp4 (deflated 1%)\n",
            "  adding: content/kinetics/train/others/others2.904.mp4 (deflated 1%)\n",
            "  adding: content/kinetics/train/others/others2.921.mp4 (deflated 0%)\n",
            "  adding: content/kinetics/train/others/others2.980.mp4 (deflated 4%)\n",
            "  adding: content/kinetics/train/others/others2.821.mp4 (deflated 1%)\n",
            "  adding: content/kinetics/train/others/others2.879.mp4 (deflated 1%)\n",
            "  adding: content/kinetics/train/others/others2.842.mp4 (deflated 6%)\n",
            "  adding: content/kinetics/train/others/others2.961.mp4 (deflated 0%)\n",
            "  adding: content/kinetics/train/others/others2.868.mp4 (deflated 1%)\n",
            "  adding: content/kinetics/train/others/others2.967.mp4 (deflated 5%)\n",
            "  adding: content/kinetics/train/others/others2.865.mp4 (deflated 1%)\n",
            "  adding: content/kinetics/train/others/others2.867.mp4 (deflated 2%)\n",
            "  adding: content/kinetics/train/others/others2.919.mp4 (deflated 1%)\n",
            "  adding: content/kinetics/train/others/others2.869.mp4 (deflated 0%)\n",
            "  adding: content/kinetics/train/others/others2.963.mp4 (deflated 17%)\n",
            "  adding: content/kinetics/train/others/others2.930.mp4 (deflated 12%)\n",
            "  adding: content/kinetics/train/others/others2.939.mp4 (deflated 0%)\n",
            "  adding: content/kinetics/train/others/others2.856.mp4 (deflated 2%)\n",
            "  adding: content/kinetics/train/others/others2.872.mp4 (deflated 0%)\n",
            "  adding: content/kinetics/train/others/others2.944.mp4 (deflated 1%)\n",
            "  adding: content/kinetics/train/others/others2.834.mp4 (deflated 1%)\n",
            "  adding: content/kinetics/train/others/others2.940.mp4 (deflated 1%)\n",
            "  adding: content/kinetics/train/others/others2.822.mp4 (deflated 0%)\n",
            "  adding: content/kinetics/train/others/others2.931.mp4 (deflated 0%)\n",
            "  adding: content/kinetics/train/others/others2.928.mp4 (deflated 1%)\n",
            "  adding: content/kinetics/train/others/others2.890.mp4 (deflated 1%)\n",
            "  adding: content/kinetics/train/others/others2.948.mp4 (deflated 1%)\n",
            "  adding: content/kinetics/train/others/others2.938.mp4 (deflated 0%)\n",
            "  adding: content/kinetics/train/others/others2.937.mp4 (deflated 0%)\n",
            "  adding: content/kinetics/train/others/others2.837.mp4 (deflated 0%)\n",
            "  adding: content/kinetics/train/others/others2.950.mp4 (deflated 0%)\n",
            "  adding: content/kinetics/train/others/others2.966.mp4 (deflated 1%)\n",
            "  adding: content/kinetics/train/others/others2.943.mp4 (deflated 0%)\n",
            "  adding: content/kinetics/train/others/others2.861.mp4 (deflated 0%)\n",
            "  adding: content/kinetics/train/others/others2.960.mp4 (deflated 0%)\n",
            "  adding: content/kinetics/train/others/others2.908.mp4 (deflated 1%)\n",
            "  adding: content/kinetics/train/others/others2.864.mp4 (deflated 0%)\n",
            "  adding: content/kinetics/train/others/others2.971.mp4 (deflated 0%)\n",
            "  adding: content/kinetics/train/others/others2.925.mp4 (deflated 17%)\n",
            "  adding: content/kinetics/train/others/others2.850.mp4 (deflated 0%)\n",
            "  adding: content/kinetics/train/others/others2.841.mp4 (deflated 1%)\n",
            "  adding: content/kinetics/train/others/others2.927.mp4 (deflated 0%)\n",
            "  adding: content/kinetics/train/others/others2.884.mp4 (deflated 0%)\n",
            "  adding: content/kinetics/train/others/others2.892.mp4 (deflated 0%)\n",
            "  adding: content/kinetics/train/others/others2.903.mp4 (deflated 1%)\n",
            "  adding: content/kinetics/train/others/others2.975.mp4 (deflated 1%)\n",
            "  adding: content/kinetics/train/others/others2.866.mp4 (deflated 1%)\n",
            "  adding: content/kinetics/train/others/others2.880.mp4 (deflated 2%)\n",
            "  adding: content/kinetics/train/others/others2.896.mp4 (deflated 1%)\n",
            "  adding: content/kinetics/train/others/others2.953.mp4 (deflated 1%)\n",
            "  adding: content/kinetics/train/others/others2.852.mp4 (deflated 0%)\n",
            "  adding: content/kinetics/train/others/others2.954.mp4 (deflated 0%)\n",
            "  adding: content/kinetics/train/others/others2.918.mp4 (deflated 1%)\n",
            "  adding: content/kinetics/train/others/others2.823.mp4 (deflated 0%)\n",
            "  adding: content/kinetics/train/others/others2.933.mp4 (deflated 0%)\n",
            "  adding: content/kinetics/train/others/others2.828.mp4 (deflated 1%)\n",
            "  adding: content/kinetics/train/others/others2.924.mp4 (deflated 0%)\n",
            "  adding: content/kinetics/train/others/others2.826.mp4 (deflated 1%)\n",
            "  adding: content/kinetics/train/others/others2.897.mp4 (deflated 1%)\n",
            "  adding: content/kinetics/train/others/others2.849.mp4 (deflated 9%)\n",
            "  adding: content/kinetics/train/others/others2.968.mp4 (deflated 1%)\n",
            "  adding: content/kinetics/train/others/others2.829.mp4 (deflated 1%)\n",
            "  adding: content/kinetics/train/others/others2.911.mp4 (deflated 0%)\n",
            "  adding: content/kinetics/train/others/others2.840.mp4 (deflated 0%)\n",
            "  adding: content/kinetics/train/others/others2.886.mp4 (deflated 1%)\n",
            "  adding: content/kinetics/train/others/others2.819.mp4 (deflated 1%)\n",
            "  adding: content/kinetics/train/others/others2.978.mp4 (deflated 0%)\n",
            "  adding: content/kinetics/train/others/others2.941.mp4 (deflated 0%)\n",
            "  adding: content/kinetics/train/others/others2.945.mp4 (deflated 2%)\n",
            "  adding: content/kinetics/train/others/others2.972.mp4 (deflated 1%)\n",
            "  adding: content/kinetics/train/others/others2.882.mp4 (deflated 1%)\n",
            "  adding: content/kinetics/train/others/others2.855.mp4 (deflated 1%)\n",
            "  adding: content/kinetics/train/others/others2.883.mp4 (deflated 1%)\n",
            "  adding: content/kinetics/train/others/others2.833.mp4 (deflated 1%)\n",
            "  adding: content/kinetics/train/others/others2.871.mp4 (deflated 0%)\n",
            "  adding: content/kinetics/train/others/others2.909.mp4 (deflated 1%)\n",
            "  adding: content/kinetics/train/others/others2.857.mp4 (deflated 2%)\n",
            "  adding: content/kinetics/train/others/others2.934.mp4 (deflated 1%)\n",
            "  adding: content/kinetics/train/others/others2.844.mp4 (deflated 3%)\n",
            "  adding: content/kinetics/train/others/others2.977.mp4 (deflated 1%)\n",
            "  adding: content/kinetics/train/others/others2.920.mp4 (deflated 0%)\n",
            "  adding: content/kinetics/train/others/others2.922.mp4 (deflated 0%)\n",
            "  adding: content/kinetics/train/others/others2.917.mp4 (deflated 26%)\n",
            "  adding: content/kinetics/train/others/others2.899.mp4 (deflated 0%)\n",
            "  adding: content/kinetics/train/others/others2.843.mp4 (deflated 1%)\n",
            "  adding: content/kinetics/train/others/others2.825.mp4 (deflated 2%)\n",
            "  adding: content/kinetics/train/others/others2.900.mp4 (deflated 1%)\n",
            "  adding: content/kinetics/train/others/others2.935.mp4 (deflated 0%)\n",
            "  adding: content/kinetics/train/others/others2.831.mp4 (deflated 1%)\n",
            "  adding: content/kinetics/train/others/others2.876.mp4 (deflated 1%)\n",
            "  adding: content/kinetics/train/others/others2.957.mp4 (deflated 1%)\n",
            "  adding: content/kinetics/train/others/others2.926.mp4 (deflated 20%)\n",
            "  adding: content/kinetics/train/others/others2.923.mp4 (deflated 0%)\n",
            "  adding: content/kinetics/train/others/others2.853.mp4 (deflated 4%)\n",
            "  adding: content/kinetics/train/others/others2.947.mp4 (deflated 0%)\n",
            "  adding: content/kinetics/train/others/others2.870.mp4 (deflated 1%)\n",
            "  adding: content/kinetics/train/others/others2.847.mp4 (deflated 3%)\n",
            "  adding: content/kinetics/train/others/others2.839.mp4 (deflated 1%)\n",
            "  adding: content/kinetics/train/others/others2.827.mp4 (deflated 1%)\n",
            "  adding: content/kinetics/train/others/others2.905.mp4 (deflated 1%)\n",
            "  adding: content/kinetics/train/others/others2.893.mp4 (deflated 1%)\n",
            "  adding: content/kinetics/train/others/others2.854.mp4 (deflated 1%)\n",
            "  adding: content/kinetics/train/others/others2.910.mp4 (deflated 0%)\n",
            "  adding: content/kinetics/train/others/others2.951.mp4 (deflated 0%)\n",
            "  adding: content/kinetics/train/others/others2.816.mp4 (deflated 1%)\n",
            "  adding: content/kinetics/train/others/others2.969.mp4 (deflated 2%)\n",
            "  adding: content/kinetics/train/others/others2.916.mp4 (deflated 1%)\n",
            "  adding: content/kinetics/train/others/others2.946.mp4 (deflated 1%)\n",
            "  adding: content/kinetics/train/others/others2.859.mp4 (deflated 1%)\n",
            "  adding: content/kinetics/train/others/others2.817.mp4 (deflated 1%)\n",
            "  adding: content/kinetics/train/others/others2.902.mp4 (deflated 0%)\n",
            "  adding: content/kinetics/train/others/others2.894.mp4 (deflated 0%)\n",
            "  adding: content/kinetics/train/others/others2.974.mp4 (deflated 1%)\n",
            "  adding: content/kinetics/train/others/others2.877.mp4 (deflated 0%)\n",
            "  adding: content/kinetics/train/others/others2.873.mp4 (deflated 0%)\n",
            "  adding: content/kinetics/train/others/others2.962.mp4 (deflated 0%)\n",
            "  adding: content/kinetics/train/others/others2.895.mp4 (deflated 1%)\n",
            "  adding: content/kinetics/train/others/others2.815.mp4 (deflated 1%)\n",
            "  adding: content/kinetics/train/others/others2.848.mp4 (deflated 0%)\n",
            "  adding: content/kinetics/train/others/others2.818.mp4 (deflated 0%)\n",
            "  adding: content/kinetics/train/others/others2.835.mp4 (deflated 1%)\n",
            "  adding: content/kinetics/train/others/others2.958.mp4 (deflated 2%)\n",
            "  adding: content/kinetics/train/others/others2.887.mp4 (deflated 1%)\n",
            "  adding: content/kinetics/train/others/others2.955.mp4 (deflated 1%)\n",
            "  adding: content/kinetics/train/others/others2.936.mp4 (deflated 1%)\n",
            "  adding: content/kinetics/train/others/others2.830.mp4 (deflated 0%)\n",
            "  adding: content/kinetics/train/others/others2.912.mp4 (deflated 0%)\n",
            "  adding: content/kinetics/train/others/others2.889.mp4 (deflated 2%)\n",
            "  adding: content/kinetics/train/others/others2.949.mp4 (deflated 2%)\n",
            "  adding: content/kinetics/train/others/others2.979.mp4 (deflated 1%)\n",
            "  adding: content/kinetics/train/others/others2.858.mp4 (deflated 1%)\n",
            "  adding: content/kinetics/train/others/others2.959.mp4 (deflated 1%)\n",
            "  adding: content/kinetics/train/others/others2.956.mp4 (deflated 1%)\n",
            "  adding: content/kinetics/train/others/others2.965.mp4 (deflated 0%)\n",
            "  adding: content/kinetics/train/others/others2.970.mp4 (deflated 0%)\n",
            "  adding: content/kinetics/train/others/others2.888.mp4 (deflated 1%)\n",
            "  adding: content/kinetics/train/others/others2.915.mp4 (deflated 1%)\n",
            "  adding: content/kinetics/train/others/others2.846.mp4 (deflated 1%)\n",
            "  adding: content/kinetics/train/others/others2.836.mp4 (deflated 1%)\n",
            "  adding: content/kinetics/train/others/others2.973.mp4 (deflated 0%)\n",
            "  adding: content/kinetics/train/others/others2.964.mp4 (deflated 1%)\n",
            "  adding: content/kinetics/train/others/others2.898.mp4 (deflated 1%)\n",
            "  adding: content/kinetics/train/others/others2.929.mp4 (deflated 2%)\n",
            "  adding: content/kinetics/train/others/others2.901.mp4 (deflated 0%)\n",
            "  adding: content/kinetics/train/others/others2.862.mp4 (deflated 4%)\n",
            "  adding: content/kinetics/train/others/others2.885.mp4 (deflated 0%)\n",
            "  adding: content/kinetics/test/ (stored 0%)\n",
            "  adding: content/kinetics/test/target/ (stored 0%)\n",
            "  adding: content/kinetics/test/target/waking_up.48.mp4 (deflated 0%)\n",
            "  adding: content/kinetics/test/target/waking_up.23.mp4 (deflated 1%)\n",
            "  adding: content/kinetics/test/target/waking_up.0.mp4 (deflated 0%)\n",
            "  adding: content/kinetics/test/target/waking_up.15.mp4 (deflated 0%)\n",
            "  adding: content/kinetics/test/target/waking_up.25.mp4 (deflated 1%)\n",
            "  adding: content/kinetics/test/target/waking_up.12.mp4 (deflated 1%)\n",
            "  adding: content/kinetics/test/target/waking_up.3.mp4 (deflated 1%)\n",
            "  adding: content/kinetics/test/target/waking_up.26.mp4 (deflated 1%)\n",
            "  adding: content/kinetics/test/target/waking_up.16.mp4 (deflated 1%)\n",
            "  adding: content/kinetics/test/target/waking_up.28.mp4 (deflated 1%)\n",
            "  adding: content/kinetics/test/target/waking_up.27.mp4 (deflated 1%)\n",
            "  adding: content/kinetics/test/target/waking_up.37.mp4 (deflated 1%)\n",
            "  adding: content/kinetics/test/target/waking_up.2.mp4 (deflated 0%)\n",
            "  adding: content/kinetics/test/target/waking_up.44.mp4 (deflated 1%)\n",
            "  adding: content/kinetics/test/target/waking_up.4.mp4 (deflated 1%)\n",
            "  adding: content/kinetics/test/target/waking_up.24.mp4 (deflated 4%)\n",
            "  adding: content/kinetics/test/target/waking_up.35.mp4 (deflated 2%)\n",
            "  adding: content/kinetics/test/target/waking_up.1.mp4 (deflated 1%)\n",
            "  adding: content/kinetics/test/target/waking_up.19.mp4 (deflated 1%)\n",
            "  adding: content/kinetics/test/target/waking_up.6.mp4 (deflated 1%)\n",
            "  adding: content/kinetics/test/target/waking_up.41.mp4 (deflated 1%)\n",
            "  adding: content/kinetics/test/target/waking_up.46.mp4 (deflated 2%)\n",
            "  adding: content/kinetics/test/target/waking_up.20.mp4 (deflated 1%)\n",
            "  adding: content/kinetics/test/target/waking_up.10.mp4 (deflated 0%)\n",
            "  adding: content/kinetics/test/target/waking_up.5.mp4 (deflated 0%)\n",
            "  adding: content/kinetics/test/target/waking_up.14.mp4 (deflated 1%)\n",
            "  adding: content/kinetics/test/target/waking_up.30.mp4 (deflated 1%)\n",
            "  adding: content/kinetics/test/target/waking_up.42.mp4 (deflated 1%)\n",
            "  adding: content/kinetics/test/target/waking_up.34.mp4 (deflated 1%)\n",
            "  adding: content/kinetics/test/target/waking_up.11.mp4 (deflated 0%)\n",
            "  adding: content/kinetics/test/target/waking_up.47.mp4 (deflated 2%)\n",
            "  adding: content/kinetics/test/target/waking_up.31.mp4 (deflated 2%)\n",
            "  adding: content/kinetics/test/target/waking_up.8.mp4 (deflated 1%)\n",
            "  adding: content/kinetics/test/target/waking_up.38.mp4 (deflated 1%)\n",
            "  adding: content/kinetics/test/target/waking_up.36.mp4 (deflated 2%)\n",
            "  adding: content/kinetics/test/target/waking_up.17.mp4 (deflated 0%)\n",
            "  adding: content/kinetics/test/target/waking_up.45.mp4 (deflated 1%)\n",
            "  adding: content/kinetics/test/target/waking_up.40.mp4 (deflated 0%)\n",
            "  adding: content/kinetics/test/target/waking_up.9.mp4 (deflated 0%)\n",
            "  adding: content/kinetics/test/target/waking_up.29.mp4 (deflated 1%)\n",
            "  adding: content/kinetics/test/target/waking_up.32.mp4 (deflated 0%)\n",
            "  adding: content/kinetics/test/target/waking_up.18.mp4 (deflated 1%)\n",
            "  adding: content/kinetics/test/target/waking_up.7.mp4 (deflated 2%)\n",
            "  adding: content/kinetics/test/target/waking_up.21.mp4 (deflated 2%)\n",
            "  adding: content/kinetics/test/target/waking_up.13.mp4 (deflated 0%)\n",
            "  adding: content/kinetics/test/target/waking_up.22.mp4 (deflated 0%)\n",
            "  adding: content/kinetics/test/target/waking_up.33.mp4 (deflated 0%)\n",
            "  adding: content/kinetics/test/target/waking_up.39.mp4 (deflated 1%)\n",
            "  adding: content/kinetics/test/others/ (stored 0%)\n",
            "  adding: content/kinetics/test/others/others2.12.mp4 (deflated 0%)\n",
            "  adding: content/kinetics/test/others/others2.3.mp4 (deflated 0%)\n",
            "  adding: content/kinetics/test/others/others2.39.mp4 (deflated 1%)\n",
            "  adding: content/kinetics/test/others/others2.16.mp4 (deflated 0%)\n",
            "  adding: content/kinetics/test/others/others2.46.mp4 (deflated 0%)\n",
            "  adding: content/kinetics/test/others/others2.43.mp4 (deflated 2%)\n",
            "  adding: content/kinetics/test/others/others2.21.mp4 (deflated 3%)\n",
            "  adding: content/kinetics/test/others/others2.11.mp4 (deflated 0%)\n",
            "  adding: content/kinetics/test/others/others2.27.mp4 (deflated 0%)\n",
            "  adding: content/kinetics/test/others/others2.28.mp4 (deflated 28%)\n",
            "  adding: content/kinetics/test/others/others2.31.mp4 (deflated 0%)\n",
            "  adding: content/kinetics/test/others/others2.7.mp4 (deflated 0%)\n",
            "  adding: content/kinetics/test/others/others2.34.mp4 (deflated 1%)\n",
            "  adding: content/kinetics/test/others/others2.42.mp4 (deflated 0%)\n",
            "  adding: content/kinetics/test/others/others2.8.mp4 (deflated 1%)\n",
            "  adding: content/kinetics/test/others/others2.33.mp4 (deflated 14%)\n",
            "  adding: content/kinetics/test/others/others2.44.mp4 (deflated 1%)\n",
            "  adding: content/kinetics/test/others/others2.9.mp4 (deflated 0%)\n",
            "  adding: content/kinetics/test/others/others2.29.mp4 (deflated 0%)\n",
            "  adding: content/kinetics/test/others/others2.6.mp4 (deflated 1%)\n",
            "  adding: content/kinetics/test/others/others2.25.mp4 (deflated 1%)\n",
            "  adding: content/kinetics/test/others/others2.13.mp4 (deflated 1%)\n",
            "  adding: content/kinetics/test/others/others2.19.mp4 (deflated 1%)\n",
            "  adding: content/kinetics/test/others/others2.10.mp4 (deflated 0%)\n",
            "  adding: content/kinetics/test/others/others2.22.mp4 (deflated 0%)\n",
            "  adding: content/kinetics/test/others/others2.14.mp4 (deflated 1%)\n",
            "  adding: content/kinetics/test/others/others2.20.mp4 (deflated 0%)\n",
            "  adding: content/kinetics/test/others/others2.45.mp4 (deflated 1%)\n",
            "  adding: content/kinetics/test/others/others2.18.mp4 (deflated 1%)\n",
            "  adding: content/kinetics/test/others/others2.5.mp4 (deflated 1%)\n",
            "  adding: content/kinetics/test/others/others2.23.mp4 (deflated 1%)\n",
            "  adding: content/kinetics/test/others/others2.41.mp4 (deflated 1%)\n",
            "  adding: content/kinetics/test/others/others2.30.mp4 (deflated 1%)\n",
            "  adding: content/kinetics/test/others/others2.0.mp4 (deflated 1%)\n",
            "  adding: content/kinetics/test/others/others2.47.mp4 (deflated 0%)\n",
            "  adding: content/kinetics/test/others/others2.26.mp4 (deflated 2%)\n",
            "  adding: content/kinetics/test/others/others2.48.mp4 (deflated 1%)\n",
            "  adding: content/kinetics/test/others/others2.2.mp4 (deflated 12%)\n",
            "  adding: content/kinetics/test/others/others2.35.mp4 (deflated 0%)\n",
            "  adding: content/kinetics/test/others/others2.40.mp4 (deflated 0%)\n",
            "  adding: content/kinetics/test/others/others2.17.mp4 (deflated 0%)\n",
            "  adding: content/kinetics/test/others/others2.36.mp4 (deflated 1%)\n",
            "  adding: content/kinetics/test/others/others2.24.mp4 (deflated 1%)\n",
            "  adding: content/kinetics/test/others/others2.15.mp4 (deflated 0%)\n",
            "  adding: content/kinetics/test/others/others2.32.mp4 (deflated 1%)\n",
            "  adding: content/kinetics/test/others/others2.38.mp4 (deflated 1%)\n",
            "  adding: content/kinetics/test/others/others2.37.mp4 (deflated 1%)\n",
            "  adding: content/kinetics/test/others/others2.1.mp4 (deflated 1%)\n"
          ],
          "name": "stdout"
        }
      ]
    },
    {
      "cell_type": "code",
      "metadata": {
        "colab": {
          "base_uri": "https://localhost:8080/",
          "height": 34
        },
        "id": "syClmN8EBxKQ",
        "outputId": "73eb6b7a-2fa2-4156-91af-ec886714b6a6"
      },
      "source": [
        "from google.colab import files\n",
        "files.download(\"/content/file.zip\")"
      ],
      "execution_count": null,
      "outputs": [
        {
          "output_type": "display_data",
          "data": {
            "application/javascript": [
              "\n",
              "    async function download(id, filename, size) {\n",
              "      if (!google.colab.kernel.accessAllowed) {\n",
              "        return;\n",
              "      }\n",
              "      const div = document.createElement('div');\n",
              "      const label = document.createElement('label');\n",
              "      label.textContent = `Downloading \"${filename}\": `;\n",
              "      div.appendChild(label);\n",
              "      const progress = document.createElement('progress');\n",
              "      progress.max = size;\n",
              "      div.appendChild(progress);\n",
              "      document.body.appendChild(div);\n",
              "\n",
              "      const buffers = [];\n",
              "      let downloaded = 0;\n",
              "\n",
              "      const channel = await google.colab.kernel.comms.open(id);\n",
              "      // Send a message to notify the kernel that we're ready.\n",
              "      channel.send({})\n",
              "\n",
              "      for await (const message of channel.messages) {\n",
              "        // Send a message to notify the kernel that we're ready.\n",
              "        channel.send({})\n",
              "        if (message.buffers) {\n",
              "          for (const buffer of message.buffers) {\n",
              "            buffers.push(buffer);\n",
              "            downloaded += buffer.byteLength;\n",
              "            progress.value = downloaded;\n",
              "          }\n",
              "        }\n",
              "      }\n",
              "      const blob = new Blob(buffers, {type: 'application/binary'});\n",
              "      const a = document.createElement('a');\n",
              "      a.href = window.URL.createObjectURL(blob);\n",
              "      a.download = filename;\n",
              "      div.appendChild(a);\n",
              "      a.click();\n",
              "      div.remove();\n",
              "    }\n",
              "  "
            ],
            "text/plain": [
              "<IPython.core.display.Javascript object>"
            ]
          },
          "metadata": {
            "tags": []
          }
        },
        {
          "output_type": "display_data",
          "data": {
            "application/javascript": [
              "download(\"download_310b69a5-e5f9-4abf-8f5c-4f1d91c4608d\", \"file.zip\", 288333131)"
            ],
            "text/plain": [
              "<IPython.core.display.Javascript object>"
            ]
          },
          "metadata": {
            "tags": []
          }
        }
      ]
    },
    {
      "cell_type": "markdown",
      "metadata": {
        "id": "mPFZIEFLhuf5"
      },
      "source": [
        "# Load videos from Drive + preprocess\n",
        "\n",
        "*   Section all videos frame by frame\n",
        "*   Preprocess videos"
      ]
    },
    {
      "cell_type": "code",
      "metadata": {
        "colab": {
          "base_uri": "https://localhost:8080/"
        },
        "id": "48MoZrifWmEX",
        "outputId": "13326079-1ed6-461a-c048-d11a0b4461af"
      },
      "source": [
        "!pip install keras-video-generators"
      ],
      "execution_count": null,
      "outputs": [
        {
          "output_type": "stream",
          "text": [
            "Collecting keras-video-generators\n",
            "  Downloading https://files.pythonhosted.org/packages/d9/98/ff550be6084b0537f1340783a6850a2f2b62b87273472a56c17ed84bcdb3/keras-video-generators-1.0.14.tar.gz\n",
            "Requirement already satisfied: keras>=2 in /usr/local/lib/python3.7/dist-packages (from keras-video-generators) (2.4.3)\n",
            "Requirement already satisfied: numpy in /usr/local/lib/python3.7/dist-packages (from keras-video-generators) (1.19.5)\n",
            "Requirement already satisfied: opencv-python in /usr/local/lib/python3.7/dist-packages (from keras-video-generators) (4.1.2.30)\n",
            "Requirement already satisfied: matplotlib in /usr/local/lib/python3.7/dist-packages (from keras-video-generators) (3.2.2)\n",
            "Requirement already satisfied: scipy>=0.14 in /usr/local/lib/python3.7/dist-packages (from keras>=2->keras-video-generators) (1.4.1)\n",
            "Requirement already satisfied: pyyaml in /usr/local/lib/python3.7/dist-packages (from keras>=2->keras-video-generators) (3.13)\n",
            "Requirement already satisfied: h5py in /usr/local/lib/python3.7/dist-packages (from keras>=2->keras-video-generators) (2.10.0)\n",
            "Requirement already satisfied: pyparsing!=2.0.4,!=2.1.2,!=2.1.6,>=2.0.1 in /usr/local/lib/python3.7/dist-packages (from matplotlib->keras-video-generators) (2.4.7)\n",
            "Requirement already satisfied: python-dateutil>=2.1 in /usr/local/lib/python3.7/dist-packages (from matplotlib->keras-video-generators) (2.8.1)\n",
            "Requirement already satisfied: kiwisolver>=1.0.1 in /usr/local/lib/python3.7/dist-packages (from matplotlib->keras-video-generators) (1.3.1)\n",
            "Requirement already satisfied: cycler>=0.10 in /usr/local/lib/python3.7/dist-packages (from matplotlib->keras-video-generators) (0.10.0)\n",
            "Requirement already satisfied: six in /usr/local/lib/python3.7/dist-packages (from h5py->keras>=2->keras-video-generators) (1.15.0)\n",
            "Building wheels for collected packages: keras-video-generators\n",
            "  Building wheel for keras-video-generators (setup.py) ... \u001b[?25l\u001b[?25hdone\n",
            "  Created wheel for keras-video-generators: filename=keras_video_generators-1.0.14-cp37-none-any.whl size=12884 sha256=d43828039ab547bd62016fd9d3e3652f1ee9a797def9aa3df4b7acb6dfa5ccaa\n",
            "  Stored in directory: /root/.cache/pip/wheels/20/b7/76/8674d46fc4777c09e5aa7b065d4e356d90f12ec409a6144bbb\n",
            "Successfully built keras-video-generators\n",
            "Installing collected packages: keras-video-generators\n",
            "Successfully installed keras-video-generators-1.0.14\n"
          ],
          "name": "stdout"
        }
      ]
    },
    {
      "cell_type": "code",
      "metadata": {
        "colab": {
          "base_uri": "https://localhost:8080/"
        },
        "id": "O6PZEuJqNe3C",
        "outputId": "2c4b740e-463c-4c67-9a1c-a895fb0ce842"
      },
      "source": [
        "import keras\n",
        "import keras_video.utils\n",
        "from keras_video import VideoFrameGenerator\n",
        "\n",
        "classes = ['target' , 'others']\n",
        "# some global params\n",
        "SIZE = (112, 112)\n",
        "CHANNELS = 3\n",
        "NFRAME = 15\n",
        "BS = 10\n",
        "# pattern to get videos and classes\n",
        "glob_pattern='/content/drive/MyDrive/kinetics/train/{classname}/*.mp4'\n",
        "# Data augmentation\n",
        "data_aug = keras.preprocessing.image.ImageDataGenerator(\n",
        "    zoom_range=.1,\n",
        "    horizontal_flip=True,\n",
        "    rotation_range=8,\n",
        "    width_shift_range=.2,\n",
        "    height_shift_range=.2)\n",
        "# Create video frame generator\n",
        "train = VideoFrameGenerator(\n",
        "    classes=classes, \n",
        "    glob_pattern=glob_pattern,\n",
        "    nb_frames=NFRAME,\n",
        "    split_val=0.2,  # 20% of the videos will be used as validation set. \n",
        "    shuffle=True,\n",
        "    batch_size=BS,\n",
        "    target_shape=SIZE,\n",
        "    nb_channel=CHANNELS,\n",
        "    transformation=data_aug,\n",
        "    use_frame_cache=True)\n",
        "\n",
        "val = train.get_validation_generator()\n",
        "\n",
        "# keras_video.utils.show_sample(train)"
      ],
      "execution_count": null,
      "outputs": [
        {
          "output_type": "stream",
          "text": [
            "class others, validation count: 302, train count: 1212\n",
            "class target, validation count: 296, train count: 1187\n",
            "Total data: 2 classes for 2399 files for train\n",
            "Total data: 2 classes for 598 files for validation\n"
          ],
          "name": "stdout"
        }
      ]
    },
    {
      "cell_type": "markdown",
      "metadata": {
        "id": "XONaB-3Z6Nh1"
      },
      "source": [
        "# Build model and train the network"
      ]
    },
    {
      "cell_type": "markdown",
      "metadata": {
        "id": "I9rR5jU36SKr"
      },
      "source": [
        "## Build model"
      ]
    },
    {
      "cell_type": "code",
      "metadata": {
        "id": "76BbTe2K6UkU",
        "colab": {
          "base_uri": "https://localhost:8080/"
        },
        "outputId": "4eea279d-2715-4da7-d50a-60febbca503e"
      },
      "source": [
        "import keras\n",
        "from keras import backend\n",
        "from keras.layers import TimeDistributed\n",
        "from keras.layers import Conv2D, MaxPool2D\n",
        "from keras.layers import Dense, Dropout\n",
        "from keras.layers import LSTM, GlobalMaxPool2D\n",
        "from keras.models import Sequential\n",
        "from keras.optimizers import Adam, RMSprop\n",
        "from keras.layers import BatchNormalization\n",
        "from keras.utils.vis_utils import plot_model\n",
        "from keras.applications import Xception\n",
        "\n",
        "# The pretrained network we will use\n",
        "conv_base = Xception(weights='imagenet',\n",
        "                  include_top=False,\n",
        "                  input_shape=(112, 112, 3))\n",
        "conv_base.trainable = False\n",
        "\n",
        "def action_model(shape=(NFRAME, 112, 112, 3), outputs=2):\n",
        "    \n",
        "    # Flatten output of conv_base\n",
        "    model0 = Sequential()\n",
        "    model0.add(conv_base)\n",
        "    model0.add(GlobalMaxPool2D())\n",
        "    # Build our model for training\n",
        "    model = Sequential()\n",
        "    model.add(TimeDistributed(model0, input_shape=shape))\n",
        "    # LSTM for time series\n",
        "    model.add(LSTM(64))\n",
        "    # Build the classifier\n",
        "    # model.add(Dense(1024, activation='relu'))\n",
        "    # model.add(Dropout(.5))\n",
        "    model.add(Dense(512, activation='relu'))\n",
        "    model.add(Dropout(.5))\n",
        "    model.add(Dense(128, activation='relu'))\n",
        "    model.add(Dropout(.5))\n",
        "    model.add(Dense(64, activation='relu'))\n",
        "    model.add(Dense(outputs, activation='sigmoid'))\n",
        "    return model\n",
        "\n",
        "INSHAPE=(NFRAME,) + SIZE + (CHANNELS,) # (15, 112, 112, 3)\n",
        "model = action_model(INSHAPE, len(classes))\n",
        "\n",
        "model.summary()\n"
      ],
      "execution_count": null,
      "outputs": [
        {
          "output_type": "stream",
          "text": [
            "Model: \"sequential_1\"\n",
            "_________________________________________________________________\n",
            "Layer (type)                 Output Shape              Param #   \n",
            "=================================================================\n",
            "time_distributed (TimeDistri (None, 15, 2048)          20861480  \n",
            "_________________________________________________________________\n",
            "lstm (LSTM)                  (None, 64)                540928    \n",
            "_________________________________________________________________\n",
            "dense (Dense)                (None, 512)               33280     \n",
            "_________________________________________________________________\n",
            "dropout (Dropout)            (None, 512)               0         \n",
            "_________________________________________________________________\n",
            "dense_1 (Dense)              (None, 128)               65664     \n",
            "_________________________________________________________________\n",
            "dropout_1 (Dropout)          (None, 128)               0         \n",
            "_________________________________________________________________\n",
            "dense_2 (Dense)              (None, 64)                8256      \n",
            "_________________________________________________________________\n",
            "dense_3 (Dense)              (None, 2)                 130       \n",
            "=================================================================\n",
            "Total params: 21,509,738\n",
            "Trainable params: 648,258\n",
            "Non-trainable params: 20,861,480\n",
            "_________________________________________________________________\n"
          ],
          "name": "stdout"
        }
      ]
    },
    {
      "cell_type": "code",
      "metadata": {
        "id": "rUr8FZpt9AFL"
      },
      "source": [
        "optimizer= Adam(lr=1e-4)\n",
        "model.compile(optimizer=optimizer , \n",
        "              loss='binary_crossentropy',\n",
        "              metrics=['accuracy'])"
      ],
      "execution_count": null,
      "outputs": []
    },
    {
      "cell_type": "markdown",
      "metadata": {
        "id": "pUR37Q0c9HfA"
      },
      "source": [
        "## Train the network"
      ]
    },
    {
      "cell_type": "code",
      "metadata": {
        "id": "HiYbzWzB9Lrp",
        "colab": {
          "base_uri": "https://localhost:8080/"
        },
        "outputId": "be0eac87-aa17-4a28-aaff-80d6dfb9ca0e"
      },
      "source": [
        "import time\n",
        "\n",
        "callbacks = [\n",
        "    keras.callbacks.ReduceLROnPlateau(verbose=1),\n",
        "    keras.callbacks.ModelCheckpoint(\n",
        "                     filepath = 'waking_up_Xception_try_2.h5',\n",
        "                     monitor = 'val_loss',\n",
        "                     save_best_only = True,\n",
        "                 ),\n",
        "]\n",
        "\n",
        "start = time.time()\n",
        "history = model.fit(\n",
        "                    train,\n",
        "                    steps_per_epoch = 20,\n",
        "                    #batch_size= 10,\n",
        "                    epochs = 30,\n",
        "                    callbacks=callbacks,\n",
        "                    validation_data= val,\n",
        "                    validation_steps = 10,)\n",
        "finish = time.time()\n",
        "print(\"Total training time: \", finish - start)"
      ],
      "execution_count": null,
      "outputs": [
        {
          "output_type": "stream",
          "text": [
            "Epoch 1/30\n",
            " 7/20 [=========>....................] - ETA: 4:00 - loss: 0.6921 - accuracy: 0.6304"
          ],
          "name": "stdout"
        },
        {
          "output_type": "stream",
          "text": [
            "Frame count is not OK for video /content/drive/MyDrive/Colab Notebooks/Study/CSCE 636/Project1/kinetics/train/target/waking_up. (367).mp4, 0 total, 0 extracted\n"
          ],
          "name": "stderr"
        },
        {
          "output_type": "stream",
          "text": [
            "20/20 [==============================] - 591s 30s/step - loss: 0.6954 - accuracy: 0.5515 - val_loss: 0.6811 - val_accuracy: 0.5500\n",
            "Epoch 2/30\n",
            "20/20 [==============================] - 499s 25s/step - loss: 0.6882 - accuracy: 0.5762 - val_loss: 0.6664 - val_accuracy: 0.7000\n",
            "Epoch 3/30\n",
            " 8/20 [===========>..................] - ETA: 2:58 - loss: 0.6725 - accuracy: 0.6177"
          ],
          "name": "stdout"
        },
        {
          "output_type": "stream",
          "text": [
            "Frame count is not OK for video /content/drive/MyDrive/Colab Notebooks/Study/CSCE 636/Project1/kinetics/train/target/waking_up. (376).mp4, 0 total, 0 extracted\n"
          ],
          "name": "stderr"
        },
        {
          "output_type": "stream",
          "text": [
            "20/20 [==============================] - 435s 22s/step - loss: 0.6681 - accuracy: 0.6287 - val_loss: 0.6510 - val_accuracy: 0.6900\n",
            "Epoch 4/30\n",
            " 2/20 [==>...........................] - ETA: 5:17 - loss: 0.6261 - accuracy: 0.7500"
          ],
          "name": "stdout"
        },
        {
          "output_type": "stream",
          "text": [
            "Frame count is not OK for video /content/drive/MyDrive/Colab Notebooks/Study/CSCE 636/Project1/kinetics/train/others/others2.849.mp4, 0 total, 0 extracted\n"
          ],
          "name": "stderr"
        },
        {
          "output_type": "stream",
          "text": [
            " 7/20 [=========>....................] - ETA: 2:33 - loss: 0.6392 - accuracy: 0.7550"
          ],
          "name": "stdout"
        },
        {
          "output_type": "stream",
          "text": [
            "Frame count is not OK for video /content/drive/MyDrive/Colab Notebooks/Study/CSCE 636/Project1/kinetics/train/others/others2.842.mp4, 0 total, 0 extracted\n"
          ],
          "name": "stderr"
        },
        {
          "output_type": "stream",
          "text": [
            "20/20 [==============================] - ETA: 0s - loss: 0.6393 - accuracy: 0.7136 "
          ],
          "name": "stdout"
        },
        {
          "output_type": "stream",
          "text": [
            "Frame count is not OK for video /content/drive/MyDrive/Colab Notebooks/Study/CSCE 636/Project1/kinetics/train/others/others2.492.mp4, 0 total, 0 extracted\n"
          ],
          "name": "stderr"
        },
        {
          "output_type": "stream",
          "text": [
            "\b\b\b\b\b\b\b\b\b\b\b\b\b\b\b\b\b\b\b\b\b\b\b\b\b\b\b\b\b\b\b\b\b\b\b\b\b\b\b\b\b\b\b\b\b\b\b\b\b\b\b\b\b\b\b\b\b\b\b\b\b\b\b\b\b\b\b\b\b\b\b\b\b\b\b\b\b\b\b\b\b\b\r20/20 [==============================] - 402s 21s/step - loss: 0.6393 - accuracy: 0.7119 - val_loss: 0.6174 - val_accuracy: 0.7576\n",
            "Epoch 5/30\n",
            "17/20 [========================>.....] - ETA: 35s - loss: 0.6396 - accuracy: 0.7180"
          ],
          "name": "stdout"
        },
        {
          "output_type": "stream",
          "text": [
            "Frame count is not OK for video /content/drive/MyDrive/Colab Notebooks/Study/CSCE 636/Project1/kinetics/train/target/waking_up. (160).mp4, 0 total, 0 extracted\n"
          ],
          "name": "stderr"
        },
        {
          "output_type": "stream",
          "text": [
            "20/20 [==============================] - 312s 16s/step - loss: 0.6361 - accuracy: 0.7218 - val_loss: 0.5547 - val_accuracy: 0.8000\n",
            "Epoch 6/30\n",
            "20/20 [==============================] - 286s 14s/step - loss: 0.5955 - accuracy: 0.7658 - val_loss: 0.5482 - val_accuracy: 0.7900\n",
            "Epoch 7/30\n",
            "20/20 [==============================] - 246s 13s/step - loss: 0.5624 - accuracy: 0.7710 - val_loss: 0.4315 - val_accuracy: 0.8700\n",
            "Epoch 8/30\n"
          ],
          "name": "stdout"
        },
        {
          "output_type": "stream",
          "text": [
            "Frame count is not OK for video /content/drive/MyDrive/Colab Notebooks/Study/CSCE 636/Project1/kinetics/train/target/waking_up. (367).mp4, 0 total, 0 extracted\n"
          ],
          "name": "stderr"
        },
        {
          "output_type": "stream",
          "text": [
            " 4/20 [=====>........................] - ETA: 2:07 - loss: 0.5595 - accuracy: 0.7906"
          ],
          "name": "stdout"
        },
        {
          "output_type": "stream",
          "text": [
            "Frame count is not OK for video /content/drive/MyDrive/Colab Notebooks/Study/CSCE 636/Project1/kinetics/train/target/waking_up. (160).mp4, 0 total, 0 extracted\n"
          ],
          "name": "stderr"
        },
        {
          "output_type": "stream",
          "text": [
            "20/20 [==============================] - 254s 13s/step - loss: 0.5309 - accuracy: 0.7766 - val_loss: 0.4456 - val_accuracy: 0.8200\n",
            "Epoch 9/30\n",
            "16/20 [=======================>......] - ETA: 29s - loss: 0.4188 - accuracy: 0.8653"
          ],
          "name": "stdout"
        },
        {
          "output_type": "stream",
          "text": [
            "Frame count is not OK for video /content/drive/MyDrive/Colab Notebooks/Study/CSCE 636/Project1/kinetics/train/target/waking_up. (367).mp4, 0 total, 0 extracted\n"
          ],
          "name": "stderr"
        },
        {
          "output_type": "stream",
          "text": [
            "20/20 [==============================] - ETA: 0s - loss: 0.4168 - accuracy: 0.8643"
          ],
          "name": "stdout"
        },
        {
          "output_type": "stream",
          "text": [
            "Frame count is not OK for video /content/drive/MyDrive/Colab Notebooks/Study/CSCE 636/Project1/kinetics/train/others/others2.492.mp4, 0 total, 0 extracted\n"
          ],
          "name": "stderr"
        },
        {
          "output_type": "stream",
          "text": [
            "\b\b\b\b\b\b\b\b\b\b\b\b\b\b\b\b\b\b\b\b\b\b\b\b\b\b\b\b\b\b\b\b\b\b\b\b\b\b\b\b\b\b\b\b\b\b\b\b\b\b\b\b\b\b\b\b\b\b\b\b\b\b\b\b\b\b\b\b\b\b\b\b\b\b\b\b\b\b\b\b\b\b\r20/20 [==============================] - 225s 11s/step - loss: 0.4167 - accuracy: 0.8636 - val_loss: 0.4401 - val_accuracy: 0.8182\n",
            "Epoch 10/30\n",
            "20/20 [==============================] - 208s 10s/step - loss: 0.4463 - accuracy: 0.8438 - val_loss: 0.3711 - val_accuracy: 0.8600\n",
            "Epoch 11/30\n",
            " 7/20 [=========>....................] - ETA: 1:15 - loss: 0.4538 - accuracy: 0.8067"
          ],
          "name": "stdout"
        },
        {
          "output_type": "stream",
          "text": [
            "Frame count is not OK for video /content/drive/MyDrive/Colab Notebooks/Study/CSCE 636/Project1/kinetics/train/others/others.492.mp4, 0 total, 0 extracted\n"
          ],
          "name": "stderr"
        },
        {
          "output_type": "stream",
          "text": [
            "11/20 [===============>..............] - ETA: 1:01 - loss: 0.4370 - accuracy: 0.8225"
          ],
          "name": "stdout"
        },
        {
          "output_type": "stream",
          "text": [
            "Frame count is not OK for video /content/drive/MyDrive/Colab Notebooks/Study/CSCE 636/Project1/kinetics/train/target/waking_up. (367).mp4, 0 total, 0 extracted\n"
          ],
          "name": "stderr"
        },
        {
          "output_type": "stream",
          "text": [
            "20/20 [==============================] - 185s 9s/step - loss: 0.4172 - accuracy: 0.8381 - val_loss: 0.3427 - val_accuracy: 0.8800\n",
            "Epoch 12/30\n",
            "20/20 [==============================] - 243s 12s/step - loss: 0.4363 - accuracy: 0.8166 - val_loss: 0.3211 - val_accuracy: 0.8700\n",
            "Epoch 13/30\n",
            " 7/20 [=========>....................] - ETA: 1:18 - loss: 0.2872 - accuracy: 0.9157"
          ],
          "name": "stdout"
        },
        {
          "output_type": "stream",
          "text": [
            "Frame count is not OK for video /content/drive/MyDrive/Colab Notebooks/Study/CSCE 636/Project1/kinetics/train/target/waking_up. (160).mp4, 0 total, 0 extracted\n"
          ],
          "name": "stderr"
        },
        {
          "output_type": "stream",
          "text": [
            "20/20 [==============================] - 145s 7s/step - loss: 0.3028 - accuracy: 0.8902 - val_loss: 0.3622 - val_accuracy: 0.8200\n",
            "Epoch 14/30\n",
            "20/20 [==============================] - ETA: 0s - loss: 0.3844 - accuracy: 0.8186"
          ],
          "name": "stdout"
        },
        {
          "output_type": "stream",
          "text": [
            "Frame count is not OK for video /content/drive/MyDrive/Colab Notebooks/Study/CSCE 636/Project1/kinetics/train/target/waking_up.406 (134).mp4, 0 total, 0 extracted\n"
          ],
          "name": "stderr"
        },
        {
          "output_type": "stream",
          "text": [
            "\b\b\b\b\b\b\b\b\b\b\b\b\b\b\b\b\b\b\b\b\b\b\b\b\b\b\b\b\b\b\b\b\b\b\b\b\b\b\b\b\b\b\b\b\b\b\b\b\b\b\b\b\b\b\b\b\b\b\b\b\b\b\b\b\b\b\b\b\b\b\b\b\b\b\b\b\b\b\b\b\b\b\r20/20 [==============================] - 120s 6s/step - loss: 0.3825 - accuracy: 0.8201 - val_loss: 0.3133 - val_accuracy: 0.8586\n",
            "Epoch 15/30\n",
            "20/20 [==============================] - 138s 7s/step - loss: 0.3300 - accuracy: 0.8792 - val_loss: 0.3269 - val_accuracy: 0.9000\n",
            "Epoch 16/30\n",
            "19/20 [===========================>..] - ETA: 5s - loss: 0.3891 - accuracy: 0.8346"
          ],
          "name": "stdout"
        },
        {
          "output_type": "stream",
          "text": [
            "Frame count is not OK for video /content/drive/MyDrive/Colab Notebooks/Study/CSCE 636/Project1/kinetics/train/target/waking_up. (160).mp4, 0 total, 0 extracted\n"
          ],
          "name": "stderr"
        },
        {
          "output_type": "stream",
          "text": [
            "20/20 [==============================] - 110s 6s/step - loss: 0.3886 - accuracy: 0.8351 - val_loss: 0.2895 - val_accuracy: 0.8800\n",
            "Epoch 17/30\n",
            " 6/20 [========>.....................] - ETA: 1:02 - loss: 0.3144 - accuracy: 0.8864"
          ],
          "name": "stdout"
        },
        {
          "output_type": "stream",
          "text": [
            "Frame count is not OK for video /content/drive/MyDrive/Colab Notebooks/Study/CSCE 636/Project1/kinetics/train/others/others2.849.mp4, 0 total, 0 extracted\n"
          ],
          "name": "stderr"
        },
        {
          "output_type": "stream",
          "text": [
            "20/20 [==============================] - ETA: 0s - loss: 0.3670 - accuracy: 0.8584"
          ],
          "name": "stdout"
        },
        {
          "output_type": "stream",
          "text": [
            "Frame count is not OK for video /content/drive/MyDrive/Colab Notebooks/Study/CSCE 636/Project1/kinetics/train/others/others2.492.mp4, 0 total, 0 extracted\n"
          ],
          "name": "stderr"
        },
        {
          "output_type": "stream",
          "text": [
            "\b\b\b\b\b\b\b\b\b\b\b\b\b\b\b\b\b\b\b\b\b\b\b\b\b\b\b\b\b\b\b\b\b\b\b\b\b\b\b\b\b\b\b\b\b\b\b\b\b\b\b\b\b\b\b\b\b\b\b\b\b\b\b\b\b\b\b\b\b\b\b\b\b\b\b\b\b\b\b\b\b\b\r20/20 [==============================] - 125s 6s/step - loss: 0.3673 - accuracy: 0.8573 - val_loss: 0.4090 - val_accuracy: 0.7879\n",
            "Epoch 18/30\n",
            "20/20 [==============================] - ETA: 0s - loss: 0.3470 - accuracy: 0.8804"
          ],
          "name": "stdout"
        },
        {
          "output_type": "stream",
          "text": [
            "Frame count is not OK for video /content/drive/MyDrive/Colab Notebooks/Study/CSCE 636/Project1/kinetics/train/others/others2.492.mp4, 0 total, 0 extracted\n"
          ],
          "name": "stderr"
        },
        {
          "output_type": "stream",
          "text": [
            "\b\b\b\b\b\b\b\b\b\b\b\b\b\b\b\b\b\b\b\b\b\b\b\b\b\b\b\b\b\b\b\b\b\b\b\b\b\b\b\b\b\b\b\b\b\b\b\b\b\b\b\b\b\b\b\b\b\b\b\b\b\b\b\b\b\b\b\b\b\b\b\b\b\b\b\b\b\b\b\b\b\b\r20/20 [==============================] - 86s 4s/step - loss: 0.3462 - accuracy: 0.8797 - val_loss: 0.4062 - val_accuracy: 0.8283\n",
            "Epoch 19/30\n",
            " 2/20 [==>...........................] - ETA: 7s - loss: 0.4386 - accuracy: 0.7750  "
          ],
          "name": "stdout"
        },
        {
          "output_type": "stream",
          "text": [
            "Frame count is not OK for video /content/drive/MyDrive/Colab Notebooks/Study/CSCE 636/Project1/kinetics/train/others/others2.849.mp4, 0 total, 0 extracted\n"
          ],
          "name": "stderr"
        },
        {
          "output_type": "stream",
          "text": [
            " 9/20 [============>.................] - ETA: 29s - loss: 0.4344 - accuracy: 0.7674"
          ],
          "name": "stdout"
        },
        {
          "output_type": "stream",
          "text": [
            "Frame count is not OK for video /content/drive/MyDrive/Colab Notebooks/Study/CSCE 636/Project1/kinetics/train/target/waking_up.406 (388).mp4, 0 total, 0 extracted\n"
          ],
          "name": "stderr"
        },
        {
          "output_type": "stream",
          "text": [
            "14/20 [====================>.........] - ETA: 14s - loss: 0.4244 - accuracy: 0.7866"
          ],
          "name": "stdout"
        },
        {
          "output_type": "stream",
          "text": [
            "Frame count is not OK for video /content/drive/MyDrive/Colab Notebooks/Study/CSCE 636/Project1/kinetics/train/target/baby_waking_up.314.mp4, 8 total, 7 extracted\n"
          ],
          "name": "stderr"
        },
        {
          "output_type": "stream",
          "text": [
            "20/20 [==============================] - ETA: 0s - loss: 0.4129 - accuracy: 0.7997"
          ],
          "name": "stdout"
        },
        {
          "output_type": "stream",
          "text": [
            "Frame count is not OK for video /content/drive/MyDrive/Colab Notebooks/Study/CSCE 636/Project1/kinetics/train/others/others2.492.mp4, 0 total, 0 extracted\n"
          ],
          "name": "stderr"
        },
        {
          "output_type": "stream",
          "text": [
            "\b\b\b\b\b\b\b\b\b\b\b\b\b\b\b\b\b\b\b\b\b\b\b\b\b\b\b\b\b\b\b\b\b\b\b\b\b\b\b\b\b\b\b\b\b\b\b\b\b\b\b\b\b\b\b\b\b\b\b\b\b\b\b\b\b\b\b\b\b\b\b\b\b\b\b\b\b\b\b\b\b\b\r20/20 [==============================] - 63s 3s/step - loss: 0.4110 - accuracy: 0.8013 - val_loss: 0.2938 - val_accuracy: 0.8889\n",
            "Epoch 20/30\n",
            "20/20 [==============================] - ETA: 0s - loss: 0.4289 - accuracy: 0.8060"
          ],
          "name": "stdout"
        },
        {
          "output_type": "stream",
          "text": [
            "Frame count is not OK for video /content/drive/MyDrive/Colab Notebooks/Study/CSCE 636/Project1/kinetics/train/others/others2.492.mp4, 0 total, 0 extracted\n"
          ],
          "name": "stderr"
        },
        {
          "output_type": "stream",
          "text": [
            "\b\b\b\b\b\b\b\b\b\b\b\b\b\b\b\b\b\b\b\b\b\b\b\b\b\b\b\b\b\b\b\b\b\b\b\b\b\b\b\b\b\b\b\b\b\b\b\b\b\b\b\b\b\b\b\b\b\b\b\b\b\b\b\b\b\b\b\b\b\b\b\b\b\b\b\b\b\b\b\b\b\b\r20/20 [==============================] - 67s 3s/step - loss: 0.4268 - accuracy: 0.8069 - val_loss: 0.4370 - val_accuracy: 0.8283\n",
            "Epoch 21/30\n",
            " 2/20 [==>...........................] - ETA: 7s - loss: 0.1797 - accuracy: 0.9000 "
          ],
          "name": "stdout"
        },
        {
          "output_type": "stream",
          "text": [
            "Frame count is not OK for video /content/drive/MyDrive/Colab Notebooks/Study/CSCE 636/Project1/kinetics/train/target/waking_up. (160).mp4, 0 total, 0 extracted\n"
          ],
          "name": "stderr"
        },
        {
          "output_type": "stream",
          "text": [
            " 6/20 [========>.....................] - ETA: 14s - loss: 0.2206 - accuracy: 0.8919"
          ],
          "name": "stdout"
        },
        {
          "output_type": "stream",
          "text": [
            "Frame count is not OK for video /content/drive/MyDrive/Colab Notebooks/Study/CSCE 636/Project1/kinetics/train/target/waking_up. (376).mp4, 0 total, 0 extracted\n"
          ],
          "name": "stderr"
        },
        {
          "output_type": "stream",
          "text": [
            "20/20 [==============================] - ETA: 0s - loss: 0.2586 - accuracy: 0.8859"
          ],
          "name": "stdout"
        },
        {
          "output_type": "stream",
          "text": [
            "Frame count is not OK for video /content/drive/MyDrive/Colab Notebooks/Study/CSCE 636/Project1/kinetics/train/others/others2.492.mp4, 0 total, 0 extracted\n"
          ],
          "name": "stderr"
        },
        {
          "output_type": "stream",
          "text": [
            "\b\b\b\b\b\b\b\b\b\b\b\b\b\b\b\b\b\b\b\b\b\b\b\b\b\b\b\b\b\b\b\b\b\b\b\b\b\b\b\b\b\b\b\b\b\b\b\b\b\b\b\b\b\b\b\b\b\b\b\b\b\b\b\b\b\b\b\b\b\b\b\b\b\b\b\b\b\b\b\b\b\b\r20/20 [==============================] - 51s 3s/step - loss: 0.2596 - accuracy: 0.8858 - val_loss: 0.2549 - val_accuracy: 0.9091\n",
            "Epoch 22/30\n",
            " 1/20 [>.............................] - ETA: 51s - loss: 0.1152 - accuracy: 1.0000"
          ],
          "name": "stdout"
        },
        {
          "output_type": "stream",
          "text": [
            "Frame count is not OK for video /content/drive/MyDrive/Colab Notebooks/Study/CSCE 636/Project1/kinetics/train/target/baby_waking_up.314.mp4, 8 total, 7 extracted\n"
          ],
          "name": "stderr"
        },
        {
          "output_type": "stream",
          "text": [
            "20/20 [==============================] - ETA: 0s - loss: 0.3097 - accuracy: 0.8860"
          ],
          "name": "stdout"
        },
        {
          "output_type": "stream",
          "text": [
            "Frame count is not OK for video /content/drive/MyDrive/Colab Notebooks/Study/CSCE 636/Project1/kinetics/train/others/others2.492.mp4, 0 total, 0 extracted\n"
          ],
          "name": "stderr"
        },
        {
          "output_type": "stream",
          "text": [
            "\b\b\b\b\b\b\b\b\b\b\b\b\b\b\b\b\b\b\b\b\b\b\b\b\b\b\b\b\b\b\b\b\b\b\b\b\b\b\b\b\b\b\b\b\b\b\b\b\b\b\b\b\b\b\b\b\b\b\b\b\b\b\b\b\b\b\b\b\b\b\b\b\b\b\b\b\b\b\b\b\b\b\r20/20 [==============================] - 57s 3s/step - loss: 0.3100 - accuracy: 0.8859 - val_loss: 0.3607 - val_accuracy: 0.8586\n",
            "Epoch 23/30\n",
            "20/20 [==============================] - 47s 2s/step - loss: 0.2436 - accuracy: 0.8920 - val_loss: 0.2982 - val_accuracy: 0.8800\n",
            "Epoch 24/30\n",
            "14/20 [====================>.........] - ETA: 22s - loss: 0.3096 - accuracy: 0.8686"
          ],
          "name": "stdout"
        },
        {
          "output_type": "stream",
          "text": [
            "Frame count is not OK for video /content/drive/MyDrive/Colab Notebooks/Study/CSCE 636/Project1/kinetics/train/others/others2.849.mp4, 0 total, 0 extracted\n"
          ],
          "name": "stderr"
        },
        {
          "output_type": "stream",
          "text": [
            "20/20 [==============================] - 91s 4s/step - loss: 0.3225 - accuracy: 0.8688 - val_loss: 0.3089 - val_accuracy: 0.8700\n",
            "Epoch 25/30\n",
            "20/20 [==============================] - ETA: 0s - loss: 0.2915 - accuracy: 0.8856"
          ],
          "name": "stdout"
        },
        {
          "output_type": "stream",
          "text": [
            "Frame count is not OK for video /content/drive/MyDrive/Colab Notebooks/Study/CSCE 636/Project1/kinetics/train/others/others2.492.mp4, 0 total, 0 extracted\n"
          ],
          "name": "stderr"
        },
        {
          "output_type": "stream",
          "text": [
            "\b\b\b\b\b\b\b\b\b\b\b\b\b\b\b\b\b\b\b\b\b\b\b\b\b\b\b\b\b\b\b\b\b\b\b\b\b\b\b\b\b\b\b\b\b\b\b\b\b\b\b\b\b\b\b\b\b\b\b\b\b\b\b\b\b\b\b\b\b\b\b\b\b\b\b\b\b\b\b\b\b\b\r20/20 [==============================] - 72s 3s/step - loss: 0.2920 - accuracy: 0.8853 - val_loss: 0.2396 - val_accuracy: 0.8990\n",
            "Epoch 26/30\n",
            "20/20 [==============================] - 53s 3s/step - loss: 0.3860 - accuracy: 0.8236 - val_loss: 0.3007 - val_accuracy: 0.8900\n",
            "Epoch 27/30\n",
            " 8/20 [===========>..................] - ETA: 51s - loss: 0.3134 - accuracy: 0.8671"
          ],
          "name": "stdout"
        },
        {
          "output_type": "stream",
          "text": [
            "Frame count is not OK for video /content/drive/MyDrive/Colab Notebooks/Study/CSCE 636/Project1/kinetics/train/others/others2.849.mp4, 0 total, 0 extracted\n"
          ],
          "name": "stderr"
        },
        {
          "output_type": "stream",
          "text": [
            "20/20 [==============================] - 48s 3s/step - loss: 0.3185 - accuracy: 0.8560 - val_loss: 0.3120 - val_accuracy: 0.8700\n",
            "Epoch 28/30\n",
            " 7/20 [=========>....................] - ETA: 32s - loss: 0.3842 - accuracy: 0.8880"
          ],
          "name": "stdout"
        },
        {
          "output_type": "stream",
          "text": [
            "Frame count is not OK for video /content/drive/MyDrive/Colab Notebooks/Study/CSCE 636/Project1/kinetics/train/target/baby_waking_up.314.mp4, 8 total, 7 extracted\n"
          ],
          "name": "stderr"
        },
        {
          "output_type": "stream",
          "text": [
            "20/20 [==============================] - 29s 1s/step - loss: 0.3921 - accuracy: 0.8512 - val_loss: 0.2651 - val_accuracy: 0.8900\n",
            "Epoch 29/30\n",
            " 8/20 [===========>..................] - ETA: 56s - loss: 0.2829 - accuracy: 0.8950"
          ],
          "name": "stdout"
        },
        {
          "output_type": "stream",
          "text": [
            "Frame count is not OK for video /content/drive/MyDrive/Colab Notebooks/Study/CSCE 636/Project1/kinetics/train/target/waking_up. (367).mp4, 0 total, 0 extracted\n"
          ],
          "name": "stderr"
        },
        {
          "output_type": "stream",
          "text": [
            "18/20 [==========================>...] - ETA: 4s - loss: 0.3191 - accuracy: 0.8722"
          ],
          "name": "stdout"
        },
        {
          "output_type": "stream",
          "text": [
            "Frame count is not OK for video /content/drive/MyDrive/Colab Notebooks/Study/CSCE 636/Project1/kinetics/train/target/waking_up. (376).mp4, 0 total, 0 extracted\n"
          ],
          "name": "stderr"
        },
        {
          "output_type": "stream",
          "text": [
            "20/20 [==============================] - ETA: 0s - loss: 0.3206 - accuracy: 0.8703"
          ],
          "name": "stdout"
        },
        {
          "output_type": "stream",
          "text": [
            "Frame count is not OK for video /content/drive/MyDrive/Colab Notebooks/Study/CSCE 636/Project1/kinetics/train/others/others2.492.mp4, 0 total, 0 extracted\n"
          ],
          "name": "stderr"
        },
        {
          "output_type": "stream",
          "text": [
            "\b\b\b\b\b\b\b\b\b\b\b\b\b\b\b\b\b\b\b\b\b\b\b\b\b\b\b\b\b\b\b\b\b\b\b\b\b\b\b\b\b\b\b\b\b\b\b\b\b\b\b\b\b\b\b\b\b\b\b\b\b\b\b\b\b\b\b\b\b\b\b\b\b\b\b\b\b\b\b\b\b\b\r20/20 [==============================] - 46s 2s/step - loss: 0.3215 - accuracy: 0.8692 - val_loss: 0.3565 - val_accuracy: 0.8485\n",
            "Epoch 30/30\n",
            "20/20 [==============================] - ETA: 0s - loss: 0.3382 - accuracy: 0.8336"
          ],
          "name": "stdout"
        },
        {
          "output_type": "stream",
          "text": [
            "Frame count is not OK for video /content/drive/MyDrive/Colab Notebooks/Study/CSCE 636/Project1/kinetics/train/target/waking_up.406 (134).mp4, 0 total, 0 extracted\n"
          ],
          "name": "stderr"
        },
        {
          "output_type": "stream",
          "text": [
            "\b\b\b\b\b\b\b\b\b\b\b\b\b\b\b\b\b\b\b\b\b\b\b\b\b\b\b\b\b\b\b\b\b\b\b\b\b\b\b\b\b\b\b\b\b\b\b\b\b\b\b\b\b\b\b\b\b\b\b\b\b\b\b\b\b\b\b\b\b\b\b\b\b\b\b\b\b\b\b\b\b\b\r20/20 [==============================] - 31s 2s/step - loss: 0.3370 - accuracy: 0.8344 - val_loss: 0.4140 - val_accuracy: 0.8283\n"
          ],
          "name": "stdout"
        }
      ]
    },
    {
      "cell_type": "markdown",
      "metadata": {
        "id": "-7Bv-AXz9Rb3"
      },
      "source": [
        "Plot the learning curve"
      ]
    },
    {
      "cell_type": "code",
      "metadata": {
        "id": "OiDWWm0r9Tf_",
        "colab": {
          "base_uri": "https://localhost:8080/",
          "height": 545
        },
        "outputId": "6debedb3-e9d6-4ea8-acb2-e0d7beaace11"
      },
      "source": [
        "import matplotlib.pyplot as plt\n",
        "acc = history.history['accuracy']\n",
        "val_acc = history.history['val_accuracy']\n",
        "loss = history.history['loss']\n",
        "val_loss = history.history['val_loss']\n",
        "\n",
        "epochs = range(len(acc))\n",
        "\n",
        "plt.plot(epochs, acc, 'bo', label='Training acc')\n",
        "plt.plot(epochs, val_acc, 'b', label='Validation acc')\n",
        "plt.title('Training and validation accuracy')\n",
        "plt.grid(axis='both')\n",
        "plt.legend()\n",
        "\n",
        "plt.figure()\n",
        "\n",
        "plt.plot(epochs, loss, 'bo', label='Training loss')\n",
        "plt.plot(epochs, val_loss, 'b', label='Validation loss')\n",
        "plt.title('Training and validation loss')\n",
        "plt.grid(axis='both')\n",
        "plt.legend()\n",
        "\n",
        "plt.show()"
      ],
      "execution_count": null,
      "outputs": [
        {
          "output_type": "display_data",
          "data": {
            "image/png": "[encoded data removed]",
            "text/plain": [
              "<Figure size 432x288 with 1 Axes>"
            ]
          },
          "metadata": {
            "tags": [],
            "needs_background": "light"
          }
        },
        {
          "output_type": "display_data",
          "data": {
            "image/png": "[encoded data removed]",
            "text/plain": [
              "<Figure size 432x288 with 1 Axes>"
            ]
          },
          "metadata": {
            "tags": [],
            "needs_background": "light"
          }
        }
      ]
    },
    {
      "cell_type": "markdown",
      "metadata": {
        "id": "EhGAXD6gdn4c"
      },
      "source": [
        "# Test on test set"
      ]
    },
    {
      "cell_type": "code",
      "metadata": {
        "colab": {
          "base_uri": "https://localhost:8080/"
        },
        "id": "KG4LgeL-c_Um",
        "outputId": "c0e00110-e19e-4f1f-915f-8fe3da452762"
      },
      "source": [
        "from keras_video import VideoFrameGenerator\n",
        "\n",
        "classes = ['target' , 'others']\n",
        "# some global params\n",
        "SIZE = (112, 112)\n",
        "CHANNELS = 3\n",
        "NFRAME = 15\n",
        "BS = 10\n",
        "# pattern to get videos and classes\n",
        "glob_pattern='/content/drive/MyDrive/kinetics/test/{classname}/*.mp4'\n",
        "\n",
        "# Create video frame generator\n",
        "test = VideoFrameGenerator(\n",
        "    classes=classes, \n",
        "    glob_pattern=glob_pattern,\n",
        "    nb_frames=NFRAME,\n",
        "    shuffle=False,\n",
        "    batch_size=BS,\n",
        "    target_shape=SIZE,\n",
        "    nb_channel=CHANNELS,\n",
        "    use_frame_cache=True)"
      ],
      "execution_count": null,
      "outputs": [
        {
          "output_type": "stream",
          "text": [
            "Total data: 2 classes for 189 files for train\n"
          ],
          "name": "stdout"
        }
      ]
    },
    {
      "cell_type": "code",
      "metadata": {
        "colab": {
          "base_uri": "https://localhost:8080/"
        },
        "id": "Kx0UCDcwdhEY",
        "outputId": "fdd2899c-a78a-46dc-cdfa-1d246ec41a8c"
      },
      "source": [
        "model.evaluate(test)"
      ],
      "execution_count": null,
      "outputs": [
        {
          "output_type": "stream",
          "text": [
            "18/18 [==============================] - 4s 159ms/step - loss: 0.3291 - accuracy: 0.8889\n"
          ],
          "name": "stdout"
        },
        {
          "output_type": "execute_result",
          "data": {
            "text/plain": [
              "[0.3290700614452362, 0.8888888955116272]"
            ]
          },
          "metadata": {
            "tags": []
          },
          "execution_count": 18
        }
      ]
    },
    {
      "cell_type": "code",
      "metadata": {
        "id": "EHnVGWpRe-Et"
      },
      "source": [
        ""
      ],
      "execution_count": null,
      "outputs": []
    }
  ]
}