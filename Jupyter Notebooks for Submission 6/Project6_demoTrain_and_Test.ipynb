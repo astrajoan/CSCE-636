{
  "nbformat": 4,
  "nbformat_minor": 0,
  "metadata": {
    "colab": {
      "name": "Project6_demoTrain_and_Test.ipynb",
      "provenance": [],
      "collapsed_sections": [],
      "toc_visible": true
    },
    "kernelspec": {
      "name": "python3",
      "display_name": "Python 3"
    }
  },
  "cells": [
    {
      "cell_type": "markdown",
      "metadata": {
        "id": "UrpLd7Rq-DIR"
      },
      "source": [
        "# Load dataset"
      ]
    },
    {
      "cell_type": "code",
      "metadata": {
        "id": "Ak9mVhjHVhV5",
        "colab": {
          "base_uri": "https://localhost:8080/"
        },
        "outputId": "91d0c385-b48c-4290-ca82-510251eb86b1"
      },
      "source": [
        "!wget https://storage.googleapis.com/deepmind-media/Datasets/kinetics700_2020.tar.gz"
      ],
      "execution_count": null,
      "outputs": [
        {
          "output_type": "stream",
          "text": [
            "--2021-02-27 19:30:08--  https://storage.googleapis.com/deepmind-media/Datasets/kinetics700_2020.tar.gz\n",
            "Resolving storage.googleapis.com (storage.googleapis.com)... 64.233.189.128, 108.177.125.128, 74.125.203.128, ...\n",
            "Connecting to storage.googleapis.com (storage.googleapis.com)|64.233.189.128|:443... connected.\n",
            "HTTP request sent, awaiting response... 200 OK\n",
            "Length: 25342182 (24M) [application/x-gzip]\n",
            "Saving to: ‘kinetics700_2020.tar.gz’\n",
            "\n",
            "kinetics700_2020.ta 100%[===================>]  24.17M  49.1MB/s    in 0.5s    \n",
            "\n",
            "2021-02-27 19:30:09 (49.1 MB/s) - ‘kinetics700_2020.tar.gz’ saved [25342182/25342182]\n",
            "\n"
          ],
          "name": "stdout"
        }
      ]
    },
    {
      "cell_type": "code",
      "metadata": {
        "id": "jzGaEBpHVxT8"
      },
      "source": [
        "import tarfile\n",
        "\n",
        "tar = tarfile.open('kinetics700_2020.tar.gz', \"r:gz\")\n",
        "tar.extractall()\n",
        "tar.close()"
      ],
      "execution_count": null,
      "outputs": []
    },
    {
      "cell_type": "markdown",
      "metadata": {
        "id": "2a2ie2Tc2XqB"
      },
      "source": [
        "[ERROR: IOPub data rate exceeded](https://stackoverflow.com/questions/50689784/in-google-collab-i-get-iopub-data-rate-exceeded)\n",
        "\n",
        "[CSV](https://www.programiz.com/python-programming/reading-csv-files)"
      ]
    },
    {
      "cell_type": "code",
      "metadata": {
        "colab": {
          "base_uri": "https://localhost:8080/"
        },
        "id": "3zoPP0NDWDZ7",
        "outputId": "bd5719d2-234b-4800-e80e-096f86ab7ce4"
      },
      "source": [
        "import os\n",
        "import csv\n",
        "import numpy as np\n",
        "\n",
        "file_path = '/content/kinetics700_2020'\n",
        "\n",
        "data_train = []\n",
        "label_train = []\n",
        "data_test = []\n",
        "label_test = []\n",
        "\n",
        "fname = 'train.csv'\n",
        "with open(os.path.join(file_path,fname)) as file:\n",
        "  reader = csv.reader(file)\n",
        "  for i,row in enumerate(reader):\n",
        "    if i == 0: # Ignore the header\n",
        "      continue\n",
        "    else:\n",
        "      dict_temp = {'url': row[1], 'time': list(map(float,row[2:4]))}\n",
        "      data_train.append(dict_temp)\n",
        "      label_train.append(row[0])\n",
        "    \n",
        "# Print the first 10 elements\n",
        "print(data_train[:10])\n",
        "print(label_train[:10])\n",
        "\n",
        "\n",
        "# Use validation dataset as test set\n",
        "fname = 'validate.csv'\n",
        "with open(os.path.join(file_path,fname)) as file:\n",
        "  reader = csv.reader(file)\n",
        "  for i,row in enumerate(reader):\n",
        "    if i == 0:\n",
        "      continue\n",
        "    else:\n",
        "      dict_temp = {'url': row[1], 'time': list(map(float,row[2:4]))}\n",
        "      data_test.append(dict_temp)\n",
        "      label_test.append(row[0])\n",
        "\n",
        "label_train = np.array(label_train)\n",
        "label_test = np.array(label_test)"
      ],
      "execution_count": null,
      "outputs": [
        {
          "output_type": "stream",
          "text": [
            "[{'url': '---0dWlqevI', 'time': [19.0, 29.0]}, {'url': '---aQ-tA5_A', 'time': [9.0, 19.0]}, {'url': '---j12rm3WI', 'time': [14.0, 24.0]}, {'url': '--07WQ2iBlw', 'time': [1.0, 11.0]}, {'url': '--0NTAs-fA0', 'time': [29.0, 39.0]}, {'url': '--0l35AkU34', 'time': [68.0, 78.0]}, {'url': '--33Lscn6sk', 'time': [4.0, 14.0]}, {'url': '--3OAstUWtU', 'time': [45.0, 55.0]}, {'url': '--3lTx87ebQ', 'time': [23.0, 33.0]}, {'url': '--3ouPhoy2A', 'time': [20.0, 30.0]}]\n",
            "['clay pottery making', 'news anchoring', 'using bagging machine', 'javelin throw', 'climbing a rope', 'sipping cup', 'flipping pancake', 'tickling', 'watering plants', 'eating spaghetti']\n"
          ],
          "name": "stdout"
        }
      ]
    },
    {
      "cell_type": "markdown",
      "metadata": {
        "id": "J3qSkVYySGw_"
      },
      "source": [
        "# Action: doing nails\n"
      ]
    },
    {
      "cell_type": "code",
      "metadata": {
        "id": "yJc24C3VOJP5"
      },
      "source": [
        "'''\n",
        "  We are NOT modifying the stored original train data and train label,\n",
        "\n",
        "  data_train, label_train,\n",
        "\n",
        "  only working with indices and save the result to new arrays or lists\n",
        "'''\n",
        "\n",
        "target_label = 'cutting nails' # Doing nails\n",
        "\n",
        "# Get indices of 'cutting nails' in training set\n",
        "indices = np.where(label_train == target_label)[0]\n",
        "\n",
        "\n",
        "train_raw = [] # Store raw info of train data: url & time\n",
        "y_train = [] # Store train data labels\n",
        "\n",
        "for idx in indices:\n",
        "  train_raw.append(data_train[idx]) # Target class raw info\n",
        "  y_train.append(1) # Target class label = 1\n",
        "\n",
        "np.random.seed(0)\n",
        "# Randomly shuffle the indices of all training data\n",
        "shuffled_indices_total = np.random.permutation(len(data_train))\n",
        "# Delete the indices of 'cutting nails' in training set\n",
        "shuffled_indices_0 = shuffled_indices_total[~np.isin(\n",
        "    shuffled_indices_total,indices\n",
        ")]\n",
        "\n",
        "\n",
        "# Append the rest of the training samples to train_raw,\n",
        "# equal number of label 0 as label 1 (target)\n",
        "# Indices already shuffled, so this is in random order\n",
        "for i in range(len(indices)):\n",
        "  train_raw.append(data_train[shuffled_indices_0[i]])\n",
        "  y_train.append(0)\n",
        "\n",
        "'''\n",
        "  Do the same thing for test set\n",
        "'''\n",
        "indices_test = np.where(label_test == target_label)[0]\n",
        "\n",
        "test_raw = []\n",
        "y_test = []\n",
        "\n",
        "# Target class in validation set\n",
        "for idx in indices_test:\n",
        "  test_raw.append(data_test[idx])\n",
        "  y_test.append(1)\n",
        "\n",
        "np.random.seed(0)\n",
        "shuffled_indices_test = np.random.permutation(len(data_test))\n",
        "shuffled_indices_test_0 = shuffled_indices_test[~np.isin(\n",
        "    shuffled_indices_test,indices_test\n",
        ")]\n",
        "\n",
        "\n",
        "for i in range(len(indices_test)):\n",
        "  test_raw.append(data_test[shuffled_indices_test_0[i]])\n",
        "  y_test.append(0)"
      ],
      "execution_count": null,
      "outputs": []
    },
    {
      "cell_type": "code",
      "metadata": {
        "id": "rL8zaJOANsVA",
        "colab": {
          "base_uri": "https://localhost:8080/"
        },
        "outputId": "70a3a15d-1a90-49fe-aaf9-7db472ada3c7"
      },
      "source": [
        "!pip install --upgrade youtube_dl"
      ],
      "execution_count": null,
      "outputs": [
        {
          "output_type": "stream",
          "text": [
            "Collecting youtube_dl\n",
            "\u001b[?25l  Downloading https://files.pythonhosted.org/packages/4e/fe/8d11d7a778633441efa68f1a0bd5fbfcd79e31cb0ef7f20acb8d5c4498db/youtube_dl-2021.2.22-py2.py3-none-any.whl (1.9MB)\n",
            "\u001b[K     |████████████████████████████████| 1.9MB 5.3MB/s \n",
            "\u001b[?25hInstalling collected packages: youtube-dl\n",
            "Successfully installed youtube-dl-2021.2.22\n"
          ],
          "name": "stdout"
        }
      ]
    },
    {
      "cell_type": "markdown",
      "metadata": {
        "id": "kXh3BJ8So-ux"
      },
      "source": [
        "Make directory for the Kinetics dataset"
      ]
    },
    {
      "cell_type": "code",
      "metadata": {
        "id": "tyjaC3o6mt94"
      },
      "source": [
        "import os\n",
        "\n",
        "# Directory for the Kinetics dataset\n",
        "kinetics_dir = '/content/kinetics'\n",
        "os.mkdir(kinetics_dir)\n",
        "\n",
        "# Directory for train and test set for Kinetics\n",
        "train_dir = os.path.join(kinetics_dir,'train')\n",
        "os.mkdir(train_dir)\n",
        "test_dir = os.path.join(kinetics_dir,'test')\n",
        "os.mkdir(test_dir)\n",
        "\n",
        "# Directory for target and supplementary classes\n",
        "train_target_dir = os.path.join(train_dir,'target')\n",
        "os.mkdir(train_target_dir)\n",
        "train_others_dir = os.path.join(train_dir,'others')\n",
        "os.mkdir(train_others_dir)\n",
        "test_target_dir = os.path.join(test_dir,'target')\n",
        "os.mkdir(test_target_dir)\n",
        "test_others_dir = os.path.join(test_dir,'others')\n",
        "os.mkdir(test_others_dir)"
      ],
      "execution_count": null,
      "outputs": []
    },
    {
      "cell_type": "markdown",
      "metadata": {
        "id": "24pMbAMKwKMj"
      },
      "source": [
        "Import specific part of video from YouTube"
      ]
    },
    {
      "cell_type": "code",
      "metadata": {
        "id": "VKFmf1fI2HX-"
      },
      "source": [
        "import youtube_dl, subprocess\n",
        "import datetime\n",
        "import time\n",
        "\n",
        "'''\n",
        "  Training and validation set\n",
        "'''\n",
        "\n",
        "for i, info in enumerate(train_raw):\n",
        "  if info['url'][0] != '=':\n",
        "    info['url'] = '=' + info['url']\n",
        "  \n",
        "  URL = 'https://www.youtube.com/watch?v' + info['url'] # url of YouTube video\n",
        "  FROM = str(datetime.timedelta(seconds=info['time'][0]))\n",
        "  LENGTH = str(datetime.timedelta(seconds=(info['time'][1]-info['time'][0])))\n",
        "  if y_train[i] == 1:\n",
        "    TARGET = os.path.join(train_target_dir,\"target.{}.mp4\".format(i))\n",
        "  else:\n",
        "    TARGET = os.path.join(train_others_dir,\"others.{}.mp4\".format(\n",
        "        i - y_train.count(1)\n",
        "    ))\n",
        "  \n",
        "  with youtube_dl.YoutubeDL({'format': 'best'}) as ydl:\n",
        "    try:\n",
        "      result = ydl.extract_info(URL, download=False)\n",
        "      video = result['entries'][0] if 'entries' in result else result\n",
        "    except:\n",
        "      continue\n",
        "    \n",
        "  url = video['url']\n",
        "  time.sleep(1)\n",
        "  subprocess.call(['ffmpeg', '-i', url, '-ss', FROM, '-t', LENGTH, \n",
        "                   '-c:v', 'copy', '-c:a', 'copy', TARGET,])  \n"
      ],
      "execution_count": null,
      "outputs": []
    },
    {
      "cell_type": "code",
      "metadata": {
        "id": "elFSVixMS9i7"
      },
      "source": [
        "import youtube_dl, subprocess\n",
        "import datetime\n",
        "\n",
        "'''\n",
        "  Test set\n",
        "'''\n",
        "for i, info in enumerate(test_raw):\n",
        "  if info['url'][0] != '=':\n",
        "    info['url'] = '=' + info['url']\n",
        "  \n",
        "  URL = 'https://www.youtube.com/watch?v' + info['url'] # url of YouTube video\n",
        "  FROM = str(datetime.timedelta(seconds=info['time'][0]))\n",
        "  LENGTH = str(datetime.timedelta(seconds=(info['time'][1]-info['time'][0])))\n",
        "  if y_test[i] == 1:\n",
        "    TARGET = os.path.join(test_target_dir,\"target.{}.mp4\".format(i))\n",
        "  else:\n",
        "    TARGET = os.path.join(test_others_dir,\"others.{}.mp4\".format(\n",
        "        i - y_test.count(1)\n",
        "    ))\n",
        "  \n",
        "  with youtube_dl.YoutubeDL({'format': 'best'}) as ydl:\n",
        "    try:\n",
        "      result = ydl.extract_info(URL, download=False)\n",
        "      video = result['entries'][0] if 'entries' in result else result\n",
        "    except:\n",
        "      continue\n",
        "    \n",
        "  url = video['url']\n",
        "  subprocess.call(['ffmpeg', '-i', url, '-ss', FROM, '-t', LENGTH, \n",
        "                   '-c:v', 'copy', '-c:a', 'copy', TARGET,])  "
      ],
      "execution_count": null,
      "outputs": []
    },
    {
      "cell_type": "markdown",
      "metadata": {
        "id": "DAtsUBZTBhB_"
      },
      "source": [
        "Download videos from Google Colab"
      ]
    },
    {
      "cell_type": "code",
      "metadata": {
        "id": "JeyaGW-iBkUB"
      },
      "source": [
        "!zip -r /content/file.zip /content/kinetics"
      ],
      "execution_count": null,
      "outputs": []
    },
    {
      "cell_type": "code",
      "metadata": {
        "colab": {
          "base_uri": "https://localhost:8080/",
          "height": 17
        },
        "id": "syClmN8EBxKQ",
        "outputId": "5ee02732-24b3-447a-cce9-de9e8dd8a503"
      },
      "source": [
        "from google.colab import files\n",
        "files.download(\"/content/file.zip\")"
      ],
      "execution_count": null,
      "outputs": [
        {
          "output_type": "display_data",
          "data": {
            "application/javascript": [
              "\n",
              "    async function download(id, filename, size) {\n",
              "      if (!google.colab.kernel.accessAllowed) {\n",
              "        return;\n",
              "      }\n",
              "      const div = document.createElement('div');\n",
              "      const label = document.createElement('label');\n",
              "      label.textContent = `Downloading \"${filename}\": `;\n",
              "      div.appendChild(label);\n",
              "      const progress = document.createElement('progress');\n",
              "      progress.max = size;\n",
              "      div.appendChild(progress);\n",
              "      document.body.appendChild(div);\n",
              "\n",
              "      const buffers = [];\n",
              "      let downloaded = 0;\n",
              "\n",
              "      const channel = await google.colab.kernel.comms.open(id);\n",
              "      // Send a message to notify the kernel that we're ready.\n",
              "      channel.send({})\n",
              "\n",
              "      for await (const message of channel.messages) {\n",
              "        // Send a message to notify the kernel that we're ready.\n",
              "        channel.send({})\n",
              "        if (message.buffers) {\n",
              "          for (const buffer of message.buffers) {\n",
              "            buffers.push(buffer);\n",
              "            downloaded += buffer.byteLength;\n",
              "            progress.value = downloaded;\n",
              "          }\n",
              "        }\n",
              "      }\n",
              "      const blob = new Blob(buffers, {type: 'application/binary'});\n",
              "      const a = document.createElement('a');\n",
              "      a.href = window.URL.createObjectURL(blob);\n",
              "      a.download = filename;\n",
              "      div.appendChild(a);\n",
              "      a.click();\n",
              "      div.remove();\n",
              "    }\n",
              "  "
            ],
            "text/plain": [
              "<IPython.core.display.Javascript object>"
            ]
          },
          "metadata": {
            "tags": []
          }
        },
        {
          "output_type": "display_data",
          "data": {
            "application/javascript": [
              "download(\"download_6bdb77db-5e88-4bbd-acdd-41e1d14153c7\", \"file.zip\", 448366442)"
            ],
            "text/plain": [
              "<IPython.core.display.Javascript object>"
            ]
          },
          "metadata": {
            "tags": []
          }
        }
      ]
    },
    {
      "cell_type": "markdown",
      "metadata": {
        "id": "mPFZIEFLhuf5"
      },
      "source": [
        "# Load videos from Drive + preprocess\n",
        "\n",
        "*   Section all videos frame by frame\n",
        "*   Preprocess videos"
      ]
    },
    {
      "cell_type": "markdown",
      "metadata": {
        "id": "TCuYTQ16YVLw"
      },
      "source": [
        "Video frame generator\n",
        "\n",
        "[Keras video frame generator](https://medium.com/smileinnovation/training-neural-network-with-image-sequence-an-example-with-video-as-input-c3407f7a0b0f)"
      ]
    },
    {
      "cell_type": "code",
      "metadata": {
        "colab": {
          "base_uri": "https://localhost:8080/"
        },
        "id": "48MoZrifWmEX",
        "outputId": "09f6f29d-c075-43fd-81f5-295946ca0389"
      },
      "source": [
        "!pip install keras-video-generators"
      ],
      "execution_count": null,
      "outputs": [
        {
          "output_type": "stream",
          "text": [
            "Requirement already satisfied: keras-video-generators in /usr/local/lib/python3.7/dist-packages (1.0.14)\n",
            "Requirement already satisfied: keras>=2 in /usr/local/lib/python3.7/dist-packages (from keras-video-generators) (2.4.3)\n",
            "Requirement already satisfied: numpy in /usr/local/lib/python3.7/dist-packages (from keras-video-generators) (1.19.5)\n",
            "Requirement already satisfied: opencv-python in /usr/local/lib/python3.7/dist-packages (from keras-video-generators) (4.1.2.30)\n",
            "Requirement already satisfied: matplotlib in /usr/local/lib/python3.7/dist-packages (from keras-video-generators) (3.2.2)\n",
            "Requirement already satisfied: scipy>=0.14 in /usr/local/lib/python3.7/dist-packages (from keras>=2->keras-video-generators) (1.4.1)\n",
            "Requirement already satisfied: pyyaml in /usr/local/lib/python3.7/dist-packages (from keras>=2->keras-video-generators) (3.13)\n",
            "Requirement already satisfied: h5py in /usr/local/lib/python3.7/dist-packages (from keras>=2->keras-video-generators) (2.10.0)\n",
            "Requirement already satisfied: kiwisolver>=1.0.1 in /usr/local/lib/python3.7/dist-packages (from matplotlib->keras-video-generators) (1.3.1)\n",
            "Requirement already satisfied: python-dateutil>=2.1 in /usr/local/lib/python3.7/dist-packages (from matplotlib->keras-video-generators) (2.8.1)\n",
            "Requirement already satisfied: pyparsing!=2.0.4,!=2.1.2,!=2.1.6,>=2.0.1 in /usr/local/lib/python3.7/dist-packages (from matplotlib->keras-video-generators) (2.4.7)\n",
            "Requirement already satisfied: cycler>=0.10 in /usr/local/lib/python3.7/dist-packages (from matplotlib->keras-video-generators) (0.10.0)\n",
            "Requirement already satisfied: six in /usr/local/lib/python3.7/dist-packages (from h5py->keras>=2->keras-video-generators) (1.15.0)\n"
          ],
          "name": "stdout"
        }
      ]
    },
    {
      "cell_type": "code",
      "metadata": {
        "colab": {
          "base_uri": "https://localhost:8080/"
        },
        "id": "O6PZEuJqNe3C",
        "outputId": "26d3eb71-41fb-44d4-aeb7-fc44c3a4d7b0"
      },
      "source": [
        "import keras\n",
        "import keras_video.utils\n",
        "from keras_video import VideoFrameGenerator\n",
        "\n",
        "classes = ['target' , 'others']\n",
        "# some global params\n",
        "SIZE = (112, 112)\n",
        "CHANNELS = 3\n",
        "NFRAME = 25\n",
        "BS = 10\n",
        "# pattern to get videos and classes\n",
        "glob_pattern='/content/drive/MyDrive/kinetics/train/{classname}/*.mp4'\n",
        "# Data augmentation\n",
        "data_aug = keras.preprocessing.image.ImageDataGenerator(\n",
        "    zoom_range=.1,\n",
        "    horizontal_flip=True,\n",
        "    rotation_range=8,\n",
        "    width_shift_range=.2,\n",
        "    height_shift_range=.2)\n",
        "# Create video frame generator\n",
        "train = VideoFrameGenerator(\n",
        "    classes=classes, \n",
        "    glob_pattern=glob_pattern,\n",
        "    nb_frames=NFRAME,\n",
        "    split_val=0.2,  # 20% of the videos will be used as validation set. \n",
        "    shuffle=True,\n",
        "    batch_size=BS,\n",
        "    target_shape=SIZE,\n",
        "    nb_channel=CHANNELS,\n",
        "    transformation=data_aug,\n",
        "    use_frame_cache=True)\n",
        "\n",
        "val = train.get_validation_generator()\n",
        "\n",
        "# keras_video.utils.show_sample(train)"
      ],
      "execution_count": null,
      "outputs": [
        {
          "output_type": "stream",
          "text": [
            "class others, validation count: 164, train count: 658\n",
            "class target, validation count: 179, train count: 718\n",
            "Total data: 2 classes for 1376 files for train\n",
            "Total data: 2 classes for 343 files for validation\n"
          ],
          "name": "stdout"
        }
      ]
    },
    {
      "cell_type": "markdown",
      "metadata": {
        "id": "XONaB-3Z6Nh1"
      },
      "source": [
        "# Build model and train the network"
      ]
    },
    {
      "cell_type": "markdown",
      "metadata": {
        "id": "I9rR5jU36SKr"
      },
      "source": [
        "## Build model"
      ]
    },
    {
      "cell_type": "code",
      "metadata": {
        "id": "76BbTe2K6UkU",
        "colab": {
          "base_uri": "https://localhost:8080/"
        },
        "outputId": "a049bde1-090f-4cbe-fce5-d1efeba9e8fd"
      },
      "source": [
        "import keras\n",
        "from keras import backend\n",
        "from keras.layers import TimeDistributed\n",
        "from keras.layers import Conv2D, MaxPool2D\n",
        "from keras.layers import Dense, Dropout\n",
        "from keras.layers import LSTM, GlobalMaxPool2D\n",
        "from keras.models import Sequential\n",
        "from keras.optimizers import Adam, RMSprop\n",
        "from keras.layers import BatchNormalization\n",
        "from keras.utils.vis_utils import plot_model\n",
        "from keras.applications import InceptionV3\n",
        "\n",
        "# The pretrained network we will use\n",
        "conv_base = InceptionV3(weights='imagenet',\n",
        "                  include_top=False,\n",
        "                  input_shape=(112, 112, 3))\n",
        "conv_base.trainable = False\n",
        "\n",
        "def action_model(shape=(NFRAME, 112, 112, 3), outputs=2):\n",
        "    \n",
        "    # Flatten output of conv_base\n",
        "    model0 = Sequential()\n",
        "    model0.add(conv_base)\n",
        "    model0.add(GlobalMaxPool2D())\n",
        "    # Build our model for training\n",
        "    model = Sequential()\n",
        "    model.add(TimeDistributed(model0, input_shape=shape))\n",
        "    # LSTM for time series\n",
        "    model.add(LSTM(64))\n",
        "    # Build the classifier\n",
        "    # model.add(Dense(1024, activation='relu'))\n",
        "    # model.add(Dropout(.5))\n",
        "    model.add(Dense(512, activation='relu'))\n",
        "    model.add(Dropout(.5))\n",
        "    model.add(Dense(128, activation='relu'))\n",
        "    model.add(Dropout(.5))\n",
        "    model.add(Dense(64, activation='relu'))\n",
        "    model.add(Dense(outputs, activation='sigmoid'))\n",
        "    return model\n",
        "\n",
        "INSHAPE=(NFRAME,) + SIZE + (CHANNELS,) # (15, 112, 112, 3)\n",
        "model = action_model(INSHAPE, len(classes))\n",
        "\n",
        "model.summary()\n"
      ],
      "execution_count": null,
      "outputs": [
        {
          "output_type": "stream",
          "text": [
            "Downloading data from https://storage.googleapis.com/tensorflow/keras-applications/inception_v3/inception_v3_weights_tf_dim_ordering_tf_kernels_notop.h5\n",
            "87916544/87910968 [==============================] - 1s 0us/step\n",
            "Model: \"sequential_1\"\n",
            "_________________________________________________________________\n",
            "Layer (type)                 Output Shape              Param #   \n",
            "=================================================================\n",
            "time_distributed (TimeDistri (None, 25, 2048)          21802784  \n",
            "_________________________________________________________________\n",
            "lstm (LSTM)                  (None, 64)                540928    \n",
            "_________________________________________________________________\n",
            "dense (Dense)                (None, 512)               33280     \n",
            "_________________________________________________________________\n",
            "dropout (Dropout)            (None, 512)               0         \n",
            "_________________________________________________________________\n",
            "dense_1 (Dense)              (None, 128)               65664     \n",
            "_________________________________________________________________\n",
            "dropout_1 (Dropout)          (None, 128)               0         \n",
            "_________________________________________________________________\n",
            "dense_2 (Dense)              (None, 64)                8256      \n",
            "_________________________________________________________________\n",
            "dense_3 (Dense)              (None, 2)                 130       \n",
            "=================================================================\n",
            "Total params: 22,451,042\n",
            "Trainable params: 648,258\n",
            "Non-trainable params: 21,802,784\n",
            "_________________________________________________________________\n"
          ],
          "name": "stdout"
        }
      ]
    },
    {
      "cell_type": "code",
      "metadata": {
        "id": "rUr8FZpt9AFL"
      },
      "source": [
        "optimizer= Adam(lr=1e-4)\n",
        "model.compile(optimizer=optimizer , \n",
        "              loss='binary_crossentropy',\n",
        "              metrics=['accuracy'])"
      ],
      "execution_count": null,
      "outputs": []
    },
    {
      "cell_type": "markdown",
      "metadata": {
        "id": "pUR37Q0c9HfA"
      },
      "source": [
        "## Train the network"
      ]
    },
    {
      "cell_type": "code",
      "metadata": {
        "id": "HiYbzWzB9Lrp",
        "colab": {
          "base_uri": "https://localhost:8080/"
        },
        "outputId": "7a9b43c6-d54b-4a09-ad0f-0355fb1b9718"
      },
      "source": [
        "import time\n",
        "\n",
        "callbacks = [\n",
        "    keras.callbacks.ReduceLROnPlateau(\n",
        "        monitor = 'val_loss',\n",
        "        # factor = 0.1,\n",
        "        # patience = 10,\n",
        "    ),\n",
        "    keras.callbacks.ModelCheckpoint(\n",
        "        filepath = 'doing_nails_Inception_try.h5',\n",
        "        monitor = 'val_loss',\n",
        "        save_best_only = True,\n",
        "                 ),\n",
        "]\n",
        "\n",
        "start = time.time()\n",
        "history = model.fit(\n",
        "                    train,\n",
        "                    steps_per_epoch = 20,\n",
        "                    #batch_size= 10,\n",
        "                    epochs = 30,\n",
        "                    callbacks=callbacks,\n",
        "                    validation_data= val,\n",
        "                    validation_steps = 10,)\n",
        "finish = time.time()\n",
        "print(\"Total training time: \", finish - start)"
      ],
      "execution_count": null,
      "outputs": [
        {
          "output_type": "stream",
          "text": [
            "Epoch 1/30\n",
            "16/20 [=======================>......] - ETA: 41s - loss: 0.7089 - accuracy: 0.4785"
          ],
          "name": "stdout"
        },
        {
          "output_type": "stream",
          "text": [
            "Frame count is not OK for video /content/drive/MyDrive/Colab Notebooks/Study/CSCE 636/Project/kinetics/train/others/others.796.mp4, 0 total, 0 extracted\n"
          ],
          "name": "stderr"
        },
        {
          "output_type": "stream",
          "text": [
            "20/20 [==============================] - 364s 17s/step - loss: 0.7084 - accuracy: 0.4867 - val_loss: 0.6924 - val_accuracy: 0.6300\n",
            "Epoch 2/30\n",
            "12/20 [=================>............] - ETA: 1:11 - loss: 0.6977 - accuracy: 0.5335"
          ],
          "name": "stdout"
        },
        {
          "output_type": "stream",
          "text": [
            "Frame count is not OK for video /content/drive/MyDrive/Colab Notebooks/Study/CSCE 636/Project/kinetics/train/others/others.783.mp4, 0 total, 0 extracted\n"
          ],
          "name": "stderr"
        },
        {
          "output_type": "stream",
          "text": [
            "19/20 [===========================>..] - ETA: 8s - loss: 0.6959 - accuracy: 0.5328 "
          ],
          "name": "stdout"
        },
        {
          "output_type": "stream",
          "text": [
            "Frame count is not OK for video /content/drive/MyDrive/Colab Notebooks/Study/CSCE 636/Project/kinetics/train/others/others.467.mp4, 0 total, 0 extracted\n"
          ],
          "name": "stderr"
        },
        {
          "output_type": "stream",
          "text": [
            "20/20 [==============================] - 263s 13s/step - loss: 0.6953 - accuracy: 0.5345 - val_loss: 0.6782 - val_accuracy: 0.7200\n",
            "Epoch 3/30\n",
            "20/20 [==============================] - ETA: 0s - loss: 0.6935 - accuracy: 0.5500"
          ],
          "name": "stdout"
        },
        {
          "output_type": "stream",
          "text": [
            "Frame count is not OK for video /content/drive/MyDrive/Colab Notebooks/Study/CSCE 636/Project/kinetics/train/others/others.155.mp4, 0 total, 0 extracted\n"
          ],
          "name": "stderr"
        },
        {
          "output_type": "stream",
          "text": [
            "\b\b\b\b\b\b\b\b\b\b\b\b\b\b\b\b\b\b\b\b\b\b\b\b\b\b\b\b\b\b\b\b\b\b\b\b\b\b\b\b\b\b\b\b\b\b\b\b\b\b\b\b\b\b\b\b\b\b\b\b\b\b\b\b\b\b\b\b\b\b\b\b\b\b\b\b\b\b\b\b\b\b\r20/20 [==============================] - 209s 10s/step - loss: 0.6933 - accuracy: 0.5502 - val_loss: 0.6634 - val_accuracy: 0.7980\n",
            "Epoch 4/30\n"
          ],
          "name": "stdout"
        },
        {
          "output_type": "stream",
          "text": [
            "Frame count is not OK for video /content/drive/MyDrive/Colab Notebooks/Study/CSCE 636/Project/kinetics/train/others/others.467.mp4, 0 total, 0 extracted\n"
          ],
          "name": "stderr"
        },
        {
          "output_type": "stream",
          "text": [
            " 8/20 [===========>..................] - ETA: 1:14 - loss: 0.6802 - accuracy: 0.6002"
          ],
          "name": "stdout"
        },
        {
          "output_type": "stream",
          "text": [
            "Frame count is not OK for video /content/drive/MyDrive/Colab Notebooks/Study/CSCE 636/Project/kinetics/train/target/assembling computer.887.mp4, 0 total, 0 extracted\n"
          ],
          "name": "stderr"
        },
        {
          "output_type": "stream",
          "text": [
            "18/20 [==========================>...] - ETA: 13s - loss: 0.6772 - accuracy: 0.6054"
          ],
          "name": "stdout"
        },
        {
          "output_type": "stream",
          "text": [
            "Frame count is not OK for video /content/drive/MyDrive/Colab Notebooks/Study/CSCE 636/Project/kinetics/train/others/others.783.mp4, 0 total, 0 extracted\n"
          ],
          "name": "stderr"
        },
        {
          "output_type": "stream",
          "text": [
            "20/20 [==============================] - 155s 8s/step - loss: 0.6762 - accuracy: 0.6106 - val_loss: 0.6544 - val_accuracy: 0.7200\n",
            "Epoch 5/30\n",
            "16/20 [=======================>......] - ETA: 22s - loss: 0.6496 - accuracy: 0.7369"
          ],
          "name": "stdout"
        },
        {
          "output_type": "stream",
          "text": [
            "Frame count is not OK for video /content/drive/MyDrive/Colab Notebooks/Study/CSCE 636/Project/kinetics/train/others/others.151.mp4, 0 total, 0 extracted\n",
            "Frame count is not OK for video /content/drive/MyDrive/Colab Notebooks/Study/CSCE 636/Project/kinetics/train/others/others.796.mp4, 0 total, 0 extracted\n"
          ],
          "name": "stderr"
        },
        {
          "output_type": "stream",
          "text": [
            "20/20 [==============================] - ETA: 0s - loss: 0.6501 - accuracy: 0.7293"
          ],
          "name": "stdout"
        },
        {
          "output_type": "stream",
          "text": [
            "Frame count is not OK for video /content/drive/MyDrive/Colab Notebooks/Study/CSCE 636/Project/kinetics/train/others/others.155.mp4, 0 total, 0 extracted\n"
          ],
          "name": "stderr"
        },
        {
          "output_type": "stream",
          "text": [
            "\b\b\b\b\b\b\b\b\b\b\b\b\b\b\b\b\b\b\b\b\b\b\b\b\b\b\b\b\b\b\b\b\b\b\b\b\b\b\b\b\b\b\b\b\b\b\b\b\b\b\b\b\b\b\b\b\b\b\b\b\b\b\b\b\b\b\b\b\b\b\b\b\b\b\b\b\b\b\b\b\b\b\r20/20 [==============================] - 150s 8s/step - loss: 0.6502 - accuracy: 0.7277 - val_loss: 0.6402 - val_accuracy: 0.7677\n",
            "Epoch 6/30\n",
            " 8/20 [===========>..................] - ETA: 53s - loss: 0.6756 - accuracy: 0.6034 "
          ],
          "name": "stdout"
        },
        {
          "output_type": "stream",
          "text": [
            "Frame count is not OK for video /content/drive/MyDrive/Colab Notebooks/Study/CSCE 636/Project/kinetics/train/others/others.467.mp4, 0 total, 0 extracted\n"
          ],
          "name": "stderr"
        },
        {
          "output_type": "stream",
          "text": [
            "20/20 [==============================] - ETA: 0s - loss: 0.6611 - accuracy: 0.6520"
          ],
          "name": "stdout"
        },
        {
          "output_type": "stream",
          "text": [
            "Frame count is not OK for video /content/drive/MyDrive/Colab Notebooks/Study/CSCE 636/Project/kinetics/train/target/assembling computer.887.mp4, 0 total, 0 extracted\n"
          ],
          "name": "stderr"
        },
        {
          "output_type": "stream",
          "text": [
            "\b\b\b\b\b\b\b\b\b\b\b\b\b\b\b\b\b\b\b\b\b\b\b\b\b\b\b\b\b\b\b\b\b\b\b\b\b\b\b\b\b\b\b\b\b\b\b\b\b\b\b\b\b\b\b\b\b\b\b\b\b\b\b\b\b\b\b\b\b\b\b\b\b\b\b\b\b\b\b\b\b\b\r20/20 [==============================] - 108s 5s/step - loss: 0.6604 - accuracy: 0.6547 - val_loss: 0.6042 - val_accuracy: 0.8800\n",
            "Epoch 7/30\n"
          ],
          "name": "stdout"
        },
        {
          "output_type": "stream",
          "text": [
            "Frame count is not OK for video /content/drive/MyDrive/Colab Notebooks/Study/CSCE 636/Project/kinetics/train/others/others.783.mp4, 0 total, 0 extracted\n"
          ],
          "name": "stderr"
        },
        {
          "output_type": "stream",
          "text": [
            " 5/20 [======>.......................] - ETA: 54s - loss: 0.6370 - accuracy: 0.8160"
          ],
          "name": "stdout"
        },
        {
          "output_type": "stream",
          "text": [
            "Frame count is not OK for video /content/drive/MyDrive/Colab Notebooks/Study/CSCE 636/Project/kinetics/train/target/assembling computer.887.mp4, 0 total, 0 extracted\n"
          ],
          "name": "stderr"
        },
        {
          "output_type": "stream",
          "text": [
            "14/20 [====================>.........] - ETA: 26s - loss: 0.6307 - accuracy: 0.7797"
          ],
          "name": "stdout"
        },
        {
          "output_type": "stream",
          "text": [
            "Frame count is not OK for video /content/drive/MyDrive/Colab Notebooks/Study/CSCE 636/Project/kinetics/train/others/others.759.mp4, 0 total, 0 extracted\n"
          ],
          "name": "stderr"
        },
        {
          "output_type": "stream",
          "text": [
            "20/20 [==============================] - ETA: 0s - loss: 0.6280 - accuracy: 0.7739"
          ],
          "name": "stdout"
        },
        {
          "output_type": "stream",
          "text": [
            "Frame count is not OK for video /content/drive/MyDrive/Colab Notebooks/Study/CSCE 636/Project/kinetics/train/others/others.796.mp4, 0 total, 0 extracted\n"
          ],
          "name": "stderr"
        },
        {
          "output_type": "stream",
          "text": [
            "\b\b\b\b\b\b\b\b\b\b\b\b\b\b\b\b\b\b\b\b\b\b\b\b\b\b\b\b\b\b\b\b\b\b\b\b\b\b\b\b\b\b\b\b\b\b\b\b\b\b\b\b\b\b\b\b\b\b\b\b\b\b\b\b\b\b\b\b\b\b\b\b\b\b\b\b\b\b\b\b\b\b\r20/20 [==============================] - 94s 5s/step - loss: 0.6276 - accuracy: 0.7733 - val_loss: 0.5664 - val_accuracy: 0.8300\n",
            "Epoch 8/30\n",
            " 5/20 [======>.......................] - ETA: 54s - loss: 0.6151 - accuracy: 0.6573 "
          ],
          "name": "stdout"
        },
        {
          "output_type": "stream",
          "text": [
            "Frame count is not OK for video /content/drive/MyDrive/Colab Notebooks/Study/CSCE 636/Project/kinetics/train/others/others.151.mp4, 0 total, 0 extracted\n"
          ],
          "name": "stderr"
        },
        {
          "output_type": "stream",
          "text": [
            "\b\b\b\b\b\b\b\b\b\b\b\b\b\b\b\b\b\b\b\b\b\b\b\b\b\b\b\b\b\b\b\b\b\b\b\b\b\b\b\b\b\b\b\b\b\b\b\b\b\b\b\b\b\b\b\b\b\b\b\b\b\b\b\b\b\b\b\b\b\b\b\b\b\b\b\b\b\b\b\b\b\b\b\r 6/20 [========>.....................] - ETA: 47s - loss: 0.6106 - accuracy: 0.6721"
          ],
          "name": "stdout"
        },
        {
          "output_type": "stream",
          "text": [
            "Frame count is not OK for video /content/drive/MyDrive/Colab Notebooks/Study/CSCE 636/Project/kinetics/train/others/others.467.mp4, 0 total, 0 extracted\n"
          ],
          "name": "stderr"
        },
        {
          "output_type": "stream",
          "text": [
            "11/20 [===============>..............] - ETA: 32s - loss: 0.6045 - accuracy: 0.6956"
          ],
          "name": "stdout"
        },
        {
          "output_type": "stream",
          "text": [
            "Frame count is not OK for video /content/drive/MyDrive/Colab Notebooks/Study/CSCE 636/Project/kinetics/train/others/others.783.mp4, 0 total, 0 extracted\n"
          ],
          "name": "stderr"
        },
        {
          "output_type": "stream",
          "text": [
            "20/20 [==============================] - 78s 4s/step - loss: 0.5963 - accuracy: 0.7170 - val_loss: 0.4897 - val_accuracy: 0.8900\n",
            "Epoch 9/30\n",
            "14/20 [====================>.........] - ETA: 18s - loss: 0.5374 - accuracy: 0.8051"
          ],
          "name": "stdout"
        },
        {
          "output_type": "stream",
          "text": [
            "Frame count is not OK for video /content/drive/MyDrive/Colab Notebooks/Study/CSCE 636/Project/kinetics/train/others/others.151.mp4, 0 total, 0 extracted\n"
          ],
          "name": "stderr"
        },
        {
          "output_type": "stream",
          "text": [
            "20/20 [==============================] - ETA: 0s - loss: 0.5324 - accuracy: 0.8063"
          ],
          "name": "stdout"
        },
        {
          "output_type": "stream",
          "text": [
            "Frame count is not OK for video /content/drive/MyDrive/Colab Notebooks/Study/CSCE 636/Project/kinetics/train/others/others.155.mp4, 0 total, 0 extracted\n"
          ],
          "name": "stderr"
        },
        {
          "output_type": "stream",
          "text": [
            "\b\b\b\b\b\b\b\b\b\b\b\b\b\b\b\b\b\b\b\b\b\b\b\b\b\b\b\b\b\b\b\b\b\b\b\b\b\b\b\b\b\b\b\b\b\b\b\b\b\b\b\b\b\b\b\b\b\b\b\b\b\b\b\b\b\b\b\b\b\b\b\b\b\b\b\b\b\b\b\b\b\b\r20/20 [==============================] - 68s 3s/step - loss: 0.5320 - accuracy: 0.8062 - val_loss: 0.4385 - val_accuracy: 0.8788\n",
            "Epoch 10/30\n",
            "20/20 [==============================] - ETA: 0s - loss: 0.4711 - accuracy: 0.8651"
          ],
          "name": "stdout"
        },
        {
          "output_type": "stream",
          "text": [
            "Frame count is not OK for video /content/drive/MyDrive/Colab Notebooks/Study/CSCE 636/Project/kinetics/train/others/others.155.mp4, 0 total, 0 extracted\n"
          ],
          "name": "stderr"
        },
        {
          "output_type": "stream",
          "text": [
            "\b\b\b\b\b\b\b\b\b\b\b\b\b\b\b\b\b\b\b\b\b\b\b\b\b\b\b\b\b\b\b\b\b\b\b\b\b\b\b\b\b\b\b\b\b\b\b\b\b\b\b\b\b\b\b\b\b\b\b\b\b\b\b\b\b\b\b\b\b\b\b\b\b\b\b\b\b\b\b\b\b\b\r20/20 [==============================] - 57s 3s/step - loss: 0.4713 - accuracy: 0.8642 - val_loss: 0.4247 - val_accuracy: 0.8182\n",
            "Epoch 11/30\n",
            "12/20 [=================>............] - ETA: 22s - loss: 0.4015 - accuracy: 0.8923"
          ],
          "name": "stdout"
        },
        {
          "output_type": "stream",
          "text": [
            "Frame count is not OK for video /content/drive/MyDrive/Colab Notebooks/Study/CSCE 636/Project/kinetics/train/others/others.151.mp4, 0 total, 0 extracted\n"
          ],
          "name": "stderr"
        },
        {
          "output_type": "stream",
          "text": [
            "20/20 [==============================] - 56s 3s/step - loss: 0.4103 - accuracy: 0.8782 - val_loss: 0.3057 - val_accuracy: 0.9400\n",
            "Epoch 12/30\n",
            "20/20 [==============================] - 47s 2s/step - loss: 0.4036 - accuracy: 0.8817 - val_loss: 0.3034 - val_accuracy: 0.9200\n",
            "Epoch 13/30\n",
            " 3/20 [===>..........................] - ETA: 26s - loss: 0.5212 - accuracy: 0.7500"
          ],
          "name": "stdout"
        },
        {
          "output_type": "stream",
          "text": [
            "Frame count is not OK for video /content/drive/MyDrive/Colab Notebooks/Study/CSCE 636/Project/kinetics/train/target/assembling computer.887.mp4, 0 total, 0 extracted\n"
          ],
          "name": "stderr"
        },
        {
          "output_type": "stream",
          "text": [
            " 7/20 [=========>....................] - ETA: 30s - loss: 0.4856 - accuracy: 0.7955"
          ],
          "name": "stdout"
        },
        {
          "output_type": "stream",
          "text": [
            "Frame count is not OK for video /content/drive/MyDrive/Colab Notebooks/Study/CSCE 636/Project/kinetics/train/others/others.151.mp4, 0 total, 0 extracted\n"
          ],
          "name": "stderr"
        },
        {
          "output_type": "stream",
          "text": [
            "12/20 [=================>............] - ETA: 22s - loss: 0.4551 - accuracy: 0.8144"
          ],
          "name": "stdout"
        },
        {
          "output_type": "stream",
          "text": [
            "Frame count is not OK for video /content/drive/MyDrive/Colab Notebooks/Study/CSCE 636/Project/kinetics/train/others/others.121.mp4, 6 total, 5 extracted\n"
          ],
          "name": "stderr"
        },
        {
          "output_type": "stream",
          "text": [
            "20/20 [==============================] - 56s 3s/step - loss: 0.4281 - accuracy: 0.8364 - val_loss: 0.3014 - val_accuracy: 0.8800\n",
            "Epoch 14/30\n",
            "10/20 [==============>...............] - ETA: 22s - loss: 0.4086 - accuracy: 0.8865"
          ],
          "name": "stdout"
        },
        {
          "output_type": "stream",
          "text": [
            "Frame count is not OK for video /content/drive/MyDrive/Colab Notebooks/Study/CSCE 636/Project/kinetics/train/others/others.783.mp4, 0 total, 0 extracted\n"
          ],
          "name": "stderr"
        },
        {
          "output_type": "stream",
          "text": [
            "16/20 [=======================>......] - ETA: 8s - loss: 0.3720 - accuracy: 0.8900 "
          ],
          "name": "stdout"
        },
        {
          "output_type": "stream",
          "text": [
            "Frame count is not OK for video /content/drive/MyDrive/Colab Notebooks/Study/CSCE 636/Project/kinetics/train/others/others.467.mp4, 0 total, 0 extracted\n"
          ],
          "name": "stderr"
        },
        {
          "output_type": "stream",
          "text": [
            "20/20 [==============================] - 40s 2s/step - loss: 0.3635 - accuracy: 0.8880 - val_loss: 0.1715 - val_accuracy: 0.9600\n",
            "Epoch 15/30\n",
            " 9/20 [============>.................] - ETA: 21s - loss: 0.2851 - accuracy: 0.9497"
          ],
          "name": "stdout"
        },
        {
          "output_type": "stream",
          "text": [
            "Frame count is not OK for video /content/drive/MyDrive/Colab Notebooks/Study/CSCE 636/Project/kinetics/train/others/others.682.mp4, 0 total, 0 extracted\n"
          ],
          "name": "stderr"
        },
        {
          "output_type": "stream",
          "text": [
            "18/20 [==========================>...] - ETA: 3s - loss: 0.2994 - accuracy: 0.9231"
          ],
          "name": "stdout"
        },
        {
          "output_type": "stream",
          "text": [
            "Frame count is not OK for video /content/drive/MyDrive/Colab Notebooks/Study/CSCE 636/Project/kinetics/train/others/others.121.mp4, 6 total, 5 extracted\n"
          ],
          "name": "stderr"
        },
        {
          "output_type": "stream",
          "text": [
            "20/20 [==============================] - ETA: 0s - loss: 0.3027 - accuracy: 0.9181"
          ],
          "name": "stdout"
        },
        {
          "output_type": "stream",
          "text": [
            "Frame count is not OK for video /content/drive/MyDrive/Colab Notebooks/Study/CSCE 636/Project/kinetics/train/others/others.155.mp4, 0 total, 0 extracted\n"
          ],
          "name": "stderr"
        },
        {
          "output_type": "stream",
          "text": [
            "\b\b\b\b\b\b\b\b\b\b\b\b\b\b\b\b\b\b\b\b\b\b\b\b\b\b\b\b\b\b\b\b\b\b\b\b\b\b\b\b\b\b\b\b\b\b\b\b\b\b\b\b\b\b\b\b\b\b\b\b\b\b\b\b\b\b\b\b\b\b\b\b\b\b\b\b\b\b\b\b\b\b\r20/20 [==============================] - 40s 2s/step - loss: 0.3043 - accuracy: 0.9158 - val_loss: 0.3050 - val_accuracy: 0.8586\n",
            "Epoch 16/30\n"
          ],
          "name": "stdout"
        },
        {
          "output_type": "stream",
          "text": [
            "Frame count is not OK for video /content/drive/MyDrive/Colab Notebooks/Study/CSCE 636/Project/kinetics/train/others/others.682.mp4, 0 total, 0 extracted\n"
          ],
          "name": "stderr"
        },
        {
          "output_type": "stream",
          "text": [
            "13/20 [==================>...........] - ETA: 12s - loss: 0.3760 - accuracy: 0.8278"
          ],
          "name": "stdout"
        },
        {
          "output_type": "stream",
          "text": [
            "Frame count is not OK for video /content/drive/MyDrive/Colab Notebooks/Study/CSCE 636/Project/kinetics/train/others/others.783.mp4, 0 total, 0 extracted\n"
          ],
          "name": "stderr"
        },
        {
          "output_type": "stream",
          "text": [
            "17/20 [========================>.....] - ETA: 4s - loss: 0.3778 - accuracy: 0.8298"
          ],
          "name": "stdout"
        },
        {
          "output_type": "stream",
          "text": [
            "Frame count is not OK for video /content/drive/MyDrive/Colab Notebooks/Study/CSCE 636/Project/kinetics/train/others/others.796.mp4, 0 total, 0 extracted\n"
          ],
          "name": "stderr"
        },
        {
          "output_type": "stream",
          "text": [
            "20/20 [==============================] - 36s 2s/step - loss: 0.3776 - accuracy: 0.8333 - val_loss: 0.3588 - val_accuracy: 0.8500\n",
            "Epoch 17/30\n",
            " 6/20 [========>.....................] - ETA: 12s - loss: 0.3114 - accuracy: 0.8775"
          ],
          "name": "stdout"
        },
        {
          "output_type": "stream",
          "text": [
            "Frame count is not OK for video /content/drive/MyDrive/Colab Notebooks/Study/CSCE 636/Project/kinetics/train/others/others.759.mp4, 0 total, 0 extracted\n"
          ],
          "name": "stderr"
        },
        {
          "output_type": "stream",
          "text": [
            "17/20 [========================>.....] - ETA: 3s - loss: 0.3602 - accuracy: 0.8553"
          ],
          "name": "stdout"
        },
        {
          "output_type": "stream",
          "text": [
            "Frame count is not OK for video /content/drive/MyDrive/Colab Notebooks/Study/CSCE 636/Project/kinetics/train/others/others.467.mp4, 0 total, 0 extracted\n"
          ],
          "name": "stderr"
        },
        {
          "output_type": "stream",
          "text": [
            "20/20 [==============================] - 26s 1s/step - loss: 0.3610 - accuracy: 0.8569 - val_loss: 0.3123 - val_accuracy: 0.8400\n",
            "Epoch 18/30\n",
            "20/20 [==============================] - ETA: 0s - loss: 0.3062 - accuracy: 0.8871"
          ],
          "name": "stdout"
        },
        {
          "output_type": "stream",
          "text": [
            "Frame count is not OK for video /content/drive/MyDrive/Colab Notebooks/Study/CSCE 636/Project/kinetics/train/others/others.155.mp4, 0 total, 0 extracted\n"
          ],
          "name": "stderr"
        },
        {
          "output_type": "stream",
          "text": [
            "\b\b\b\b\b\b\b\b\b\b\b\b\b\b\b\b\b\b\b\b\b\b\b\b\b\b\b\b\b\b\b\b\b\b\b\b\b\b\b\b\b\b\b\b\b\b\b\b\b\b\b\b\b\b\b\b\b\b\b\b\b\b\b\b\b\b\b\b\b\b\b\b\b\b\b\b\b\b\b\b\b\b\r20/20 [==============================] - 26s 1s/step - loss: 0.3080 - accuracy: 0.8863 - val_loss: 0.2547 - val_accuracy: 0.8900\n",
            "Epoch 19/30\n",
            "20/20 [==============================] - 27s 1s/step - loss: 0.3651 - accuracy: 0.8615 - val_loss: 0.2137 - val_accuracy: 0.9000\n",
            "Epoch 20/30\n",
            " 8/20 [===========>..................] - ETA: 14s - loss: 0.2068 - accuracy: 0.9222"
          ],
          "name": "stdout"
        },
        {
          "output_type": "stream",
          "text": [
            "Frame count is not OK for video /content/drive/MyDrive/Colab Notebooks/Study/CSCE 636/Project/kinetics/train/others/others.759.mp4, 0 total, 0 extracted\n"
          ],
          "name": "stderr"
        },
        {
          "output_type": "stream",
          "text": [
            "20/20 [==============================] - 23s 1s/step - loss: 0.3070 - accuracy: 0.8904 - val_loss: 0.1492 - val_accuracy: 0.9700\n",
            "Epoch 21/30\n",
            " 6/20 [========>.....................] - ETA: 10s - loss: 0.4490 - accuracy: 0.7856"
          ],
          "name": "stdout"
        },
        {
          "output_type": "stream",
          "text": [
            "Frame count is not OK for video /content/drive/MyDrive/Colab Notebooks/Study/CSCE 636/Project/kinetics/train/others/others.783.mp4, 0 total, 0 extracted\n"
          ],
          "name": "stderr"
        },
        {
          "output_type": "stream",
          "text": [
            "20/20 [==============================] - 21s 993ms/step - loss: 0.3951 - accuracy: 0.8324 - val_loss: 0.2942 - val_accuracy: 0.8800\n",
            "Epoch 22/30\n",
            " 1/20 [>.............................] - ETA: 13s - loss: 0.4283 - accuracy: 0.8000"
          ],
          "name": "stdout"
        },
        {
          "output_type": "stream",
          "text": [
            "Frame count is not OK for video /content/drive/MyDrive/Colab Notebooks/Study/CSCE 636/Project/kinetics/train/others/others.682.mp4, 0 total, 0 extracted\n"
          ],
          "name": "stderr"
        },
        {
          "output_type": "stream",
          "text": [
            "\b\b\b\b\b\b\b\b\b\b\b\b\b\b\b\b\b\b\b\b\b\b\b\b\b\b\b\b\b\b\b\b\b\b\b\b\b\b\b\b\b\b\b\b\b\b\b\b\b\b\b\b\b\b\b\b\b\b\b\b\b\b\b\b\b\b\b\b\b\b\b\b\b\b\b\b\b\b\b\b\b\b\b\r 2/20 [==>...........................] - ETA: 11s - loss: 0.4657 - accuracy: 0.7684"
          ],
          "name": "stdout"
        },
        {
          "output_type": "stream",
          "text": [
            "Frame count is not OK for video /content/drive/MyDrive/Colab Notebooks/Study/CSCE 636/Project/kinetics/train/target/assembling computer.887.mp4, 0 total, 0 extracted\n"
          ],
          "name": "stderr"
        },
        {
          "output_type": "stream",
          "text": [
            " 9/20 [============>.................] - ETA: 7s - loss: 0.4266 - accuracy: 0.7954"
          ],
          "name": "stdout"
        },
        {
          "output_type": "stream",
          "text": [
            "Frame count is not OK for video /content/drive/MyDrive/Colab Notebooks/Study/CSCE 636/Project/kinetics/train/others/others.796.mp4, 0 total, 0 extracted\n"
          ],
          "name": "stderr"
        },
        {
          "output_type": "stream",
          "text": [
            "20/20 [==============================] - ETA: 0s - loss: 0.4066 - accuracy: 0.8188"
          ],
          "name": "stdout"
        },
        {
          "output_type": "stream",
          "text": [
            "Frame count is not OK for video /content/drive/MyDrive/Colab Notebooks/Study/CSCE 636/Project/kinetics/train/others/others.155.mp4, 0 total, 0 extracted\n"
          ],
          "name": "stderr"
        },
        {
          "output_type": "stream",
          "text": [
            "\b\b\b\b\b\b\b\b\b\b\b\b\b\b\b\b\b\b\b\b\b\b\b\b\b\b\b\b\b\b\b\b\b\b\b\b\b\b\b\b\b\b\b\b\b\b\b\b\b\b\b\b\b\b\b\b\b\b\b\b\b\b\b\b\b\b\b\b\b\b\b\b\b\b\b\b\b\b\b\b\b\b\r20/20 [==============================] - 17s 863ms/step - loss: 0.4038 - accuracy: 0.8209 - val_loss: 0.1771 - val_accuracy: 0.9400\n",
            "Epoch 23/30\n",
            "16/20 [=======================>......] - ETA: 5s - loss: 0.2741 - accuracy: 0.9149"
          ],
          "name": "stdout"
        },
        {
          "output_type": "stream",
          "text": [
            "Frame count is not OK for video /content/drive/MyDrive/Colab Notebooks/Study/CSCE 636/Project/kinetics/train/others/others.783.mp4, 0 total, 0 extracted\n"
          ],
          "name": "stderr"
        },
        {
          "output_type": "stream",
          "text": [
            "19/20 [===========================>..] - ETA: 1s - loss: 0.2750 - accuracy: 0.9122"
          ],
          "name": "stdout"
        },
        {
          "output_type": "stream",
          "text": [
            "Frame count is not OK for video /content/drive/MyDrive/Colab Notebooks/Study/CSCE 636/Project/kinetics/train/others/others.121.mp4, 6 total, 5 extracted\n"
          ],
          "name": "stderr"
        },
        {
          "output_type": "stream",
          "text": [
            "\b\b\b\b\b\b\b\b\b\b\b\b\b\b\b\b\b\b\b\b\b\b\b\b\b\b\b\b\b\b\b\b\b\b\b\b\b\b\b\b\b\b\b\b\b\b\b\b\b\b\b\b\b\b\b\b\b\b\b\b\b\b\b\b\b\b\b\b\b\b\b\b\b\b\b\b\b\b\b\b\b\b\r20/20 [==============================] - ETA: 0s - loss: 0.2752 - accuracy: 0.9115"
          ],
          "name": "stdout"
        },
        {
          "output_type": "stream",
          "text": [
            "Frame count is not OK for video /content/drive/MyDrive/Colab Notebooks/Study/CSCE 636/Project/kinetics/train/others/others.155.mp4, 0 total, 0 extracted\n"
          ],
          "name": "stderr"
        },
        {
          "output_type": "stream",
          "text": [
            "\b\b\b\b\b\b\b\b\b\b\b\b\b\b\b\b\b\b\b\b\b\b\b\b\b\b\b\b\b\b\b\b\b\b\b\b\b\b\b\b\b\b\b\b\b\b\b\b\b\b\b\b\b\b\b\b\b\b\b\b\b\b\b\b\b\b\b\b\b\b\b\b\b\b\b\b\b\b\b\b\b\b\r20/20 [==============================] - 25s 1s/step - loss: 0.2753 - accuracy: 0.9109 - val_loss: 0.2219 - val_accuracy: 0.9192\n",
            "Epoch 24/30\n",
            "20/20 [==============================] - ETA: 0s - loss: 0.3440 - accuracy: 0.8619"
          ],
          "name": "stdout"
        },
        {
          "output_type": "stream",
          "text": [
            "Frame count is not OK for video /content/drive/MyDrive/Colab Notebooks/Study/CSCE 636/Project/kinetics/train/others/others.155.mp4, 0 total, 0 extracted\n"
          ],
          "name": "stderr"
        },
        {
          "output_type": "stream",
          "text": [
            "\b\b\b\b\b\b\b\b\b\b\b\b\b\b\b\b\b\b\b\b\b\b\b\b\b\b\b\b\b\b\b\b\b\b\b\b\b\b\b\b\b\b\b\b\b\b\b\b\b\b\b\b\b\b\b\b\b\b\b\b\b\b\b\b\b\b\b\b\b\b\b\b\b\b\b\b\b\b\b\b\b\b\r20/20 [==============================] - 19s 941ms/step - loss: 0.3437 - accuracy: 0.8620 - val_loss: 0.2530 - val_accuracy: 0.8687\n",
            "Epoch 25/30\n",
            "11/20 [===============>..............] - ETA: 8s - loss: 0.2835 - accuracy: 0.9023"
          ],
          "name": "stdout"
        },
        {
          "output_type": "stream",
          "text": [
            "Frame count is not OK for video /content/drive/MyDrive/Colab Notebooks/Study/CSCE 636/Project/kinetics/train/others/others.467.mp4, 0 total, 0 extracted\n",
            "Frame count is not OK for video /content/drive/MyDrive/Colab Notebooks/Study/CSCE 636/Project/kinetics/train/others/others.682.mp4, 0 total, 0 extracted\n"
          ],
          "name": "stderr"
        },
        {
          "output_type": "stream",
          "text": [
            "19/20 [===========================>..] - ETA: 1s - loss: 0.2938 - accuracy: 0.8923"
          ],
          "name": "stdout"
        },
        {
          "output_type": "stream",
          "text": [
            "Frame count is not OK for video /content/drive/MyDrive/Colab Notebooks/Study/CSCE 636/Project/kinetics/train/others/others.783.mp4, 0 total, 0 extracted\n"
          ],
          "name": "stderr"
        },
        {
          "output_type": "stream",
          "text": [
            "20/20 [==============================] - 21s 1s/step - loss: 0.2964 - accuracy: 0.8914 - val_loss: 0.2589 - val_accuracy: 0.8700\n",
            "Epoch 26/30\n",
            " 7/20 [=========>....................] - ETA: 8s - loss: 0.1919 - accuracy: 0.9461"
          ],
          "name": "stdout"
        },
        {
          "output_type": "stream",
          "text": [
            "Frame count is not OK for video /content/drive/MyDrive/Colab Notebooks/Study/CSCE 636/Project/kinetics/train/others/others.759.mp4, 0 total, 0 extracted\n"
          ],
          "name": "stderr"
        },
        {
          "output_type": "stream",
          "text": [
            "20/20 [==============================] - ETA: 0s - loss: 0.2300 - accuracy: 0.9146"
          ],
          "name": "stdout"
        },
        {
          "output_type": "stream",
          "text": [
            "Frame count is not OK for video /content/drive/MyDrive/Colab Notebooks/Study/CSCE 636/Project/kinetics/train/others/others.155.mp4, 0 total, 0 extracted\n"
          ],
          "name": "stderr"
        },
        {
          "output_type": "stream",
          "text": [
            "\b\b\b\b\b\b\b\b\b\b\b\b\b\b\b\b\b\b\b\b\b\b\b\b\b\b\b\b\b\b\b\b\b\b\b\b\b\b\b\b\b\b\b\b\b\b\b\b\b\b\b\b\b\b\b\b\b\b\b\b\b\b\b\b\b\b\b\b\b\b\b\b\b\b\b\b\b\b\b\b\b\b\r20/20 [==============================] - 17s 872ms/step - loss: 0.2328 - accuracy: 0.9134 - val_loss: 0.1729 - val_accuracy: 0.9293\n",
            "Epoch 27/30\n",
            " 6/20 [========>.....................] - ETA: 9s - loss: 0.2161 - accuracy: 0.9339"
          ],
          "name": "stdout"
        },
        {
          "output_type": "stream",
          "text": [
            "Frame count is not OK for video /content/drive/MyDrive/Colab Notebooks/Study/CSCE 636/Project/kinetics/train/others/others.121.mp4, 6 total, 5 extracted\n"
          ],
          "name": "stderr"
        },
        {
          "output_type": "stream",
          "text": [
            "20/20 [==============================] - 16s 792ms/step - loss: 0.2618 - accuracy: 0.9025 - val_loss: 0.1369 - val_accuracy: 0.9400\n",
            "Epoch 28/30\n",
            "19/20 [===========================>..] - ETA: 0s - loss: 0.2217 - accuracy: 0.9141"
          ],
          "name": "stdout"
        },
        {
          "output_type": "stream",
          "text": [
            "Frame count is not OK for video /content/drive/MyDrive/Colab Notebooks/Study/CSCE 636/Project/kinetics/train/others/others.783.mp4, 0 total, 0 extracted\n"
          ],
          "name": "stderr"
        },
        {
          "output_type": "stream",
          "text": [
            "\b\b\b\b\b\b\b\b\b\b\b\b\b\b\b\b\b\b\b\b\b\b\b\b\b\b\b\b\b\b\b\b\b\b\b\b\b\b\b\b\b\b\b\b\b\b\b\b\b\b\b\b\b\b\b\b\b\b\b\b\b\b\b\b\b\b\b\b\b\b\b\b\b\b\b\b\b\b\b\b\b\b\r20/20 [==============================] - ETA: 0s - loss: 0.2237 - accuracy: 0.9134"
          ],
          "name": "stdout"
        },
        {
          "output_type": "stream",
          "text": [
            "Frame count is not OK for video /content/drive/MyDrive/Colab Notebooks/Study/CSCE 636/Project/kinetics/train/others/others.155.mp4, 0 total, 0 extracted\n"
          ],
          "name": "stderr"
        },
        {
          "output_type": "stream",
          "text": [
            "\b\b\b\b\b\b\b\b\b\b\b\b\b\b\b\b\b\b\b\b\b\b\b\b\b\b\b\b\b\b\b\b\b\b\b\b\b\b\b\b\b\b\b\b\b\b\b\b\b\b\b\b\b\b\b\b\b\b\b\b\b\b\b\b\b\b\b\b\b\b\b\b\b\b\b\b\b\b\b\b\b\b\r20/20 [==============================] - 19s 950ms/step - loss: 0.2255 - accuracy: 0.9127 - val_loss: 0.1539 - val_accuracy: 0.9495\n",
            "Epoch 29/30\n",
            " 7/20 [=========>....................] - ETA: 10s - loss: 0.1868 - accuracy: 0.9618"
          ],
          "name": "stdout"
        },
        {
          "output_type": "stream",
          "text": [
            "Frame count is not OK for video /content/drive/MyDrive/Colab Notebooks/Study/CSCE 636/Project/kinetics/train/others/others.796.mp4, 0 total, 0 extracted\n"
          ],
          "name": "stderr"
        },
        {
          "output_type": "stream",
          "text": [
            "20/20 [==============================] - ETA: 0s - loss: 0.2218 - accuracy: 0.9359"
          ],
          "name": "stdout"
        },
        {
          "output_type": "stream",
          "text": [
            "Frame count is not OK for video /content/drive/MyDrive/Colab Notebooks/Study/CSCE 636/Project/kinetics/train/others/others.155.mp4, 0 total, 0 extracted\n"
          ],
          "name": "stderr"
        },
        {
          "output_type": "stream",
          "text": [
            "\b\b\b\b\b\b\b\b\b\b\b\b\b\b\b\b\b\b\b\b\b\b\b\b\b\b\b\b\b\b\b\b\b\b\b\b\b\b\b\b\b\b\b\b\b\b\b\b\b\b\b\b\b\b\b\b\b\b\b\b\b\b\b\b\b\b\b\b\b\b\b\b\b\b\b\b\b\b\b\b\b\b\r20/20 [==============================] - 17s 847ms/step - loss: 0.2232 - accuracy: 0.9354 - val_loss: 0.2332 - val_accuracy: 0.9394\n",
            "Epoch 30/30\n",
            "20/20 [==============================] - 15s 768ms/step - loss: 0.3283 - accuracy: 0.8635 - val_loss: 0.2003 - val_accuracy: 0.9200\n",
            "Total training time:  2135.7386767864227\n"
          ],
          "name": "stdout"
        }
      ]
    },
    {
      "cell_type": "markdown",
      "metadata": {
        "id": "-7Bv-AXz9Rb3"
      },
      "source": [
        "Plot the learning curve"
      ]
    },
    {
      "cell_type": "code",
      "metadata": {
        "id": "OiDWWm0r9Tf_",
        "colab": {
          "base_uri": "https://localhost:8080/",
          "height": 545
        },
        "outputId": "c9737079-2403-4111-fe91-d2c2b999847d"
      },
      "source": [
        "import matplotlib.pyplot as plt\n",
        "acc = history.history['accuracy']\n",
        "val_acc = history.history['val_accuracy']\n",
        "loss = history.history['loss']\n",
        "val_loss = history.history['val_loss']\n",
        "\n",
        "epochs = range(len(acc))\n",
        "\n",
        "plt.plot(epochs, acc, 'bo', label='Training acc')\n",
        "plt.plot(epochs, val_acc, 'b', label='Validation acc')\n",
        "plt.title('Training and validation accuracy')\n",
        "plt.grid(axis='both')\n",
        "plt.legend()\n",
        "\n",
        "plt.figure()\n",
        "\n",
        "plt.plot(epochs, loss, 'bo', label='Training loss')\n",
        "plt.plot(epochs, val_loss, 'b', label='Validation loss')\n",
        "plt.title('Training and validation loss')\n",
        "plt.grid(axis='both')\n",
        "plt.legend()\n",
        "\n",
        "plt.show()"
      ],
      "execution_count": null,
      "outputs": [
        {
          "output_type": "display_data",
          "data": {
            "image/png": "[encoded data removed]",
            "text/plain": [
              "<Figure size 432x288 with 1 Axes>"
            ]
          },
          "metadata": {
            "tags": [],
            "needs_background": "light"
          }
        },
        {
          "output_type": "display_data",
          "data": {
            "image/png": "[encoded data removed]",
            "text/plain": [
              "<Figure size 432x288 with 1 Axes>"
            ]
          },
          "metadata": {
            "tags": [],
            "needs_background": "light"
          }
        }
      ]
    },
    {
      "cell_type": "markdown",
      "metadata": {
        "id": "DYNe9pEj5aeU"
      },
      "source": [
        "# Test on test set"
      ]
    },
    {
      "cell_type": "code",
      "metadata": {
        "id": "nyZ5w6YH57Te"
      },
      "source": [
        "import keras\n",
        "from keras.models import load_model\n",
        "\n",
        "test_model = load_model('doing_nails_Inception_try.h5')\n"
      ],
      "execution_count": null,
      "outputs": []
    },
    {
      "cell_type": "code",
      "metadata": {
        "colab": {
          "base_uri": "https://localhost:8080/"
        },
        "id": "KG4LgeL-c_Um",
        "outputId": "afa04950-cbf5-4fad-b171-eb17be9d4f84"
      },
      "source": [
        "from keras_video import VideoFrameGenerator\n",
        "\n",
        "classes = ['target' , 'others']\n",
        "# some global params\n",
        "SIZE = (112, 112)\n",
        "CHANNELS = 3\n",
        "NFRAME = 25\n",
        "BS = 10\n",
        "# pattern to get videos and classes\n",
        "glob_pattern='/content/drive/MyDrive/kinetics/test/{classname}/*.mp4'\n",
        "\n",
        "# Create video frame generator\n",
        "test = VideoFrameGenerator(\n",
        "    classes=classes, \n",
        "    glob_pattern=glob_pattern,\n",
        "    nb_frames=NFRAME,\n",
        "    shuffle=False,\n",
        "    batch_size=BS,\n",
        "    target_shape=SIZE,\n",
        "    nb_channel=CHANNELS,\n",
        "    use_frame_cache=True)"
      ],
      "execution_count": null,
      "outputs": [
        {
          "output_type": "stream",
          "text": [
            "Total data: 2 classes for 92 files for train\n"
          ],
          "name": "stdout"
        }
      ]
    },
    {
      "cell_type": "code",
      "metadata": {
        "colab": {
          "base_uri": "https://localhost:8080/"
        },
        "id": "Kx0UCDcwdhEY",
        "outputId": "d95e81ca-6036-4ed3-c3b2-089d8844ba0d"
      },
      "source": [
        "test_model.evaluate(test)"
      ],
      "execution_count": null,
      "outputs": [
        {
          "output_type": "stream",
          "text": [
            "9/9 [==============================] - 88s 11s/step - loss: 0.2440 - accuracy: 0.9222\n"
          ],
          "name": "stdout"
        },
        {
          "output_type": "execute_result",
          "data": {
            "text/plain": [
              "[0.24401816725730896, 0.9222221970558167]"
            ]
          },
          "metadata": {
            "tags": []
          },
          "execution_count": 9
        }
      ]
    }
  ]
}
