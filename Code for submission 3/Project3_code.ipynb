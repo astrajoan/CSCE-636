{
  "nbformat": 4,
  "nbformat_minor": 0,
  "metadata": {
    "colab": {
      "name": "Project3_code.ipynb",
      "provenance": [],
      "collapsed_sections": [],
      "toc_visible": true
    },
    "kernelspec": {
      "name": "python3",
      "display_name": "Python 3"
    }
  },
  "cells": [
    {
      "cell_type": "markdown",
      "metadata": {
        "id": "UrpLd7Rq-DIR"
      },
      "source": [
        "# Load dataset"
      ]
    },
    {
      "cell_type": "code",
      "metadata": {
        "id": "Ak9mVhjHVhV5",
        "colab": {
          "base_uri": "https://localhost:8080/"
        },
        "outputId": "91d0c385-b48c-4290-ca82-510251eb86b1"
      },
      "source": [
        "!wget https://storage.googleapis.com/deepmind-media/Datasets/kinetics700_2020.tar.gz"
      ],
      "execution_count": null,
      "outputs": [
        {
          "output_type": "stream",
          "text": [
            "--2021-02-27 19:30:08--  https://storage.googleapis.com/deepmind-media/Datasets/kinetics700_2020.tar.gz\n",
            "Resolving storage.googleapis.com (storage.googleapis.com)... 64.233.189.128, 108.177.125.128, 74.125.203.128, ...\n",
            "Connecting to storage.googleapis.com (storage.googleapis.com)|64.233.189.128|:443... connected.\n",
            "HTTP request sent, awaiting response... 200 OK\n",
            "Length: 25342182 (24M) [application/x-gzip]\n",
            "Saving to: ‘kinetics700_2020.tar.gz’\n",
            "\n",
            "kinetics700_2020.ta 100%[===================>]  24.17M  49.1MB/s    in 0.5s    \n",
            "\n",
            "2021-02-27 19:30:09 (49.1 MB/s) - ‘kinetics700_2020.tar.gz’ saved [25342182/25342182]\n",
            "\n"
          ],
          "name": "stdout"
        }
      ]
    },
    {
      "cell_type": "code",
      "metadata": {
        "id": "jzGaEBpHVxT8"
      },
      "source": [
        "import tarfile\n",
        "\n",
        "tar = tarfile.open('kinetics700_2020.tar.gz', \"r:gz\")\n",
        "tar.extractall()\n",
        "tar.close()"
      ],
      "execution_count": null,
      "outputs": []
    },
    {
      "cell_type": "markdown",
      "metadata": {
        "id": "2a2ie2Tc2XqB"
      },
      "source": [
        "[ERROR: IOPub data rate exceeded](https://stackoverflow.com/questions/50689784/in-google-collab-i-get-iopub-data-rate-exceeded)\n",
        "\n",
        "[CSV](https://www.programiz.com/python-programming/reading-csv-files)"
      ]
    },
    {
      "cell_type": "code",
      "metadata": {
        "colab": {
          "base_uri": "https://localhost:8080/"
        },
        "id": "3zoPP0NDWDZ7",
        "outputId": "bd5719d2-234b-4800-e80e-096f86ab7ce4"
      },
      "source": [
        "import os\n",
        "import csv\n",
        "import numpy as np\n",
        "\n",
        "file_path = '/content/kinetics700_2020'\n",
        "\n",
        "data_train = []\n",
        "label_train = []\n",
        "data_test = []\n",
        "label_test = []\n",
        "\n",
        "fname = 'train.csv'\n",
        "with open(os.path.join(file_path,fname)) as file:\n",
        "  reader = csv.reader(file)\n",
        "  for i,row in enumerate(reader):\n",
        "    if i == 0: # Ignore the header\n",
        "      continue\n",
        "    else:\n",
        "      dict_temp = {'url': row[1], 'time': list(map(float,row[2:4]))}\n",
        "      data_train.append(dict_temp)\n",
        "      label_train.append(row[0])\n",
        "    \n",
        "# Print the first 10 elements\n",
        "print(data_train[:10])\n",
        "print(label_train[:10])\n",
        "\n",
        "\n",
        "# Use validation dataset as test set\n",
        "fname = 'validate.csv'\n",
        "with open(os.path.join(file_path,fname)) as file:\n",
        "  reader = csv.reader(file)\n",
        "  for i,row in enumerate(reader):\n",
        "    if i == 0:\n",
        "      continue\n",
        "    else:\n",
        "      dict_temp = {'url': row[1], 'time': list(map(float,row[2:4]))}\n",
        "      data_test.append(dict_temp)\n",
        "      label_test.append(row[0])\n",
        "\n",
        "label_train = np.array(label_train)\n",
        "label_test = np.array(label_test)"
      ],
      "execution_count": null,
      "outputs": [
        {
          "output_type": "stream",
          "text": [
            "[{'url': '---0dWlqevI', 'time': [19.0, 29.0]}, {'url': '---aQ-tA5_A', 'time': [9.0, 19.0]}, {'url': '---j12rm3WI', 'time': [14.0, 24.0]}, {'url': '--07WQ2iBlw', 'time': [1.0, 11.0]}, {'url': '--0NTAs-fA0', 'time': [29.0, 39.0]}, {'url': '--0l35AkU34', 'time': [68.0, 78.0]}, {'url': '--33Lscn6sk', 'time': [4.0, 14.0]}, {'url': '--3OAstUWtU', 'time': [45.0, 55.0]}, {'url': '--3lTx87ebQ', 'time': [23.0, 33.0]}, {'url': '--3ouPhoy2A', 'time': [20.0, 30.0]}]\n",
            "['clay pottery making', 'news anchoring', 'using bagging machine', 'javelin throw', 'climbing a rope', 'sipping cup', 'flipping pancake', 'tickling', 'watering plants', 'eating spaghetti']\n"
          ],
          "name": "stdout"
        }
      ]
    },
    {
      "cell_type": "markdown",
      "metadata": {
        "id": "J3qSkVYySGw_"
      },
      "source": [
        "# Action: cleaning shoes\n"
      ]
    },
    {
      "cell_type": "code",
      "metadata": {
        "id": "yJc24C3VOJP5"
      },
      "source": [
        "'''\n",
        "  We are NOT modifying the stored original train data and train label,\n",
        "\n",
        "  data_train, label_train,\n",
        "\n",
        "  only working with indices and save the result to new arrays or lists\n",
        "'''\n",
        "\n",
        "target_label = 'cleaning shoes'\n",
        "# Get indices of 'cleaning shoes' in training set\n",
        "indices = np.where(label_train == target_label)[0]\n",
        "train_raw = [] # Store raw info of train data: url & time\n",
        "y_train = [] # Store train data labels\n",
        "\n",
        "for idx in indices:\n",
        "  train_raw.append(data_train[idx]) # Target class raw info\n",
        "  y_train.append(1) # Target class label = 1\n",
        "\n",
        "np.random.seed(0)\n",
        "# Randomly shuffle the indices of all training data\n",
        "shuffled_indices_total = np.random.permutation(len(data_train))\n",
        "# Delete the indices of 'cleaning shoes' in training set\n",
        "shuffled_indices_0 = shuffled_indices_total[~np.isin(\n",
        "    shuffled_indices_total,indices\n",
        ")]\n",
        "\n",
        "# Append the rest of the training samples to train_raw,\n",
        "# equal number of label 0 as label 1 (target)\n",
        "# Indices already shuffled, so this is in random order\n",
        "for i in range(len(indices)):\n",
        "  train_raw.append(data_train[shuffled_indices_0[i]])\n",
        "  y_train.append(0)\n",
        "\n",
        "'''\n",
        "  Do the same thing for test set\n",
        "'''\n",
        "indices_test = np.where(label_test == target_label)[0]\n",
        "test_raw = []\n",
        "y_test = []\n",
        "\n",
        "# Target class in validation set\n",
        "for idx in indices_test:\n",
        "  test_raw.append(data_test[idx])\n",
        "  y_test.append(1)\n",
        "\n",
        "np.random.seed(0)\n",
        "shuffled_indices_test = np.random.permutation(len(data_test))\n",
        "shuffled_indices_test_0 = shuffled_indices_test[~np.isin(\n",
        "    shuffled_indices_test,indices_test\n",
        ")]\n",
        "\n",
        "for i in range(len(indices_test)):\n",
        "  test_raw.append(data_test[shuffled_indices_test_0[i]])\n",
        "  y_test.append(0)"
      ],
      "execution_count": null,
      "outputs": []
    },
    {
      "cell_type": "code",
      "metadata": {
        "id": "rL8zaJOANsVA",
        "colab": {
          "base_uri": "https://localhost:8080/"
        },
        "outputId": "70a3a15d-1a90-49fe-aaf9-7db472ada3c7"
      },
      "source": [
        "!pip install --upgrade youtube_dl"
      ],
      "execution_count": null,
      "outputs": [
        {
          "output_type": "stream",
          "text": [
            "Collecting youtube_dl\n",
            "\u001b[?25l  Downloading https://files.pythonhosted.org/packages/4e/fe/8d11d7a778633441efa68f1a0bd5fbfcd79e31cb0ef7f20acb8d5c4498db/youtube_dl-2021.2.22-py2.py3-none-any.whl (1.9MB)\n",
            "\u001b[K     |████████████████████████████████| 1.9MB 5.3MB/s \n",
            "\u001b[?25hInstalling collected packages: youtube-dl\n",
            "Successfully installed youtube-dl-2021.2.22\n"
          ],
          "name": "stdout"
        }
      ]
    },
    {
      "cell_type": "markdown",
      "metadata": {
        "id": "kXh3BJ8So-ux"
      },
      "source": [
        "Make directory for the Kinetics dataset"
      ]
    },
    {
      "cell_type": "code",
      "metadata": {
        "id": "tyjaC3o6mt94"
      },
      "source": [
        "import os\n",
        "\n",
        "# Directory for the Kinetics dataset\n",
        "kinetics_dir = '/content/kinetics'\n",
        "os.mkdir(kinetics_dir)\n",
        "\n",
        "# Directory for train and test set for Kinetics\n",
        "train_dir = os.path.join(kinetics_dir,'train')\n",
        "os.mkdir(train_dir)\n",
        "test_dir = os.path.join(kinetics_dir,'test')\n",
        "os.mkdir(test_dir)\n",
        "\n",
        "# Directory for target and supplementary classes\n",
        "train_target_dir = os.path.join(train_dir,'target')\n",
        "os.mkdir(train_target_dir)\n",
        "train_others_dir = os.path.join(train_dir,'others')\n",
        "os.mkdir(train_others_dir)\n",
        "test_target_dir = os.path.join(test_dir,'target')\n",
        "os.mkdir(test_target_dir)\n",
        "test_others_dir = os.path.join(test_dir,'others')\n",
        "os.mkdir(test_others_dir)"
      ],
      "execution_count": null,
      "outputs": []
    },
    {
      "cell_type": "markdown",
      "metadata": {
        "id": "24pMbAMKwKMj"
      },
      "source": [
        "Import specific part of video from YouTube"
      ]
    },
    {
      "cell_type": "code",
      "metadata": {
        "id": "VKFmf1fI2HX-"
      },
      "source": [
        "import youtube_dl, subprocess\n",
        "import datetime\n",
        "import time\n",
        "\n",
        "'''\n",
        "  Training and validation set\n",
        "'''\n",
        "\n",
        "for i, info in enumerate(train_raw):\n",
        "  if info['url'][0] != '=':\n",
        "    info['url'] = '=' + info['url']\n",
        "  \n",
        "  URL = 'https://www.youtube.com/watch?v' + info['url'] # url of YouTube video\n",
        "  FROM = str(datetime.timedelta(seconds=info['time'][0]))\n",
        "  LENGTH = str(datetime.timedelta(seconds=(info['time'][1]-info['time'][0])))\n",
        "  if y_train[i] == 1:\n",
        "    TARGET = os.path.join(train_target_dir,\"cleaning_shoes.{}.mp4\".format(i))\n",
        "  else:\n",
        "    TARGET = os.path.join(train_others_dir,\"others.{}.mp4\".format(\n",
        "        i - y_train.count(1)\n",
        "    ))\n",
        "  \n",
        "  with youtube_dl.YoutubeDL({'format': 'best'}) as ydl:\n",
        "    try:\n",
        "      result = ydl.extract_info(URL, download=False)\n",
        "      video = result['entries'][0] if 'entries' in result else result\n",
        "    except:\n",
        "      continue\n",
        "    \n",
        "  url = video['url']\n",
        "  time.sleep(1)\n",
        "  subprocess.call(['ffmpeg', '-i', url, '-ss', FROM, '-t', LENGTH, \n",
        "                   '-c:v', 'copy', '-c:a', 'copy', TARGET,])  \n"
      ],
      "execution_count": null,
      "outputs": []
    },
    {
      "cell_type": "code",
      "metadata": {
        "id": "elFSVixMS9i7"
      },
      "source": [
        "import youtube_dl, subprocess\n",
        "import datetime\n",
        "\n",
        "'''\n",
        "  Test set\n",
        "'''\n",
        "for i, info in enumerate(test_raw):\n",
        "  if info['url'][0] != '=':\n",
        "    info['url'] = '=' + info['url']\n",
        "  \n",
        "  URL = 'https://www.youtube.com/watch?v' + info['url'] # url of YouTube video\n",
        "  FROM = str(datetime.timedelta(seconds=info['time'][0]))\n",
        "  LENGTH = str(datetime.timedelta(seconds=(info['time'][1]-info['time'][0])))\n",
        "  if y_test[i] == 1:\n",
        "    TARGET = os.path.join(test_target_dir,\"cleaning_shoes.{}.mp4\".format(i))\n",
        "  else:\n",
        "    TARGET = os.path.join(test_others_dir,\"others.{}.mp4\".format(\n",
        "        i - y_test.count(1)\n",
        "    ))\n",
        "  \n",
        "  with youtube_dl.YoutubeDL({'format': 'best'}) as ydl:\n",
        "    try:\n",
        "      result = ydl.extract_info(URL, download=False)\n",
        "      video = result['entries'][0] if 'entries' in result else result\n",
        "    except:\n",
        "      continue\n",
        "    \n",
        "  url = video['url']\n",
        "  subprocess.call(['ffmpeg', '-i', url, '-ss', FROM, '-t', LENGTH, \n",
        "                   '-c:v', 'copy', '-c:a', 'copy', TARGET,])  "
      ],
      "execution_count": null,
      "outputs": []
    },
    {
      "cell_type": "markdown",
      "metadata": {
        "id": "DAtsUBZTBhB_"
      },
      "source": [
        "Download videos from Google Colab"
      ]
    },
    {
      "cell_type": "code",
      "metadata": {
        "colab": {
          "base_uri": "https://localhost:8080/"
        },
        "id": "JeyaGW-iBkUB",
        "outputId": "3275e3e6-3ea4-4c1e-f184-6c5299e900be"
      },
      "source": [
        "!zip -r /content/file.zip /content/kinetics"
      ],
      "execution_count": null,
      "outputs": [
        {
          "output_type": "stream",
          "text": [
            "  adding: content/kinetics/ (stored 0%)\n",
            "  adding: content/kinetics/test/ (stored 0%)\n",
            "  adding: content/kinetics/test/others/ (stored 0%)\n",
            "  adding: content/kinetics/test/others/others.21.mp4 (deflated 1%)\n",
            "  adding: content/kinetics/test/others/others.22.mp4 (deflated 1%)\n",
            "  adding: content/kinetics/test/others/others.33.mp4 (deflated 2%)\n",
            "  adding: content/kinetics/test/others/others.2.mp4 (deflated 0%)\n",
            "  adding: content/kinetics/test/others/others.38.mp4 (deflated 0%)\n",
            "  adding: content/kinetics/test/others/others.7.mp4 (deflated 2%)\n",
            "  adding: content/kinetics/test/others/others.16.mp4 (deflated 1%)\n",
            "  adding: content/kinetics/test/others/others.35.mp4 (deflated 1%)\n",
            "  adding: content/kinetics/test/others/others.0.mp4 (deflated 0%)\n",
            "  adding: content/kinetics/test/others/others.41.mp4 (deflated 1%)\n",
            "  adding: content/kinetics/test/others/others.3.mp4 (deflated 1%)\n",
            "  adding: content/kinetics/test/others/others.8.mp4 (deflated 2%)\n",
            "  adding: content/kinetics/test/others/others.34.mp4 (deflated 1%)\n",
            "  adding: content/kinetics/test/others/others.29.mp4 (deflated 1%)\n",
            "  adding: content/kinetics/test/others/others.1.mp4 (deflated 0%)\n",
            "  adding: content/kinetics/test/others/others.12.mp4 (deflated 1%)\n",
            "  adding: content/kinetics/test/others/others.25.mp4 (deflated 1%)\n",
            "  adding: content/kinetics/test/others/others.13.mp4 (deflated 1%)\n",
            "  adding: content/kinetics/test/others/others.42.mp4 (deflated 1%)\n",
            "  adding: content/kinetics/test/others/others.31.mp4 (deflated 1%)\n",
            "  adding: content/kinetics/test/others/others.5.mp4 (deflated 0%)\n",
            "  adding: content/kinetics/test/others/others.39.mp4 (deflated 1%)\n",
            "  adding: content/kinetics/test/others/others.19.mp4 (deflated 1%)\n",
            "  adding: content/kinetics/test/others/others.4.mp4 (deflated 0%)\n",
            "  adding: content/kinetics/test/others/others.30.mp4 (deflated 0%)\n",
            "  adding: content/kinetics/test/others/others.24.mp4 (deflated 2%)\n",
            "  adding: content/kinetics/test/others/others.17.mp4 (deflated 0%)\n",
            "  adding: content/kinetics/test/others/others.32.mp4 (deflated 2%)\n",
            "  adding: content/kinetics/test/others/others.45.mp4 (deflated 1%)\n",
            "  adding: content/kinetics/test/others/others.27.mp4 (deflated 0%)\n",
            "  adding: content/kinetics/test/others/others.10.mp4 (deflated 1%)\n",
            "  adding: content/kinetics/test/others/others.18.mp4 (deflated 0%)\n",
            "  adding: content/kinetics/test/others/others.28.mp4 (deflated 0%)\n",
            "  adding: content/kinetics/test/others/others.11.mp4 (deflated 11%)\n",
            "  adding: content/kinetics/test/others/others.14.mp4 (deflated 1%)\n",
            "  adding: content/kinetics/test/others/others.9.mp4 (deflated 3%)\n",
            "  adding: content/kinetics/test/others/others.15.mp4 (deflated 2%)\n",
            "  adding: content/kinetics/test/others/others.37.mp4 (deflated 0%)\n",
            "  adding: content/kinetics/test/others/others.6.mp4 (deflated 1%)\n",
            "  adding: content/kinetics/test/others/others.40.mp4 (deflated 0%)\n",
            "  adding: content/kinetics/test/others/others.20.mp4 (deflated 0%)\n",
            "  adding: content/kinetics/test/others/others.46.mp4 (deflated 1%)\n",
            "  adding: content/kinetics/test/others/others.36.mp4 (deflated 10%)\n",
            "  adding: content/kinetics/test/others/others.26.mp4 (deflated 0%)\n",
            "  adding: content/kinetics/test/others/others.23.mp4 (deflated 0%)\n",
            "  adding: content/kinetics/test/target/ (stored 0%)\n",
            "  adding: content/kinetics/test/target/running_on_treadmill.26.mp4 (deflated 1%)\n",
            "  adding: content/kinetics/test/target/running_on_treadmill.35.mp4 (deflated 0%)\n",
            "  adding: content/kinetics/test/target/running_on_treadmill.8.mp4 (deflated 0%)\n",
            "  adding: content/kinetics/test/target/running_on_treadmill.6.mp4 (deflated 1%)\n",
            "  adding: content/kinetics/test/target/running_on_treadmill.40.mp4 (deflated 0%)\n",
            "  adding: content/kinetics/test/target/running_on_treadmill.16.mp4 (deflated 2%)\n",
            "  adding: content/kinetics/test/target/running_on_treadmill.37.mp4 (deflated 1%)\n",
            "  adding: content/kinetics/test/target/running_on_treadmill.4.mp4 (deflated 1%)\n",
            "  adding: content/kinetics/test/target/running_on_treadmill.18.mp4 (deflated 1%)\n",
            "  adding: content/kinetics/test/target/running_on_treadmill.27.mp4 (deflated 0%)\n",
            "  adding: content/kinetics/test/target/running_on_treadmill.44.mp4 (deflated 1%)\n",
            "  adding: content/kinetics/test/target/running_on_treadmill.22.mp4 (deflated 1%)\n",
            "  adding: content/kinetics/test/target/running_on_treadmill.33.mp4 (deflated 0%)\n",
            "  adding: content/kinetics/test/target/running_on_treadmill.17.mp4 (deflated 2%)\n",
            "  adding: content/kinetics/test/target/running_on_treadmill.2.mp4 (deflated 0%)\n",
            "  adding: content/kinetics/test/target/running_on_treadmill.19.mp4 (deflated 1%)\n",
            "  adding: content/kinetics/test/target/running_on_treadmill.46.mp4 (deflated 1%)\n",
            "  adding: content/kinetics/test/target/running_on_treadmill.3.mp4 (deflated 2%)\n",
            "  adding: content/kinetics/test/target/running_on_treadmill.24.mp4 (deflated 1%)\n",
            "  adding: content/kinetics/test/target/running_on_treadmill.28.mp4 (deflated 0%)\n",
            "  adding: content/kinetics/test/target/running_on_treadmill.23.mp4 (deflated 0%)\n",
            "  adding: content/kinetics/test/target/running_on_treadmill.12.mp4 (deflated 1%)\n",
            "  adding: content/kinetics/test/target/running_on_treadmill.45.mp4 (deflated 1%)\n",
            "  adding: content/kinetics/test/target/running_on_treadmill.34.mp4 (deflated 1%)\n",
            "  adding: content/kinetics/test/target/running_on_treadmill.43.mp4 (deflated 0%)\n",
            "  adding: content/kinetics/test/target/running_on_treadmill.38.mp4 (deflated 1%)\n",
            "  adding: content/kinetics/test/target/running_on_treadmill.15.mp4 (deflated 1%)\n",
            "  adding: content/kinetics/test/target/running_on_treadmill.32.mp4 (deflated 0%)\n",
            "  adding: content/kinetics/test/target/running_on_treadmill.39.mp4 (deflated 0%)\n",
            "  adding: content/kinetics/test/target/running_on_treadmill.29.mp4 (deflated 1%)\n",
            "  adding: content/kinetics/test/target/running_on_treadmill.20.mp4 (deflated 0%)\n",
            "  adding: content/kinetics/test/target/running_on_treadmill.41.mp4 (deflated 1%)\n",
            "  adding: content/kinetics/test/target/running_on_treadmill.13.mp4 (deflated 1%)\n",
            "  adding: content/kinetics/test/target/running_on_treadmill.42.mp4 (deflated 0%)\n",
            "  adding: content/kinetics/test/target/running_on_treadmill.0.mp4 (deflated 1%)\n",
            "  adding: content/kinetics/test/target/running_on_treadmill.9.mp4 (deflated 31%)\n",
            "  adding: content/kinetics/test/target/running_on_treadmill.11.mp4 (deflated 1%)\n",
            "  adding: content/kinetics/test/target/running_on_treadmill.7.mp4 (deflated 1%)\n",
            "  adding: content/kinetics/test/target/running_on_treadmill.1.mp4 (deflated 2%)\n",
            "  adding: content/kinetics/test/target/running_on_treadmill.21.mp4 (deflated 1%)\n",
            "  adding: content/kinetics/test/target/running_on_treadmill.10.mp4 (deflated 0%)\n",
            "  adding: content/kinetics/test/target/running_on_treadmill.31.mp4 (deflated 0%)\n",
            "  adding: content/kinetics/test/target/running_on_treadmill.36.mp4 (deflated 0%)\n",
            "  adding: content/kinetics/test/target/running_on_treadmill.25.mp4 (deflated 0%)\n",
            "  adding: content/kinetics/test/target/running_on_treadmill.5.mp4 (deflated 0%)\n",
            "  adding: content/kinetics/test/target/running_on_treadmill.14.mp4 (deflated 0%)\n",
            "  adding: content/kinetics/train/ (stored 0%)\n",
            "  adding: content/kinetics/train/others/ (stored 0%)\n",
            "  adding: content/kinetics/train/others/others.576.mp4 (deflated 0%)\n",
            "  adding: content/kinetics/train/others/others.608.mp4 (deflated 0%)\n",
            "  adding: content/kinetics/train/others/others.623.mp4 (deflated 1%)\n",
            "  adding: content/kinetics/train/others/others.572.mp4 (deflated 0%)\n",
            "  adding: content/kinetics/train/others/others.673.mp4 (deflated 1%)\n",
            "  adding: content/kinetics/train/others/others.617.mp4 (deflated 1%)\n",
            "  adding: content/kinetics/train/others/others.777.mp4 (deflated 1%)\n",
            "  adding: content/kinetics/train/others/others.683.mp4 (deflated 0%)\n",
            "  adding: content/kinetics/train/others/others.772.mp4 (deflated 1%)\n",
            "  adding: content/kinetics/train/others/others.771.mp4 (deflated 0%)\n",
            "  adding: content/kinetics/train/others/others.844.mp4 (deflated 1%)\n",
            "  adding: content/kinetics/train/others/others.783.mp4 (deflated 4%)\n",
            "  adding: content/kinetics/train/others/others.678.mp4 (deflated 1%)\n",
            "  adding: content/kinetics/train/others/others.750.mp4 (deflated 1%)\n",
            "  adding: content/kinetics/train/others/others.766.mp4 (deflated 1%)\n",
            "  adding: content/kinetics/train/others/others.605.mp4 (deflated 1%)\n",
            "  adding: content/kinetics/train/others/others.685.mp4 (deflated 0%)\n",
            "  adding: content/kinetics/train/others/others.643.mp4 (deflated 0%)\n",
            "  adding: content/kinetics/train/others/others.660.mp4 (deflated 1%)\n",
            "  adding: content/kinetics/train/others/others.833.mp4 (deflated 1%)\n",
            "  adding: content/kinetics/train/others/others.792.mp4 (deflated 1%)\n",
            "  adding: content/kinetics/train/others/others.652.mp4 (deflated 1%)\n",
            "  adding: content/kinetics/train/others/others.583.mp4 (deflated 2%)\n",
            "  adding: content/kinetics/train/others/others.787.mp4 (deflated 0%)\n",
            "  adding: content/kinetics/train/others/others.760.mp4 (deflated 1%)\n",
            "  adding: content/kinetics/train/others/others.689.mp4 (deflated 1%)\n",
            "  adding: content/kinetics/train/others/others.773.mp4 (deflated 1%)\n",
            "  adding: content/kinetics/train/others/others.859.mp4 (deflated 0%)\n",
            "  adding: content/kinetics/train/others/others.776.mp4 (deflated 0%)\n",
            "  adding: content/kinetics/train/others/others.846.mp4 (deflated 0%)\n",
            "  adding: content/kinetics/train/others/others.590.mp4 (deflated 1%)\n",
            "  adding: content/kinetics/train/others/others.803.mp4 (deflated 0%)\n",
            "  adding: content/kinetics/train/others/others.699.mp4 (deflated 0%)\n",
            "  adding: content/kinetics/train/others/others.616.mp4 (deflated 1%)\n",
            "  adding: content/kinetics/train/others/others.784.mp4 (deflated 1%)\n",
            "  adding: content/kinetics/train/others/others.702.mp4 (deflated 0%)\n",
            "  adding: content/kinetics/train/others/others.763.mp4 (deflated 1%)\n",
            "  adding: content/kinetics/train/others/others.627.mp4 (deflated 0%)\n",
            "  adding: content/kinetics/train/others/others.696.mp4 (deflated 0%)\n",
            "  adding: content/kinetics/train/others/others.785.mp4 (deflated 1%)\n",
            "  adding: content/kinetics/train/others/others.710.mp4 (deflated 1%)\n",
            "  adding: content/kinetics/train/others/others.725.mp4 (deflated 1%)\n",
            "  adding: content/kinetics/train/others/others.721.mp4 (deflated 0%)\n",
            "  adding: content/kinetics/train/others/others.755.mp4 (deflated 0%)\n",
            "  adding: content/kinetics/train/others/others.852.mp4 (deflated 0%)\n",
            "  adding: content/kinetics/train/others/others.691.mp4 (deflated 0%)\n",
            "  adding: content/kinetics/train/others/others.604.mp4 (deflated 1%)\n",
            "  adding: content/kinetics/train/others/others.796.mp4 (deflated 98%)\n",
            "  adding: content/kinetics/train/others/others.705.mp4 (deflated 1%)\n",
            "  adding: content/kinetics/train/others/others.807.mp4 (deflated 5%)\n",
            "  adding: content/kinetics/train/others/others.593.mp4 (deflated 3%)\n",
            "  adding: content/kinetics/train/others/others.671.mp4 (deflated 1%)\n",
            "  adding: content/kinetics/train/others/others.599.mp4 (deflated 0%)\n",
            "  adding: content/kinetics/train/others/others.697.mp4 (deflated 1%)\n",
            "  adding: content/kinetics/train/others/others.704.mp4 (deflated 26%)\n",
            "  adding: content/kinetics/train/others/others.851.mp4 (deflated 0%)\n",
            "  adding: content/kinetics/train/others/others.848.mp4 (deflated 1%)\n",
            "  adding: content/kinetics/train/others/others.586.mp4 (deflated 0%)\n",
            "  adding: content/kinetics/train/others/others.712.mp4 (deflated 0%)\n",
            "  adding: content/kinetics/train/others/others.860.mp4 (deflated 2%)\n",
            "  adding: content/kinetics/train/others/others.847.mp4 (deflated 1%)\n",
            "  adding: content/kinetics/train/others/others.663.mp4 (deflated 1%)\n",
            "  adding: content/kinetics/train/others/others.748.mp4 (deflated 1%)\n",
            "  adding: content/kinetics/train/others/others.687.mp4 (deflated 2%)\n",
            "  adding: content/kinetics/train/others/others.649.mp4 (deflated 3%)\n",
            "  adding: content/kinetics/train/others/others.733.mp4 (deflated 0%)\n",
            "  adding: content/kinetics/train/others/others.639.mp4 (deflated 0%)\n",
            "  adding: content/kinetics/train/others/others.717.mp4 (deflated 0%)\n",
            "  adding: content/kinetics/train/others/others.645.mp4 (deflated 0%)\n",
            "  adding: content/kinetics/train/others/others.746.mp4 (deflated 1%)\n",
            "  adding: content/kinetics/train/others/others.624.mp4 (deflated 1%)\n",
            "  adding: content/kinetics/train/others/others.585.mp4 (deflated 1%)\n",
            "  adding: content/kinetics/train/others/others.580.mp4 (deflated 1%)\n",
            "  adding: content/kinetics/train/others/others.676.mp4 (deflated 2%)\n",
            "  adding: content/kinetics/train/others/others.688.mp4 (deflated 0%)\n",
            "  adding: content/kinetics/train/others/others.770.mp4 (deflated 0%)\n",
            "  adding: content/kinetics/train/others/others.861.mp4 (deflated 0%)\n",
            "  adding: content/kinetics/train/others/others.742.mp4 (deflated 1%)\n",
            "  adding: content/kinetics/train/others/others.709.mp4 (deflated 1%)\n",
            "  adding: content/kinetics/train/others/others.607.mp4 (deflated 2%)\n",
            "  adding: content/kinetics/train/others/others.862.mp4 (deflated 1%)\n",
            "  adding: content/kinetics/train/others/others.850.mp4 (deflated 1%)\n",
            "  adding: content/kinetics/train/others/others.823.mp4 (deflated 0%)\n",
            "  adding: content/kinetics/train/others/others.692.mp4 (deflated 1%)\n",
            "  adding: content/kinetics/train/others/others.619.mp4 (deflated 0%)\n",
            "  adding: content/kinetics/train/others/others.828.mp4 (deflated 0%)\n",
            "  adding: content/kinetics/train/others/others.571.mp4 (deflated 1%)\n",
            "  adding: content/kinetics/train/others/others.856.mp4 (deflated 1%)\n",
            "  adding: content/kinetics/train/others/others.574.mp4 (deflated 0%)\n",
            "  adding: content/kinetics/train/others/others.841.mp4 (deflated 2%)\n",
            "  adding: content/kinetics/train/others/others.622.mp4 (deflated 2%)\n",
            "  adding: content/kinetics/train/others/others.736.mp4 (deflated 1%)\n",
            "  adding: content/kinetics/train/others/others.774.mp4 (deflated 2%)\n",
            "  adding: content/kinetics/train/others/others.603.mp4 (deflated 0%)\n",
            "  adding: content/kinetics/train/others/others.650.mp4 (deflated 1%)\n",
            "  adding: content/kinetics/train/others/others.737.mp4 (deflated 0%)\n",
            "  adding: content/kinetics/train/others/others.813.mp4 (deflated 1%)\n",
            "  adding: content/kinetics/train/others/others.744.mp4 (deflated 1%)\n",
            "  adding: content/kinetics/train/others/others.672.mp4 (deflated 2%)\n",
            "  adding: content/kinetics/train/others/others.635.mp4 (deflated 0%)\n",
            "  adding: content/kinetics/train/others/others.633.mp4 (deflated 1%)\n",
            "  adding: content/kinetics/train/others/others.641.mp4 (deflated 1%)\n",
            "  adding: content/kinetics/train/others/others.667.mp4 (deflated 0%)\n",
            "  adding: content/kinetics/train/others/others.795.mp4 (deflated 1%)\n",
            "  adding: content/kinetics/train/others/others.751.mp4 (deflated 0%)\n",
            "  adding: content/kinetics/train/others/others.642.mp4 (deflated 0%)\n",
            "  adding: content/kinetics/train/others/others.669.mp4 (deflated 1%)\n",
            "  adding: content/kinetics/train/others/others.743.mp4 (deflated 0%)\n",
            "  adding: content/kinetics/train/others/others.778.mp4 (deflated 1%)\n",
            "  adding: content/kinetics/train/others/others.640.mp4 (deflated 0%)\n",
            "  adding: content/kinetics/train/others/others.781.mp4 (deflated 1%)\n",
            "  adding: content/kinetics/train/others/others.782.mp4 (deflated 1%)\n",
            "  adding: content/kinetics/train/others/others.857.mp4 (deflated 0%)\n",
            "  adding: content/kinetics/train/others/others.819.mp4 (deflated 1%)\n",
            "  adding: content/kinetics/train/others/others.703.mp4 (deflated 1%)\n",
            "  adding: content/kinetics/train/others/others.731.mp4 (deflated 2%)\n",
            "  adding: content/kinetics/train/others/others.740.mp4 (deflated 0%)\n",
            "  adding: content/kinetics/train/others/others.646.mp4 (deflated 2%)\n",
            "  adding: content/kinetics/train/others/others.684.mp4 (deflated 0%)\n",
            "  adding: content/kinetics/train/others/others.821.mp4 (deflated 0%)\n",
            "  adding: content/kinetics/train/others/others.620.mp4 (deflated 2%)\n",
            "  adding: content/kinetics/train/others/others.577.mp4 (deflated 2%)\n",
            "  adding: content/kinetics/train/others/others.587.mp4 (deflated 1%)\n",
            "  adding: content/kinetics/train/others/others.754.mp4 (deflated 0%)\n",
            "  adding: content/kinetics/train/others/others.842.mp4 (deflated 0%)\n",
            "  adding: content/kinetics/train/others/others.609.mp4 (deflated 1%)\n",
            "  adding: content/kinetics/train/others/others.594.mp4 (deflated 1%)\n",
            "  adding: content/kinetics/train/others/others.657.mp4 (deflated 1%)\n",
            "  adding: content/kinetics/train/others/others.747.mp4 (deflated 1%)\n",
            "  adding: content/kinetics/train/others/others.700.mp4 (deflated 1%)\n",
            "  adding: content/kinetics/train/others/others.825.mp4 (deflated 2%)\n",
            "  adding: content/kinetics/train/others/others.630.mp4 (deflated 2%)\n",
            "  adding: content/kinetics/train/others/others.853.mp4 (deflated 0%)\n",
            "  adding: content/kinetics/train/others/others.595.mp4 (deflated 1%)\n",
            "  adding: content/kinetics/train/others/others.634.mp4 (deflated 4%)\n",
            "  adding: content/kinetics/train/others/others.601.mp4 (deflated 2%)\n",
            "  adding: content/kinetics/train/others/others.638.mp4 (deflated 1%)\n",
            "  adding: content/kinetics/train/others/others.824.mp4 (deflated 1%)\n",
            "  adding: content/kinetics/train/others/others.794.mp4 (deflated 0%)\n",
            "  adding: content/kinetics/train/others/others.858.mp4 (deflated 3%)\n",
            "  adding: content/kinetics/train/others/others.724.mp4 (deflated 0%)\n",
            "  adding: content/kinetics/train/others/others.662.mp4 (deflated 1%)\n",
            "  adding: content/kinetics/train/others/others.714.mp4 (deflated 1%)\n",
            "  adding: content/kinetics/train/others/others.741.mp4 (deflated 0%)\n",
            "  adding: content/kinetics/train/others/others.656.mp4 (deflated 1%)\n",
            "  adding: content/kinetics/train/others/others.799.mp4 (deflated 1%)\n",
            "  adding: content/kinetics/train/others/others.752.mp4 (deflated 0%)\n",
            "  adding: content/kinetics/train/others/others.647.mp4 (deflated 1%)\n",
            "  adding: content/kinetics/train/others/others.600.mp4 (deflated 1%)\n",
            "  adding: content/kinetics/train/others/others.757.mp4 (deflated 1%)\n",
            "  adding: content/kinetics/train/others/others.802.mp4 (deflated 1%)\n",
            "  adding: content/kinetics/train/others/others.734.mp4 (deflated 56%)\n",
            "  adding: content/kinetics/train/others/others.695.mp4 (deflated 7%)\n",
            "  adding: content/kinetics/train/others/others.801.mp4 (deflated 2%)\n",
            "  adding: content/kinetics/train/others/others.636.mp4 (deflated 2%)\n",
            "  adding: content/kinetics/train/others/others.838.mp4 (deflated 1%)\n",
            "  adding: content/kinetics/train/others/others.793.mp4 (deflated 0%)\n",
            "  adding: content/kinetics/train/others/others.804.mp4 (deflated 1%)\n",
            "  adding: content/kinetics/train/others/others.765.mp4 (deflated 0%)\n",
            "  adding: content/kinetics/train/others/others.818.mp4 (deflated 2%)\n",
            "  adding: content/kinetics/train/others/others.764.mp4 (deflated 3%)\n",
            "  adding: content/kinetics/train/others/others.591.mp4 (deflated 2%)\n",
            "  adding: content/kinetics/train/others/others.756.mp4 (deflated 1%)\n",
            "  adding: content/kinetics/train/others/others.588.mp4 (deflated 0%)\n",
            "  adding: content/kinetics/train/others/others.790.mp4 (deflated 1%)\n",
            "  adding: content/kinetics/train/others/others.738.mp4 (deflated 0%)\n",
            "  adding: content/kinetics/train/others/others.805.mp4 (deflated 1%)\n",
            "  adding: content/kinetics/train/others/others.730.mp4 (deflated 1%)\n",
            "  adding: content/kinetics/train/others/others.720.mp4 (deflated 0%)\n",
            "  adding: content/kinetics/train/others/others.682.mp4 (deflated 2%)\n",
            "  adding: content/kinetics/train/others/others.758.mp4 (deflated 1%)\n",
            "  adding: content/kinetics/train/others/others.809.mp4 (deflated 1%)\n",
            "  adding: content/kinetics/train/others/others.592.mp4 (deflated 0%)\n",
            "  adding: content/kinetics/train/others/others.735.mp4 (deflated 1%)\n",
            "  adding: content/kinetics/train/others/others.613.mp4 (deflated 1%)\n",
            "  adding: content/kinetics/train/others/others.855.mp4 (deflated 1%)\n",
            "  adding: content/kinetics/train/others/others.769.mp4 (deflated 0%)\n",
            "  adding: content/kinetics/train/others/others.690.mp4 (deflated 0%)\n",
            "  adding: content/kinetics/train/others/others.810.mp4 (deflated 2%)\n",
            "  adding: content/kinetics/train/others/others.836.mp4 (deflated 0%)\n",
            "  adding: content/kinetics/train/others/others.651.mp4 (deflated 1%)\n",
            "  adding: content/kinetics/train/others/others.849.mp4 (deflated 0%)\n",
            "  adding: content/kinetics/train/others/others.596.mp4 (deflated 0%)\n",
            "  adding: content/kinetics/train/others/others.716.mp4 (deflated 1%)\n",
            "  adding: content/kinetics/train/others/others.693.mp4 (deflated 0%)\n",
            "  adding: content/kinetics/train/others/others.597.mp4 (deflated 0%)\n",
            "  adding: content/kinetics/train/others/others.800.mp4 (deflated 2%)\n",
            "  adding: content/kinetics/train/others/others.664.mp4 (deflated 1%)\n",
            "  adding: content/kinetics/train/others/others.845.mp4 (deflated 1%)\n",
            "  adding: content/kinetics/train/others/others.674.mp4 (deflated 0%)\n",
            "  adding: content/kinetics/train/others/others.701.mp4 (deflated 1%)\n",
            "  adding: content/kinetics/train/others/others.798.mp4 (deflated 1%)\n",
            "  adding: content/kinetics/train/others/others.727.mp4 (deflated 0%)\n",
            "  adding: content/kinetics/train/others/others.839.mp4 (deflated 0%)\n",
            "  adding: content/kinetics/train/others/others.625.mp4 (deflated 0%)\n",
            "  adding: content/kinetics/train/others/others.745.mp4 (deflated 0%)\n",
            "  adding: content/kinetics/train/others/others.722.mp4 (deflated 0%)\n",
            "  adding: content/kinetics/train/others/others.843.mp4 (deflated 2%)\n",
            "  adding: content/kinetics/train/others/others.840.mp4 (deflated 0%)\n",
            "  adding: content/kinetics/train/others/others.715.mp4 (deflated 0%)\n",
            "  adding: content/kinetics/train/others/others.658.mp4 (deflated 0%)\n",
            "  adding: content/kinetics/train/others/others.863.mp4 (deflated 0%)\n",
            "  adding: content/kinetics/train/others/others.835.mp4 (deflated 1%)\n",
            "  adding: content/kinetics/train/others/others.680.mp4 (deflated 0%)\n",
            "  adding: content/kinetics/train/others/others.811.mp4 (deflated 1%)\n",
            "  adding: content/kinetics/train/others/others.815.mp4 (deflated 1%)\n",
            "  adding: content/kinetics/train/others/others.713.mp4 (deflated 0%)\n",
            "  adding: content/kinetics/train/others/others.830.mp4 (deflated 0%)\n",
            "  adding: content/kinetics/train/others/others.578.mp4 (deflated 0%)\n",
            "  adding: content/kinetics/train/others/others.602.mp4 (deflated 1%)\n",
            "  adding: content/kinetics/train/others/others.827.mp4 (deflated 1%)\n",
            "  adding: content/kinetics/train/others/others.761.mp4 (deflated 1%)\n",
            "  adding: content/kinetics/train/others/others.611.mp4 (deflated 1%)\n",
            "  adding: content/kinetics/train/others/others.706.mp4 (deflated 0%)\n",
            "  adding: content/kinetics/train/others/others.806.mp4 (deflated 0%)\n",
            "  adding: content/kinetics/train/others/others.575.mp4 (deflated 1%)\n",
            "  adding: content/kinetics/train/others/others.615.mp4 (deflated 0%)\n",
            "  adding: content/kinetics/train/others/others.584.mp4 (deflated 1%)\n",
            "  adding: content/kinetics/train/others/others.659.mp4 (deflated 0%)\n",
            "  adding: content/kinetics/train/others/others.789.mp4 (deflated 0%)\n",
            "  adding: content/kinetics/train/others/others.854.mp4 (deflated 1%)\n",
            "  adding: content/kinetics/train/others/others.779.mp4 (deflated 2%)\n",
            "  adding: content/kinetics/train/others/others.654.mp4 (deflated 0%)\n",
            "  adding: content/kinetics/train/others/others.653.mp4 (deflated 3%)\n",
            "  adding: content/kinetics/train/others/others.832.mp4 (deflated 1%)\n",
            "  adding: content/kinetics/train/others/others.759.mp4 (deflated 2%)\n",
            "  adding: content/kinetics/train/others/others.666.mp4 (deflated 1%)\n",
            "  adding: content/kinetics/train/others/others.632.mp4 (deflated 1%)\n",
            "  adding: content/kinetics/train/others/others.581.mp4 (deflated 1%)\n",
            "  adding: content/kinetics/train/others/others.618.mp4 (deflated 1%)\n",
            "  adding: content/kinetics/train/others/others.573.mp4 (deflated 1%)\n",
            "  adding: content/kinetics/train/others/others.681.mp4 (deflated 0%)\n",
            "  adding: content/kinetics/train/others/others.831.mp4 (deflated 0%)\n",
            "  adding: content/kinetics/train/others/others.665.mp4 (deflated 1%)\n",
            "  adding: content/kinetics/train/others/others.791.mp4 (deflated 0%)\n",
            "  adding: content/kinetics/train/others/others.637.mp4 (deflated 0%)\n",
            "  adding: content/kinetics/train/others/others.677.mp4 (deflated 1%)\n",
            "  adding: content/kinetics/train/others/others.610.mp4 (deflated 1%)\n",
            "  adding: content/kinetics/train/others/others.694.mp4 (deflated 1%)\n",
            "  adding: content/kinetics/train/others/others.786.mp4 (deflated 0%)\n",
            "  adding: content/kinetics/train/others/others.739.mp4 (deflated 0%)\n",
            "  adding: content/kinetics/train/others/others.723.mp4 (deflated 0%)\n",
            "  adding: content/kinetics/train/others/others.820.mp4 (deflated 0%)\n",
            "  adding: content/kinetics/train/others/others.606.mp4 (deflated 0%)\n",
            "  adding: content/kinetics/train/others/others.718.mp4 (deflated 0%)\n",
            "  adding: content/kinetics/train/others/others.708.mp4 (deflated 1%)\n",
            "  adding: content/kinetics/train/others/others.621.mp4 (deflated 0%)\n",
            "  adding: content/kinetics/train/others/others.837.mp4 (deflated 0%)\n",
            "  adding: content/kinetics/train/others/others.829.mp4 (deflated 1%)\n",
            "  adding: content/kinetics/train/others/others.675.mp4 (deflated 0%)\n",
            "  adding: content/kinetics/train/others/others.648.mp4 (deflated 0%)\n",
            "  adding: content/kinetics/train/others/others.780.mp4 (deflated 1%)\n",
            "  adding: content/kinetics/train/others/others.582.mp4 (deflated 1%)\n",
            "  adding: content/kinetics/train/others/others.598.mp4 (deflated 0%)\n",
            "  adding: content/kinetics/train/others/others.589.mp4 (deflated 1%)\n",
            "  adding: content/kinetics/train/others/others.612.mp4 (deflated 1%)\n",
            "  adding: content/kinetics/train/others/others.686.mp4 (deflated 1%)\n",
            "  adding: content/kinetics/train/others/others.762.mp4 (deflated 1%)\n",
            "  adding: content/kinetics/train/others/others.749.mp4 (deflated 0%)\n",
            "  adding: content/kinetics/train/others/others.812.mp4 (deflated 0%)\n",
            "  adding: content/kinetics/train/others/others.732.mp4 (deflated 0%)\n",
            "  adding: content/kinetics/train/others/others.655.mp4 (deflated 1%)\n",
            "  adding: content/kinetics/train/others/others.614.mp4 (deflated 1%)\n",
            "  adding: content/kinetics/train/others/others.668.mp4 (deflated 0%)\n",
            "  adding: content/kinetics/train/others/others.626.mp4 (deflated 1%)\n",
            "  adding: content/kinetics/train/others/others.834.mp4 (deflated 0%)\n",
            "  adding: content/kinetics/train/others/others.644.mp4 (deflated 1%)\n",
            "  adding: content/kinetics/train/others/others.579.mp4 (deflated 0%)\n",
            "  adding: content/kinetics/train/others/others.707.mp4 (deflated 1%)\n",
            "  adding: content/kinetics/train/others/others.679.mp4 (deflated 1%)\n",
            "  adding: content/kinetics/train/others/others.768.mp4 (deflated 1%)\n",
            "  adding: content/kinetics/train/others/others.719.mp4 (deflated 1%)\n",
            "  adding: content/kinetics/train/others/others.822.mp4 (deflated 1%)\n",
            "  adding: content/kinetics/train/others/others.808.mp4 (deflated 1%)\n",
            "  adding: content/kinetics/train/others/others.698.mp4 (deflated 0%)\n",
            "  adding: content/kinetics/train/others/others.817.mp4 (deflated 2%)\n",
            "  adding: content/kinetics/train/others/others.629.mp4 (deflated 0%)\n",
            "  adding: content/kinetics/train/others/others.816.mp4 (deflated 0%)\n",
            "  adding: content/kinetics/train/others/others.728.mp4 (deflated 1%)\n",
            "  adding: content/kinetics/train/others/others.711.mp4 (deflated 1%)\n",
            "  adding: content/kinetics/train/others/others.753.mp4 (deflated 1%)\n",
            "  adding: content/kinetics/train/target/ (stored 0%)\n"
          ],
          "name": "stdout"
        }
      ]
    },
    {
      "cell_type": "code",
      "metadata": {
        "colab": {
          "base_uri": "https://localhost:8080/",
          "height": 17
        },
        "id": "syClmN8EBxKQ",
        "outputId": "5ee02732-24b3-447a-cce9-de9e8dd8a503"
      },
      "source": [
        "from google.colab import files\n",
        "files.download(\"/content/file.zip\")"
      ],
      "execution_count": null,
      "outputs": [
        {
          "output_type": "display_data",
          "data": {
            "application/javascript": [
              "\n",
              "    async function download(id, filename, size) {\n",
              "      if (!google.colab.kernel.accessAllowed) {\n",
              "        return;\n",
              "      }\n",
              "      const div = document.createElement('div');\n",
              "      const label = document.createElement('label');\n",
              "      label.textContent = `Downloading \"${filename}\": `;\n",
              "      div.appendChild(label);\n",
              "      const progress = document.createElement('progress');\n",
              "      progress.max = size;\n",
              "      div.appendChild(progress);\n",
              "      document.body.appendChild(div);\n",
              "\n",
              "      const buffers = [];\n",
              "      let downloaded = 0;\n",
              "\n",
              "      const channel = await google.colab.kernel.comms.open(id);\n",
              "      // Send a message to notify the kernel that we're ready.\n",
              "      channel.send({})\n",
              "\n",
              "      for await (const message of channel.messages) {\n",
              "        // Send a message to notify the kernel that we're ready.\n",
              "        channel.send({})\n",
              "        if (message.buffers) {\n",
              "          for (const buffer of message.buffers) {\n",
              "            buffers.push(buffer);\n",
              "            downloaded += buffer.byteLength;\n",
              "            progress.value = downloaded;\n",
              "          }\n",
              "        }\n",
              "      }\n",
              "      const blob = new Blob(buffers, {type: 'application/binary'});\n",
              "      const a = document.createElement('a');\n",
              "      a.href = window.URL.createObjectURL(blob);\n",
              "      a.download = filename;\n",
              "      div.appendChild(a);\n",
              "      a.click();\n",
              "      div.remove();\n",
              "    }\n",
              "  "
            ],
            "text/plain": [
              "<IPython.core.display.Javascript object>"
            ]
          },
          "metadata": {
            "tags": []
          }
        },
        {
          "output_type": "display_data",
          "data": {
            "application/javascript": [
              "download(\"download_6bdb77db-5e88-4bbd-acdd-41e1d14153c7\", \"file.zip\", 448366442)"
            ],
            "text/plain": [
              "<IPython.core.display.Javascript object>"
            ]
          },
          "metadata": {
            "tags": []
          }
        }
      ]
    },
    {
      "cell_type": "markdown",
      "metadata": {
        "id": "mPFZIEFLhuf5"
      },
      "source": [
        "# Load videos from Drive + preprocess\n",
        "\n",
        "*   Section all videos frame by frame\n",
        "*   Preprocess videos"
      ]
    },
    {
      "cell_type": "markdown",
      "metadata": {
        "id": "TCuYTQ16YVLw"
      },
      "source": [
        "Video frame generator\n",
        "\n",
        "[Keras video frame generator](https://medium.com/smileinnovation/training-neural-network-with-image-sequence-an-example-with-video-as-input-c3407f7a0b0f)"
      ]
    },
    {
      "cell_type": "code",
      "metadata": {
        "colab": {
          "base_uri": "https://localhost:8080/"
        },
        "id": "48MoZrifWmEX",
        "outputId": "09f6f29d-c075-43fd-81f5-295946ca0389"
      },
      "source": [
        "!pip install keras-video-generators"
      ],
      "execution_count": null,
      "outputs": [
        {
          "output_type": "stream",
          "text": [
            "Requirement already satisfied: keras-video-generators in /usr/local/lib/python3.7/dist-packages (1.0.14)\n",
            "Requirement already satisfied: keras>=2 in /usr/local/lib/python3.7/dist-packages (from keras-video-generators) (2.4.3)\n",
            "Requirement already satisfied: numpy in /usr/local/lib/python3.7/dist-packages (from keras-video-generators) (1.19.5)\n",
            "Requirement already satisfied: opencv-python in /usr/local/lib/python3.7/dist-packages (from keras-video-generators) (4.1.2.30)\n",
            "Requirement already satisfied: matplotlib in /usr/local/lib/python3.7/dist-packages (from keras-video-generators) (3.2.2)\n",
            "Requirement already satisfied: scipy>=0.14 in /usr/local/lib/python3.7/dist-packages (from keras>=2->keras-video-generators) (1.4.1)\n",
            "Requirement already satisfied: pyyaml in /usr/local/lib/python3.7/dist-packages (from keras>=2->keras-video-generators) (3.13)\n",
            "Requirement already satisfied: h5py in /usr/local/lib/python3.7/dist-packages (from keras>=2->keras-video-generators) (2.10.0)\n",
            "Requirement already satisfied: kiwisolver>=1.0.1 in /usr/local/lib/python3.7/dist-packages (from matplotlib->keras-video-generators) (1.3.1)\n",
            "Requirement already satisfied: python-dateutil>=2.1 in /usr/local/lib/python3.7/dist-packages (from matplotlib->keras-video-generators) (2.8.1)\n",
            "Requirement already satisfied: pyparsing!=2.0.4,!=2.1.2,!=2.1.6,>=2.0.1 in /usr/local/lib/python3.7/dist-packages (from matplotlib->keras-video-generators) (2.4.7)\n",
            "Requirement already satisfied: cycler>=0.10 in /usr/local/lib/python3.7/dist-packages (from matplotlib->keras-video-generators) (0.10.0)\n",
            "Requirement already satisfied: six in /usr/local/lib/python3.7/dist-packages (from h5py->keras>=2->keras-video-generators) (1.15.0)\n"
          ],
          "name": "stdout"
        }
      ]
    },
    {
      "cell_type": "code",
      "metadata": {
        "colab": {
          "base_uri": "https://localhost:8080/"
        },
        "id": "O6PZEuJqNe3C",
        "outputId": "ad8c2273-43f8-4cf4-f362-c2429b65fb9c"
      },
      "source": [
        "import keras\n",
        "import keras_video.utils\n",
        "from keras_video import VideoFrameGenerator\n",
        "\n",
        "classes = ['target' , 'others']\n",
        "# some global params\n",
        "SIZE = (112, 112)\n",
        "CHANNELS = 3\n",
        "NFRAME = 25\n",
        "BS = 10\n",
        "# pattern to get videos and classes\n",
        "glob_pattern='/content/drive/MyDrive/Colab Notebooks/kinetics/train/{classname}/*.mp4'\n",
        "# Data augmentation\n",
        "data_aug = keras.preprocessing.image.ImageDataGenerator(\n",
        "    zoom_range=.1,\n",
        "    horizontal_flip=True,\n",
        "    rotation_range=8,\n",
        "    width_shift_range=.2,\n",
        "    height_shift_range=.2)\n",
        "# Create video frame generator\n",
        "train = VideoFrameGenerator(\n",
        "    classes=classes, \n",
        "    glob_pattern=glob_pattern,\n",
        "    nb_frames=NFRAME,\n",
        "    split_val=0.2,  # 20% of the videos will be used as validation set. \n",
        "    shuffle=True,\n",
        "    batch_size=BS,\n",
        "    target_shape=SIZE,\n",
        "    nb_channel=CHANNELS,\n",
        "    transformation=data_aug,\n",
        "    use_frame_cache=True)\n",
        "\n",
        "val = train.get_validation_generator()\n",
        "\n",
        "# keras_video.utils.show_sample(train)"
      ],
      "execution_count": null,
      "outputs": [
        {
          "output_type": "stream",
          "text": [
            "class others, validation count: 164, train count: 658\n",
            "class target, validation count: 164, train count: 660\n",
            "Total data: 2 classes for 1318 files for train\n",
            "Total data: 2 classes for 328 files for validation\n"
          ],
          "name": "stdout"
        }
      ]
    },
    {
      "cell_type": "markdown",
      "metadata": {
        "id": "XONaB-3Z6Nh1"
      },
      "source": [
        "# Build model and train the network"
      ]
    },
    {
      "cell_type": "markdown",
      "metadata": {
        "id": "I9rR5jU36SKr"
      },
      "source": [
        "## Build model"
      ]
    },
    {
      "cell_type": "code",
      "metadata": {
        "id": "76BbTe2K6UkU",
        "colab": {
          "base_uri": "https://localhost:8080/"
        },
        "outputId": "d974aca6-817b-4661-9aba-37b2345f2b7b"
      },
      "source": [
        "import keras\n",
        "from keras import backend\n",
        "from keras.layers import TimeDistributed\n",
        "from keras.layers import Conv2D, MaxPool2D\n",
        "from keras.layers import Dense, Dropout\n",
        "from keras.layers import LSTM, GlobalMaxPool2D\n",
        "from keras.models import Sequential\n",
        "from keras.optimizers import Adam, RMSprop\n",
        "from keras.layers import BatchNormalization\n",
        "from keras.utils.vis_utils import plot_model\n",
        "from keras.applications import Xception\n",
        "\n",
        "# The pretrained network we will use\n",
        "conv_base = Xception(weights='imagenet',\n",
        "                  include_top=False,\n",
        "                  input_shape=(112, 112, 3))\n",
        "conv_base.trainable = False\n",
        "\n",
        "def action_model(shape=(NFRAME, 112, 112, 3), outputs=2):\n",
        "    \n",
        "    # Flatten output of conv_base\n",
        "    model0 = Sequential()\n",
        "    model0.add(conv_base)\n",
        "    model0.add(GlobalMaxPool2D())\n",
        "    # Build our model for training\n",
        "    model = Sequential()\n",
        "    model.add(TimeDistributed(model0, input_shape=shape))\n",
        "    # LSTM for time series\n",
        "    model.add(LSTM(64))\n",
        "    # Build the classifier\n",
        "    # model.add(Dense(1024, activation='relu'))\n",
        "    # model.add(Dropout(.5))\n",
        "    model.add(Dense(512, activation='relu'))\n",
        "    model.add(Dropout(.5))\n",
        "    model.add(Dense(128, activation='relu'))\n",
        "    model.add(Dropout(.5))\n",
        "    model.add(Dense(64, activation='relu'))\n",
        "    model.add(Dense(outputs, activation='sigmoid'))\n",
        "    return model\n",
        "\n",
        "INSHAPE=(NFRAME,) + SIZE + (CHANNELS,) # (15, 112, 112, 3)\n",
        "model = action_model(INSHAPE, len(classes))\n",
        "\n",
        "model.summary()\n"
      ],
      "execution_count": null,
      "outputs": [
        {
          "output_type": "stream",
          "text": [
            "Model: \"sequential_1\"\n",
            "_________________________________________________________________\n",
            "Layer (type)                 Output Shape              Param #   \n",
            "=================================================================\n",
            "time_distributed (TimeDistri (None, 25, 2048)          20861480  \n",
            "_________________________________________________________________\n",
            "lstm (LSTM)                  (None, 64)                540928    \n",
            "_________________________________________________________________\n",
            "dense (Dense)                (None, 512)               33280     \n",
            "_________________________________________________________________\n",
            "dropout (Dropout)            (None, 512)               0         \n",
            "_________________________________________________________________\n",
            "dense_1 (Dense)              (None, 128)               65664     \n",
            "_________________________________________________________________\n",
            "dropout_1 (Dropout)          (None, 128)               0         \n",
            "_________________________________________________________________\n",
            "dense_2 (Dense)              (None, 64)                8256      \n",
            "_________________________________________________________________\n",
            "dense_3 (Dense)              (None, 2)                 130       \n",
            "=================================================================\n",
            "Total params: 21,509,738\n",
            "Trainable params: 648,258\n",
            "Non-trainable params: 20,861,480\n",
            "_________________________________________________________________\n"
          ],
          "name": "stdout"
        }
      ]
    },
    {
      "cell_type": "code",
      "metadata": {
        "id": "rUr8FZpt9AFL"
      },
      "source": [
        "optimizer= Adam(lr=1e-4)\n",
        "model.compile(optimizer=optimizer , \n",
        "              loss='binary_crossentropy',\n",
        "              metrics=['accuracy'])"
      ],
      "execution_count": null,
      "outputs": []
    },
    {
      "cell_type": "markdown",
      "metadata": {
        "id": "pUR37Q0c9HfA"
      },
      "source": [
        "## Train the network"
      ]
    },
    {
      "cell_type": "markdown",
      "metadata": {
        "id": "cfxckdZxIMq_"
      },
      "source": [
        "['val_loss' not available](https://stackoverflow.com/questions/49035200/keras-early-stopping-callback-error-val-loss-metric-not-available)"
      ]
    },
    {
      "cell_type": "code",
      "metadata": {
        "id": "HiYbzWzB9Lrp",
        "colab": {
          "base_uri": "https://localhost:8080/"
        },
        "outputId": "39d67d5f-a01a-437c-fced-7c11ddd6b7ed"
      },
      "source": [
        "import time\n",
        "\n",
        "callbacks = [\n",
        "    keras.callbacks.ReduceLROnPlateau(\n",
        "        monitor = 'val_loss',\n",
        "        # factor = 0.1,\n",
        "        # patience = 10,\n",
        "    ),\n",
        "    keras.callbacks.ModelCheckpoint(\n",
        "        filepath = 'cleaning_renovate_shoes_Xception_try.h5',\n",
        "        monitor = 'val_loss',\n",
        "        save_best_only = True,\n",
        "                 ),\n",
        "]\n",
        "\n",
        "start = time.time()\n",
        "history = model.fit(\n",
        "                    train,\n",
        "                    steps_per_epoch = 20,\n",
        "                    #batch_size= 10,\n",
        "                    epochs = 30,\n",
        "                    callbacks=callbacks,\n",
        "                    validation_data= val,\n",
        "                    validation_steps = 10,)\n",
        "finish = time.time()\n",
        "print(\"Total training time: \", finish - start)"
      ],
      "execution_count": null,
      "outputs": [
        {
          "output_type": "stream",
          "text": [
            "Epoch 1/30\n",
            " 7/20 [=========>....................] - ETA: 1:00 - loss: 0.7202 - accuracy: 0.4276"
          ],
          "name": "stdout"
        },
        {
          "output_type": "stream",
          "text": [
            "Frame count is not OK for video /content/drive/MyDrive/Colab Notebooks/Study/CSCE 636/Project/kinetics/train/target/running on treadmill.479.mp4, 0 total, 0 extracted\n"
          ],
          "name": "stderr"
        },
        {
          "output_type": "stream",
          "text": [
            "11/20 [===============>..............] - ETA: 43s - loss: 0.7169 - accuracy: 0.4311"
          ],
          "name": "stdout"
        },
        {
          "output_type": "stream",
          "text": [
            "Frame count is not OK for video /content/drive/MyDrive/Colab Notebooks/Study/CSCE 636/Project/kinetics/train/others/others.155.mp4, 0 total, 0 extracted\n"
          ],
          "name": "stderr"
        },
        {
          "output_type": "stream",
          "text": [
            "20/20 [==============================] - ETA: 0s - loss: 0.7135 - accuracy: 0.4398"
          ],
          "name": "stdout"
        },
        {
          "output_type": "stream",
          "text": [
            "Frame count is not OK for video /content/drive/MyDrive/Colab Notebooks/Study/CSCE 636/Project/kinetics/train/others/others.151.mp4, 0 total, 0 extracted\n"
          ],
          "name": "stderr"
        },
        {
          "output_type": "stream",
          "text": [
            "\b\b\b\b\b\b\b\b\b\b\b\b\b\b\b\b\b\b\b\b\b\b\b\b\b\b\b\b\b\b\b\b\b\b\b\b\b\b\b\b\b\b\b\b\b\b\b\b\b\b\b\b\b\b\b\b\b\b\b\b\b\b\b\b\b\b\b\b\b\b\b\b\b\b\b\b\b\b\b\b\b\b\r20/20 [==============================] - 166s 8s/step - loss: 0.7132 - accuracy: 0.4408 - val_loss: 0.6918 - val_accuracy: 0.5253\n",
            "Epoch 2/30\n",
            "20/20 [==============================] - ETA: 0s - loss: 0.6961 - accuracy: 0.5397"
          ],
          "name": "stdout"
        },
        {
          "output_type": "stream",
          "text": [
            "Frame count is not OK for video /content/drive/MyDrive/Colab Notebooks/Study/CSCE 636/Project/kinetics/train/target/running on treadmill.508.mp4, 0 total, 0 extracted\n",
            "Frame count is not OK for video /content/drive/MyDrive/Colab Notebooks/Study/CSCE 636/Project/kinetics/train/others/others.151.mp4, 0 total, 0 extracted\n"
          ],
          "name": "stderr"
        },
        {
          "output_type": "stream",
          "text": [
            "\b\b\b\b\b\b\b\b\b\b\b\b\b\b\b\b\b\b\b\b\b\b\b\b\b\b\b\b\b\b\b\b\b\b\b\b\b\b\b\b\b\b\b\b\b\b\b\b\b\b\b\b\b\b\b\b\b\b\b\b\b\b\b\b\b\b\b\b\b\b\b\b\b\b\b\b\b\b\b\b\b\b\r20/20 [==============================] - 112s 5s/step - loss: 0.6958 - accuracy: 0.5423 - val_loss: 0.6849 - val_accuracy: 0.6122\n",
            "Epoch 3/30\n",
            "10/20 [==============>...............] - ETA: 37s - loss: 0.6951 - accuracy: 0.5365"
          ],
          "name": "stdout"
        },
        {
          "output_type": "stream",
          "text": [
            "Frame count is not OK for video /content/drive/MyDrive/Colab Notebooks/Study/CSCE 636/Project/kinetics/train/target/running on treadmill.786.mp4, 0 total, 0 extracted\n"
          ],
          "name": "stderr"
        },
        {
          "output_type": "stream",
          "text": [
            "\b\b\b\b\b\b\b\b\b\b\b\b\b\b\b\b\b\b\b\b\b\b\b\b\b\b\b\b\b\b\b\b\b\b\b\b\b\b\b\b\b\b\b\b\b\b\b\b\b\b\b\b\b\b\b\b\b\b\b\b\b\b\b\b\b\b\b\b\b\b\b\b\b\b\b\b\b\b\b\b\b\b\b\r11/20 [===============>..............] - ETA: 33s - loss: 0.6949 - accuracy: 0.5373"
          ],
          "name": "stdout"
        },
        {
          "output_type": "stream",
          "text": [
            "Frame count is not OK for video /content/drive/MyDrive/Colab Notebooks/Study/CSCE 636/Project/kinetics/train/target/running on treadmill.479.mp4, 0 total, 0 extracted\n"
          ],
          "name": "stderr"
        },
        {
          "output_type": "stream",
          "text": [
            "16/20 [=======================>......] - ETA: 14s - loss: 0.6943 - accuracy: 0.5387"
          ],
          "name": "stdout"
        },
        {
          "output_type": "stream",
          "text": [
            "Frame count is not OK for video /content/drive/MyDrive/Colab Notebooks/Study/CSCE 636/Project/kinetics/train/others/others.796.mp4, 0 total, 0 extracted\n"
          ],
          "name": "stderr"
        },
        {
          "output_type": "stream",
          "text": [
            "20/20 [==============================] - 94s 5s/step - loss: 0.6934 - accuracy: 0.5419 - val_loss: 0.6744 - val_accuracy: 0.7500\n",
            "Epoch 4/30\n",
            " 4/20 [=====>........................] - ETA: 35s - loss: 0.6864 - accuracy: 0.5063"
          ],
          "name": "stdout"
        },
        {
          "output_type": "stream",
          "text": [
            "Frame count is not OK for video /content/drive/MyDrive/Colab Notebooks/Study/CSCE 636/Project/kinetics/train/others/others.759.mp4, 0 total, 0 extracted\n"
          ],
          "name": "stderr"
        },
        {
          "output_type": "stream",
          "text": [
            "17/20 [========================>.....] - ETA: 8s - loss: 0.6875 - accuracy: 0.5294 "
          ],
          "name": "stdout"
        },
        {
          "output_type": "stream",
          "text": [
            "Frame count is not OK for video /content/drive/MyDrive/Colab Notebooks/Study/CSCE 636/Project/kinetics/train/others/others.121.mp4, 6 total, 5 extracted\n"
          ],
          "name": "stderr"
        },
        {
          "output_type": "stream",
          "text": [
            "20/20 [==============================] - ETA: 0s - loss: 0.6869 - accuracy: 0.5362"
          ],
          "name": "stdout"
        },
        {
          "output_type": "stream",
          "text": [
            "Frame count is not OK for video /content/drive/MyDrive/Colab Notebooks/Study/CSCE 636/Project/kinetics/train/others/others.151.mp4, 0 total, 0 extracted\n"
          ],
          "name": "stderr"
        },
        {
          "output_type": "stream",
          "text": [
            "\b\b\b\b\b\b\b\b\b\b\b\b\b\b\b\b\b\b\b\b\b\b\b\b\b\b\b\b\b\b\b\b\b\b\b\b\b\b\b\b\b\b\b\b\b\b\b\b\b\b\b\b\b\b\b\b\b\b\b\b\b\b\b\b\b\b\b\b\b\b\b\b\b\b\b\b\b\b\b\b\b\b\r20/20 [==============================] - 69s 3s/step - loss: 0.6867 - accuracy: 0.5384 - val_loss: 0.6705 - val_accuracy: 0.7576\n",
            "Epoch 5/30\n",
            "13/20 [==================>...........] - ETA: 19s - loss: 0.6796 - accuracy: 0.5737"
          ],
          "name": "stdout"
        },
        {
          "output_type": "stream",
          "text": [
            "Frame count is not OK for video /content/drive/MyDrive/Colab Notebooks/Study/CSCE 636/Project/kinetics/train/others/others.796.mp4, 0 total, 0 extracted\n"
          ],
          "name": "stderr"
        },
        {
          "output_type": "stream",
          "text": [
            "20/20 [==============================] - ETA: 0s - loss: 0.6771 - accuracy: 0.5799"
          ],
          "name": "stdout"
        },
        {
          "output_type": "stream",
          "text": [
            "Frame count is not OK for video /content/drive/MyDrive/Colab Notebooks/Study/CSCE 636/Project/kinetics/train/others/others.151.mp4, 0 total, 0 extracted\n"
          ],
          "name": "stderr"
        },
        {
          "output_type": "stream",
          "text": [
            "\b\b\b\b\b\b\b\b\b\b\b\b\b\b\b\b\b\b\b\b\b\b\b\b\b\b\b\b\b\b\b\b\b\b\b\b\b\b\b\b\b\b\b\b\b\b\b\b\b\b\b\b\b\b\b\b\b\b\b\b\b\b\b\b\b\b\b\b\b\b\b\b\b\b\b\b\b\b\b\b\b\b\r20/20 [==============================] - 74s 4s/step - loss: 0.6768 - accuracy: 0.5815 - val_loss: 0.6501 - val_accuracy: 0.7475\n",
            "Epoch 6/30\n",
            "10/20 [==============>...............] - ETA: 29s - loss: 0.6652 - accuracy: 0.6380"
          ],
          "name": "stdout"
        },
        {
          "output_type": "stream",
          "text": [
            "Frame count is not OK for video /content/drive/MyDrive/Colab Notebooks/Study/CSCE 636/Project/kinetics/train/target/running on treadmill.786.mp4, 0 total, 0 extracted\n"
          ],
          "name": "stderr"
        },
        {
          "output_type": "stream",
          "text": [
            "20/20 [==============================] - ETA: 0s - loss: 0.6617 - accuracy: 0.6668"
          ],
          "name": "stdout"
        },
        {
          "output_type": "stream",
          "text": [
            "Frame count is not OK for video /content/drive/MyDrive/Colab Notebooks/Study/CSCE 636/Project/kinetics/train/others/others.151.mp4, 0 total, 0 extracted\n"
          ],
          "name": "stderr"
        },
        {
          "output_type": "stream",
          "text": [
            "\b\b\b\b\b\b\b\b\b\b\b\b\b\b\b\b\b\b\b\b\b\b\b\b\b\b\b\b\b\b\b\b\b\b\b\b\b\b\b\b\b\b\b\b\b\b\b\b\b\b\b\b\b\b\b\b\b\b\b\b\b\b\b\b\b\b\b\b\b\b\b\b\b\b\b\b\b\b\b\b\b\b\r20/20 [==============================] - 66s 3s/step - loss: 0.6617 - accuracy: 0.6671 - val_loss: 0.6205 - val_accuracy: 0.8485\n",
            "Epoch 7/30\n",
            " 3/20 [===>..........................] - ETA: 18s - loss: 0.6608 - accuracy: 0.7778"
          ],
          "name": "stdout"
        },
        {
          "output_type": "stream",
          "text": [
            "Frame count is not OK for video /content/drive/MyDrive/Colab Notebooks/Study/CSCE 636/Project/kinetics/train/target/running on treadmill.479.mp4, 0 total, 0 extracted\n"
          ],
          "name": "stderr"
        },
        {
          "output_type": "stream",
          "text": [
            " 7/20 [=========>....................] - ETA: 26s - loss: 0.6603 - accuracy: 0.7297"
          ],
          "name": "stdout"
        },
        {
          "output_type": "stream",
          "text": [
            "Frame count is not OK for video /content/drive/MyDrive/Colab Notebooks/Study/CSCE 636/Project/kinetics/train/others/others.682.mp4, 0 total, 0 extracted\n"
          ],
          "name": "stderr"
        },
        {
          "output_type": "stream",
          "text": [
            "20/20 [==============================] - ETA: 0s - loss: 0.6506 - accuracy: 0.7253"
          ],
          "name": "stdout"
        },
        {
          "output_type": "stream",
          "text": [
            "Frame count is not OK for video /content/drive/MyDrive/Colab Notebooks/Study/CSCE 636/Project/kinetics/train/target/running on treadmill.508.mp4, 0 total, 0 extracted\n"
          ],
          "name": "stderr"
        },
        {
          "output_type": "stream",
          "text": [
            "\b\b\b\b\b\b\b\b\b\b\b\b\b\b\b\b\b\b\b\b\b\b\b\b\b\b\b\b\b\b\b\b\b\b\b\b\b\b\b\b\b\b\b\b\b\b\b\b\b\b\b\b\b\b\b\b\b\b\b\b\b\b\b\b\b\b\b\b\b\b\b\b\b\b\b\b\b\b\b\b\b\b\r20/20 [==============================] - 46s 2s/step - loss: 0.6502 - accuracy: 0.7247 - val_loss: 0.5949 - val_accuracy: 0.8283\n",
            "Epoch 8/30\n",
            "17/20 [========================>.....] - ETA: 6s - loss: 0.6063 - accuracy: 0.8206"
          ],
          "name": "stdout"
        },
        {
          "output_type": "stream",
          "text": [
            "Frame count is not OK for video /content/drive/MyDrive/Colab Notebooks/Study/CSCE 636/Project/kinetics/train/target/running on treadmill.479.mp4, 0 total, 0 extracted\n"
          ],
          "name": "stderr"
        },
        {
          "output_type": "stream",
          "text": [
            "20/20 [==============================] - 47s 2s/step - loss: 0.6042 - accuracy: 0.8150 - val_loss: 0.5407 - val_accuracy: 0.8400\n",
            "Epoch 9/30\n",
            " 4/20 [=====>........................] - ETA: 34s - loss: 0.6157 - accuracy: 0.6813"
          ],
          "name": "stdout"
        },
        {
          "output_type": "stream",
          "text": [
            "Frame count is not OK for video /content/drive/MyDrive/Colab Notebooks/Study/CSCE 636/Project/kinetics/train/others/others.155.mp4, 0 total, 0 extracted\n"
          ],
          "name": "stderr"
        },
        {
          "output_type": "stream",
          "text": [
            "14/20 [====================>.........] - ETA: 9s - loss: 0.5977 - accuracy: 0.7314 "
          ],
          "name": "stdout"
        },
        {
          "output_type": "stream",
          "text": [
            "Frame count is not OK for video /content/drive/MyDrive/Colab Notebooks/Study/CSCE 636/Project/kinetics/train/others/others.796.mp4, 0 total, 0 extracted\n"
          ],
          "name": "stderr"
        },
        {
          "output_type": "stream",
          "text": [
            "20/20 [==============================] - 36s 2s/step - loss: 0.5896 - accuracy: 0.7442 - val_loss: 0.4624 - val_accuracy: 0.8500\n",
            "Epoch 10/30\n",
            " 7/20 [=========>....................] - ETA: 17s - loss: 0.5589 - accuracy: 0.7343"
          ],
          "name": "stdout"
        },
        {
          "output_type": "stream",
          "text": [
            "Frame count is not OK for video /content/drive/MyDrive/Colab Notebooks/Study/CSCE 636/Project/kinetics/train/others/others.759.mp4, 0 total, 0 extracted\n"
          ],
          "name": "stderr"
        },
        {
          "output_type": "stream",
          "text": [
            "\b\b\b\b\b\b\b\b\b\b\b\b\b\b\b\b\b\b\b\b\b\b\b\b\b\b\b\b\b\b\b\b\b\b\b\b\b\b\b\b\b\b\b\b\b\b\b\b\b\b\b\b\b\b\b\b\b\b\b\b\b\b\b\b\b\b\b\b\b\b\b\b\b\b\b\b\b\b\b\b\b\b\b\r 8/20 [===========>..................] - ETA: 15s - loss: 0.5555 - accuracy: 0.7393"
          ],
          "name": "stdout"
        },
        {
          "output_type": "stream",
          "text": [
            "Frame count is not OK for video /content/drive/MyDrive/Colab Notebooks/Study/CSCE 636/Project/kinetics/train/others/others.121.mp4, 6 total, 5 extracted\n"
          ],
          "name": "stderr"
        },
        {
          "output_type": "stream",
          "text": [
            "20/20 [==============================] - ETA: 0s - loss: 0.5312 - accuracy: 0.7732"
          ],
          "name": "stdout"
        },
        {
          "output_type": "stream",
          "text": [
            "Frame count is not OK for video /content/drive/MyDrive/Colab Notebooks/Study/CSCE 636/Project/kinetics/train/others/others.467.mp4, 0 total, 0 extracted\n"
          ],
          "name": "stderr"
        },
        {
          "output_type": "stream",
          "text": [
            "\b\b\b\b\b\b\b\b\b\b\b\b\b\b\b\b\b\b\b\b\b\b\b\b\b\b\b\b\b\b\b\b\b\b\b\b\b\b\b\b\b\b\b\b\b\b\b\b\b\b\b\b\b\b\b\b\b\b\b\b\b\b\b\b\b\b\b\b\b\b\b\b\b\b\b\b\b\b\b\b\b\b\r20/20 [==============================] - 33s 2s/step - loss: 0.5313 - accuracy: 0.7736 - val_loss: 0.4217 - val_accuracy: 0.8586\n",
            "Epoch 11/30\n",
            " 4/20 [=====>........................] - ETA: 24s - loss: 0.4195 - accuracy: 0.9667"
          ],
          "name": "stdout"
        },
        {
          "output_type": "stream",
          "text": [
            "Frame count is not OK for video /content/drive/MyDrive/Colab Notebooks/Study/CSCE 636/Project/kinetics/train/others/others.121.mp4, 6 total, 5 extracted\n"
          ],
          "name": "stderr"
        },
        {
          "output_type": "stream",
          "text": [
            "10/20 [==============>...............] - ETA: 17s - loss: 0.4572 - accuracy: 0.8966"
          ],
          "name": "stdout"
        },
        {
          "output_type": "stream",
          "text": [
            "Frame count is not OK for video /content/drive/MyDrive/Colab Notebooks/Study/CSCE 636/Project/kinetics/train/target/running on treadmill.479.mp4, 0 total, 0 extracted\n"
          ],
          "name": "stderr"
        },
        {
          "output_type": "stream",
          "text": [
            "19/20 [===========================>..] - ETA: 1s - loss: 0.4623 - accuracy: 0.8778"
          ],
          "name": "stdout"
        },
        {
          "output_type": "stream",
          "text": [
            "Frame count is not OK for video /content/drive/MyDrive/Colab Notebooks/Study/CSCE 636/Project/kinetics/train/target/running on treadmill.16.mp4, 0 total, 0 extracted\n"
          ],
          "name": "stderr"
        },
        {
          "output_type": "stream",
          "text": [
            "\b\b\b\b\b\b\b\b\b\b\b\b\b\b\b\b\b\b\b\b\b\b\b\b\b\b\b\b\b\b\b\b\b\b\b\b\b\b\b\b\b\b\b\b\b\b\b\b\b\b\b\b\b\b\b\b\b\b\b\b\b\b\b\b\b\b\b\b\b\b\b\b\b\b\b\b\b\b\b\b\b\b\r20/20 [==============================] - ETA: 0s - loss: 0.4632 - accuracy: 0.8763"
          ],
          "name": "stdout"
        },
        {
          "output_type": "stream",
          "text": [
            "Frame count is not OK for video /content/drive/MyDrive/Colab Notebooks/Study/CSCE 636/Project/kinetics/train/others/others.151.mp4, 0 total, 0 extracted\n"
          ],
          "name": "stderr"
        },
        {
          "output_type": "stream",
          "text": [
            "\b\b\b\b\b\b\b\b\b\b\b\b\b\b\b\b\b\b\b\b\b\b\b\b\b\b\b\b\b\b\b\b\b\b\b\b\b\b\b\b\b\b\b\b\b\b\b\b\b\b\b\b\b\b\b\b\b\b\b\b\b\b\b\b\b\b\b\b\b\b\b\b\b\b\b\b\b\b\b\b\b\b\r20/20 [==============================] - 33s 2s/step - loss: 0.4641 - accuracy: 0.8749 - val_loss: 0.3989 - val_accuracy: 0.8384\n",
            "Epoch 12/30\n",
            " 5/20 [======>.......................] - ETA: 19s - loss: 0.3897 - accuracy: 0.8740"
          ],
          "name": "stdout"
        },
        {
          "output_type": "stream",
          "text": [
            "Frame count is not OK for video /content/drive/MyDrive/Colab Notebooks/Study/CSCE 636/Project/kinetics/train/others/others.796.mp4, 0 total, 0 extracted\n"
          ],
          "name": "stderr"
        },
        {
          "output_type": "stream",
          "text": [
            "19/20 [===========================>..] - ETA: 1s - loss: 0.4295 - accuracy: 0.8457"
          ],
          "name": "stdout"
        },
        {
          "output_type": "stream",
          "text": [
            "Frame count is not OK for video /content/drive/MyDrive/Colab Notebooks/Study/CSCE 636/Project/kinetics/train/others/others.682.mp4, 0 total, 0 extracted\n"
          ],
          "name": "stderr"
        },
        {
          "output_type": "stream",
          "text": [
            "\b\b\b\b\b\b\b\b\b\b\b\b\b\b\b\b\b\b\b\b\b\b\b\b\b\b\b\b\b\b\b\b\b\b\b\b\b\b\b\b\b\b\b\b\b\b\b\b\b\b\b\b\b\b\b\b\b\b\b\b\b\b\b\b\b\b\b\b\b\b\b\b\b\b\b\b\b\b\b\b\b\b\r20/20 [==============================] - ETA: 0s - loss: 0.4296 - accuracy: 0.8455"
          ],
          "name": "stdout"
        },
        {
          "output_type": "stream",
          "text": [
            "Frame count is not OK for video /content/drive/MyDrive/Colab Notebooks/Study/CSCE 636/Project/kinetics/train/others/others.151.mp4, 0 total, 0 extracted\n"
          ],
          "name": "stderr"
        },
        {
          "output_type": "stream",
          "text": [
            "\b\b\b\b\b\b\b\b\b\b\b\b\b\b\b\b\b\b\b\b\b\b\b\b\b\b\b\b\b\b\b\b\b\b\b\b\b\b\b\b\b\b\b\b\b\b\b\b\b\b\b\b\b\b\b\b\b\b\b\b\b\b\b\b\b\b\b\b\b\b\b\b\b\b\b\b\b\b\b\b\b\b\r20/20 [==============================] - 35s 2s/step - loss: 0.4298 - accuracy: 0.8454 - val_loss: 0.3902 - val_accuracy: 0.8283\n",
            "Epoch 13/30\n",
            " 6/20 [========>.....................] - ETA: 11s - loss: 0.5289 - accuracy: 0.7200"
          ],
          "name": "stdout"
        },
        {
          "output_type": "stream",
          "text": [
            "Frame count is not OK for video /content/drive/MyDrive/Colab Notebooks/Study/CSCE 636/Project/kinetics/train/target/running on treadmill.786.mp4, 0 total, 0 extracted\n"
          ],
          "name": "stderr"
        },
        {
          "output_type": "stream",
          "text": [
            "16/20 [=======================>......] - ETA: 5s - loss: 0.5145 - accuracy: 0.7486"
          ],
          "name": "stdout"
        },
        {
          "output_type": "stream",
          "text": [
            "Frame count is not OK for video /content/drive/MyDrive/Colab Notebooks/Study/CSCE 636/Project/kinetics/train/others/others.682.mp4, 0 total, 0 extracted\n"
          ],
          "name": "stderr"
        },
        {
          "output_type": "stream",
          "text": [
            "20/20 [==============================] - ETA: 0s - loss: 0.5061 - accuracy: 0.7583"
          ],
          "name": "stdout"
        },
        {
          "output_type": "stream",
          "text": [
            "Frame count is not OK for video /content/drive/MyDrive/Colab Notebooks/Study/CSCE 636/Project/kinetics/train/others/others.467.mp4, 0 total, 0 extracted\n"
          ],
          "name": "stderr"
        },
        {
          "output_type": "stream",
          "text": [
            "\b\b\b\b\b\b\b\b\b\b\b\b\b\b\b\b\b\b\b\b\b\b\b\b\b\b\b\b\b\b\b\b\b\b\b\b\b\b\b\b\b\b\b\b\b\b\b\b\b\b\b\b\b\b\b\b\b\b\b\b\b\b\b\b\b\b\b\b\b\b\b\b\b\b\b\b\b\b\b\b\b\b\r20/20 [==============================] - 27s 1s/step - loss: 0.5039 - accuracy: 0.7607 - val_loss: 0.3815 - val_accuracy: 0.8384\n",
            "Epoch 14/30\n",
            "20/20 [==============================] - 27s 1s/step - loss: 0.4650 - accuracy: 0.7847 - val_loss: 0.3277 - val_accuracy: 0.8600\n",
            "Epoch 15/30\n",
            " 4/20 [=====>........................] - ETA: 14s - loss: 0.3267 - accuracy: 0.8417"
          ],
          "name": "stdout"
        },
        {
          "output_type": "stream",
          "text": [
            "Frame count is not OK for video /content/drive/MyDrive/Colab Notebooks/Study/CSCE 636/Project/kinetics/train/target/running on treadmill.16.mp4, 0 total, 0 extracted\n"
          ],
          "name": "stderr"
        },
        {
          "output_type": "stream",
          "text": [
            "11/20 [===============>..............] - ETA: 8s - loss: 0.3234 - accuracy: 0.8737"
          ],
          "name": "stdout"
        },
        {
          "output_type": "stream",
          "text": [
            "Frame count is not OK for video /content/drive/MyDrive/Colab Notebooks/Study/CSCE 636/Project/kinetics/train/target/running on treadmill.786.mp4, 0 total, 0 extracted\n"
          ],
          "name": "stderr"
        },
        {
          "output_type": "stream",
          "text": [
            "20/20 [==============================] - ETA: 0s - loss: 0.3408 - accuracy: 0.8757"
          ],
          "name": "stdout"
        },
        {
          "output_type": "stream",
          "text": [
            "Frame count is not OK for video /content/drive/MyDrive/Colab Notebooks/Study/CSCE 636/Project/kinetics/train/target/running on treadmill.508.mp4, 0 total, 0 extracted\n"
          ],
          "name": "stderr"
        },
        {
          "output_type": "stream",
          "text": [
            "\b\b\b\b\b\b\b\b\b\b\b\b\b\b\b\b\b\b\b\b\b\b\b\b\b\b\b\b\b\b\b\b\b\b\b\b\b\b\b\b\b\b\b\b\b\b\b\b\b\b\b\b\b\b\b\b\b\b\b\b\b\b\b\b\b\b\b\b\b\b\b\b\b\b\b\b\b\b\b\b\b\b\r20/20 [==============================] - 21s 1s/step - loss: 0.3415 - accuracy: 0.8758 - val_loss: 0.3598 - val_accuracy: 0.8586\n",
            "Epoch 16/30\n",
            " 2/20 [==>...........................] - ETA: 13s - loss: 0.2983 - accuracy: 0.9000"
          ],
          "name": "stdout"
        },
        {
          "output_type": "stream",
          "text": [
            "Frame count is not OK for video /content/drive/MyDrive/Colab Notebooks/Study/CSCE 636/Project/kinetics/train/others/others.682.mp4, 0 total, 0 extracted\n"
          ],
          "name": "stderr"
        },
        {
          "output_type": "stream",
          "text": [
            "20/20 [==============================] - ETA: 0s - loss: 0.3551 - accuracy: 0.8679"
          ],
          "name": "stdout"
        },
        {
          "output_type": "stream",
          "text": [
            "Frame count is not OK for video /content/drive/MyDrive/Colab Notebooks/Study/CSCE 636/Project/kinetics/train/others/others.151.mp4, 0 total, 0 extracted\n",
            "Frame count is not OK for video /content/drive/MyDrive/Colab Notebooks/Study/CSCE 636/Project/kinetics/train/target/running on treadmill.508.mp4, 0 total, 0 extracted\n"
          ],
          "name": "stderr"
        },
        {
          "output_type": "stream",
          "text": [
            "\b\b\b\b\b\b\b\b\b\b\b\b\b\b\b\b\b\b\b\b\b\b\b\b\b\b\b\b\b\b\b\b\b\b\b\b\b\b\b\b\b\b\b\b\b\b\b\b\b\b\b\b\b\b\b\b\b\b\b\b\b\b\b\b\b\b\b\b\b\b\b\b\b\b\b\b\b\b\b\b\b\b\r20/20 [==============================] - 21s 1s/step - loss: 0.3564 - accuracy: 0.8665 - val_loss: 0.2923 - val_accuracy: 0.8673\n",
            "Epoch 17/30\n",
            " 1/20 [>.............................] - ETA: 16s - loss: 0.3456 - accuracy: 0.8000"
          ],
          "name": "stdout"
        },
        {
          "output_type": "stream",
          "text": [
            "Frame count is not OK for video /content/drive/MyDrive/Colab Notebooks/Study/CSCE 636/Project/kinetics/train/target/running on treadmill.786.mp4, 0 total, 0 extracted\n"
          ],
          "name": "stderr"
        },
        {
          "output_type": "stream",
          "text": [
            " 7/20 [=========>....................] - ETA: 10s - loss: 0.4660 - accuracy: 0.7908"
          ],
          "name": "stdout"
        },
        {
          "output_type": "stream",
          "text": [
            "Frame count is not OK for video /content/drive/MyDrive/Colab Notebooks/Study/CSCE 636/Project/kinetics/train/target/running on treadmill.479.mp4, 0 total, 0 extracted\n"
          ],
          "name": "stderr"
        },
        {
          "output_type": "stream",
          "text": [
            "10/20 [==============>...............] - ETA: 8s - loss: 0.4669 - accuracy: 0.7898"
          ],
          "name": "stdout"
        },
        {
          "output_type": "stream",
          "text": [
            "Frame count is not OK for video /content/drive/MyDrive/Colab Notebooks/Study/CSCE 636/Project/kinetics/train/others/others.796.mp4, 0 total, 0 extracted\n"
          ],
          "name": "stderr"
        },
        {
          "output_type": "stream",
          "text": [
            "13/20 [==================>...........] - ETA: 6s - loss: 0.4618 - accuracy: 0.7923"
          ],
          "name": "stdout"
        },
        {
          "output_type": "stream",
          "text": [
            "Frame count is not OK for video /content/drive/MyDrive/Colab Notebooks/Study/CSCE 636/Project/kinetics/train/others/others.155.mp4, 0 total, 0 extracted\n"
          ],
          "name": "stderr"
        },
        {
          "output_type": "stream",
          "text": [
            "20/20 [==============================] - 21s 1s/step - loss: 0.4608 - accuracy: 0.7962 - val_loss: 0.3595 - val_accuracy: 0.8200\n",
            "Epoch 18/30\n",
            " 4/20 [=====>........................] - ETA: 18s - loss: 0.3965 - accuracy: 0.8104"
          ],
          "name": "stdout"
        },
        {
          "output_type": "stream",
          "text": [
            "Frame count is not OK for video /content/drive/MyDrive/Colab Notebooks/Study/CSCE 636/Project/kinetics/train/target/running on treadmill.479.mp4, 0 total, 0 extracted\n"
          ],
          "name": "stderr"
        },
        {
          "output_type": "stream",
          "text": [
            "10/20 [==============>...............] - ETA: 9s - loss: 0.3700 - accuracy: 0.8438 "
          ],
          "name": "stdout"
        },
        {
          "output_type": "stream",
          "text": [
            "Frame count is not OK for video /content/drive/MyDrive/Colab Notebooks/Study/CSCE 636/Project/kinetics/train/others/others.783.mp4, 0 total, 0 extracted\n"
          ],
          "name": "stderr"
        },
        {
          "output_type": "stream",
          "text": [
            "20/20 [==============================] - ETA: 0s - loss: 0.3820 - accuracy: 0.8405"
          ],
          "name": "stdout"
        },
        {
          "output_type": "stream",
          "text": [
            "Frame count is not OK for video /content/drive/MyDrive/Colab Notebooks/Study/CSCE 636/Project/kinetics/train/others/others.151.mp4, 0 total, 0 extracted\n",
            "Frame count is not OK for video /content/drive/MyDrive/Colab Notebooks/Study/CSCE 636/Project/kinetics/train/target/running on treadmill.508.mp4, 0 total, 0 extracted\n",
            "Frame count is not OK for video /content/drive/MyDrive/Colab Notebooks/Study/CSCE 636/Project/kinetics/train/others/others.467.mp4, 0 total, 0 extracted\n"
          ],
          "name": "stderr"
        },
        {
          "output_type": "stream",
          "text": [
            "\b\b\b\b\b\b\b\b\b\b\b\b\b\b\b\b\b\b\b\b\b\b\b\b\b\b\b\b\b\b\b\b\b\b\b\b\b\b\b\b\b\b\b\b\b\b\b\b\b\b\b\b\b\b\b\b\b\b\b\b\b\b\b\b\b\b\b\b\b\b\b\b\b\b\b\b\b\b\b\b\b\b\r20/20 [==============================] - 23s 1s/step - loss: 0.3830 - accuracy: 0.8404 - val_loss: 0.3312 - val_accuracy: 0.8454\n",
            "Epoch 19/30\n",
            " 2/20 [==>...........................] - ETA: 17s - loss: 0.3035 - accuracy: 0.9000"
          ],
          "name": "stdout"
        },
        {
          "output_type": "stream",
          "text": [
            "Frame count is not OK for video /content/drive/MyDrive/Colab Notebooks/Study/CSCE 636/Project/kinetics/train/target/running on treadmill.16.mp4, 0 total, 0 extracted\n"
          ],
          "name": "stderr"
        },
        {
          "output_type": "stream",
          "text": [
            "\b\b\b\b\b\b\b\b\b\b\b\b\b\b\b\b\b\b\b\b\b\b\b\b\b\b\b\b\b\b\b\b\b\b\b\b\b\b\b\b\b\b\b\b\b\b\b\b\b\b\b\b\b\b\b\b\b\b\b\b\b\b\b\b\b\b\b\b\b\b\b\b\b\b\b\b\b\b\b\b\b\b\b\r 3/20 [===>..........................] - ETA: 14s - loss: 0.3261 - accuracy: 0.8667"
          ],
          "name": "stdout"
        },
        {
          "output_type": "stream",
          "text": [
            "Frame count is not OK for video /content/drive/MyDrive/Colab Notebooks/Study/CSCE 636/Project/kinetics/train/target/running on treadmill.786.mp4, 0 total, 0 extracted\n"
          ],
          "name": "stderr"
        },
        {
          "output_type": "stream",
          "text": [
            "20/20 [==============================] - ETA: 0s - loss: 0.3964 - accuracy: 0.8095"
          ],
          "name": "stdout"
        },
        {
          "output_type": "stream",
          "text": [
            "Frame count is not OK for video /content/drive/MyDrive/Colab Notebooks/Study/CSCE 636/Project/kinetics/train/others/others.467.mp4, 0 total, 0 extracted\n",
            "Frame count is not OK for video /content/drive/MyDrive/Colab Notebooks/Study/CSCE 636/Project/kinetics/train/others/others.151.mp4, 0 total, 0 extracted\n"
          ],
          "name": "stderr"
        },
        {
          "output_type": "stream",
          "text": [
            "\b\b\b\b\b\b\b\b\b\b\b\b\b\b\b\b\b\b\b\b\b\b\b\b\b\b\b\b\b\b\b\b\b\b\b\b\b\b\b\b\b\b\b\b\b\b\b\b\b\b\b\b\b\b\b\b\b\b\b\b\b\b\b\b\b\b\b\b\b\b\b\b\b\b\b\b\b\b\b\b\b\b\r20/20 [==============================] - 21s 1s/step - loss: 0.3975 - accuracy: 0.8092 - val_loss: 0.3364 - val_accuracy: 0.8687\n",
            "Epoch 20/30\n",
            "20/20 [==============================] - ETA: 0s - loss: 0.3727 - accuracy: 0.8008"
          ],
          "name": "stdout"
        },
        {
          "output_type": "stream",
          "text": [
            "Frame count is not OK for video /content/drive/MyDrive/Colab Notebooks/Study/CSCE 636/Project/kinetics/train/target/running on treadmill.508.mp4, 0 total, 0 extracted\n",
            "Frame count is not OK for video /content/drive/MyDrive/Colab Notebooks/Study/CSCE 636/Project/kinetics/train/others/others.151.mp4, 0 total, 0 extracted\n"
          ],
          "name": "stderr"
        },
        {
          "output_type": "stream",
          "text": [
            "\b\b\b\b\b\b\b\b\b\b\b\b\b\b\b\b\b\b\b\b\b\b\b\b\b\b\b\b\b\b\b\b\b\b\b\b\b\b\b\b\b\b\b\b\b\b\b\b\b\b\b\b\b\b\b\b\b\b\b\b\b\b\b\b\b\b\b\b\b\b\b\b\b\b\b\b\b\b\b\b\b\b\r20/20 [==============================] - 18s 909ms/step - loss: 0.3735 - accuracy: 0.8012 - val_loss: 0.3229 - val_accuracy: 0.8776\n",
            "Epoch 21/30\n",
            "20/20 [==============================] - 18s 902ms/step - loss: 0.4421 - accuracy: 0.8078 - val_loss: 0.3023 - val_accuracy: 0.8700\n",
            "Epoch 22/30\n",
            " 2/20 [==>...........................] - ETA: 13s - loss: 0.5326 - accuracy: 0.7500"
          ],
          "name": "stdout"
        },
        {
          "output_type": "stream",
          "text": [
            "Frame count is not OK for video /content/drive/MyDrive/Colab Notebooks/Study/CSCE 636/Project/kinetics/train/target/running on treadmill.786.mp4, 0 total, 0 extracted\n"
          ],
          "name": "stderr"
        },
        {
          "output_type": "stream",
          "text": [
            " 4/20 [=====>........................] - ETA: 16s - loss: 0.5110 - accuracy: 0.7634"
          ],
          "name": "stdout"
        },
        {
          "output_type": "stream",
          "text": [
            "Frame count is not OK for video /content/drive/MyDrive/Colab Notebooks/Study/CSCE 636/Project/kinetics/train/target/running on treadmill.479.mp4, 0 total, 0 extracted\n"
          ],
          "name": "stderr"
        },
        {
          "output_type": "stream",
          "text": [
            "20/20 [==============================] - 19s 949ms/step - loss: 0.4042 - accuracy: 0.8440 - val_loss: 0.3712 - val_accuracy: 0.8600\n",
            "Epoch 23/30\n",
            " 7/20 [=========>....................] - ETA: 10s - loss: 0.3237 - accuracy: 0.8588"
          ],
          "name": "stdout"
        },
        {
          "output_type": "stream",
          "text": [
            "Frame count is not OK for video /content/drive/MyDrive/Colab Notebooks/Study/CSCE 636/Project/kinetics/train/others/others.682.mp4, 0 total, 0 extracted\n"
          ],
          "name": "stderr"
        },
        {
          "output_type": "stream",
          "text": [
            "20/20 [==============================] - ETA: 0s - loss: 0.3827 - accuracy: 0.8258"
          ],
          "name": "stdout"
        },
        {
          "output_type": "stream",
          "text": [
            "Frame count is not OK for video /content/drive/MyDrive/Colab Notebooks/Study/CSCE 636/Project/kinetics/train/others/others.151.mp4, 0 total, 0 extracted\n"
          ],
          "name": "stderr"
        },
        {
          "output_type": "stream",
          "text": [
            "\b\b\b\b\b\b\b\b\b\b\b\b\b\b\b\b\b\b\b\b\b\b\b\b\b\b\b\b\b\b\b\b\b\b\b\b\b\b\b\b\b\b\b\b\b\b\b\b\b\b\b\b\b\b\b\b\b\b\b\b\b\b\b\b\b\b\b\b\b\b\b\b\b\b\b\b\b\b\b\b\b\b\r20/20 [==============================] - 19s 948ms/step - loss: 0.3850 - accuracy: 0.8238 - val_loss: 0.2697 - val_accuracy: 0.9091\n",
            "Epoch 24/30\n",
            "20/20 [==============================] - 19s 939ms/step - loss: 0.4042 - accuracy: 0.8359 - val_loss: 0.3109 - val_accuracy: 0.8700\n",
            "Epoch 25/30\n",
            "17/20 [========================>.....] - ETA: 2s - loss: 0.3752 - accuracy: 0.8848"
          ],
          "name": "stdout"
        },
        {
          "output_type": "stream",
          "text": [
            "Frame count is not OK for video /content/drive/MyDrive/Colab Notebooks/Study/CSCE 636/Project/kinetics/train/others/others.796.mp4, 0 total, 0 extracted\n"
          ],
          "name": "stderr"
        },
        {
          "output_type": "stream",
          "text": [
            "20/20 [==============================] - ETA: 0s - loss: 0.3700 - accuracy: 0.8833"
          ],
          "name": "stdout"
        },
        {
          "output_type": "stream",
          "text": [
            "Frame count is not OK for video /content/drive/MyDrive/Colab Notebooks/Study/CSCE 636/Project/kinetics/train/target/running on treadmill.508.mp4, 0 total, 0 extracted\n"
          ],
          "name": "stderr"
        },
        {
          "output_type": "stream",
          "text": [
            "\b\b\b\b\b\b\b\b\b\b\b\b\b\b\b\b\b\b\b\b\b\b\b\b\b\b\b\b\b\b\b\b\b\b\b\b\b\b\b\b\b\b\b\b\b\b\b\b\b\b\b\b\b\b\b\b\b\b\b\b\b\b\b\b\b\b\b\b\b\b\b\b\b\b\b\b\b\b\b\b\b\b\r20/20 [==============================] - 20s 989ms/step - loss: 0.3684 - accuracy: 0.8831 - val_loss: 0.2503 - val_accuracy: 0.9200\n",
            "Epoch 26/30\n",
            " 5/20 [======>.......................] - ETA: 10s - loss: 0.3003 - accuracy: 0.8980"
          ],
          "name": "stdout"
        },
        {
          "output_type": "stream",
          "text": [
            "Frame count is not OK for video /content/drive/MyDrive/Colab Notebooks/Study/CSCE 636/Project/kinetics/train/others/others.682.mp4, 0 total, 0 extracted\n"
          ],
          "name": "stderr"
        },
        {
          "output_type": "stream",
          "text": [
            "\b\b\b\b\b\b\b\b\b\b\b\b\b\b\b\b\b\b\b\b\b\b\b\b\b\b\b\b\b\b\b\b\b\b\b\b\b\b\b\b\b\b\b\b\b\b\b\b\b\b\b\b\b\b\b\b\b\b\b\b\b\b\b\b\b\b\b\b\b\b\b\b\b\b\b\b\b\b\b\b\b\b\b\r 6/20 [========>.....................] - ETA: 9s - loss: 0.3096 - accuracy: 0.8839 "
          ],
          "name": "stdout"
        },
        {
          "output_type": "stream",
          "text": [
            "Frame count is not OK for video /content/drive/MyDrive/Colab Notebooks/Study/CSCE 636/Project/kinetics/train/others/others.155.mp4, 0 total, 0 extracted\n"
          ],
          "name": "stderr"
        },
        {
          "output_type": "stream",
          "text": [
            "20/20 [==============================] - ETA: 0s - loss: 0.3532 - accuracy: 0.8164"
          ],
          "name": "stdout"
        },
        {
          "output_type": "stream",
          "text": [
            "Frame count is not OK for video /content/drive/MyDrive/Colab Notebooks/Study/CSCE 636/Project/kinetics/train/others/others.151.mp4, 0 total, 0 extracted\n",
            "Frame count is not OK for video /content/drive/MyDrive/Colab Notebooks/Study/CSCE 636/Project/kinetics/train/target/running on treadmill.508.mp4, 0 total, 0 extracted\n"
          ],
          "name": "stderr"
        },
        {
          "output_type": "stream",
          "text": [
            "\b\b\b\b\b\b\b\b\b\b\b\b\b\b\b\b\b\b\b\b\b\b\b\b\b\b\b\b\b\b\b\b\b\b\b\b\b\b\b\b\b\b\b\b\b\b\b\b\b\b\b\b\b\b\b\b\b\b\b\b\b\b\b\b\b\b\b\b\b\b\b\b\b\b\b\b\b\b\b\b\b\b\r20/20 [==============================] - 17s 870ms/step - loss: 0.3546 - accuracy: 0.8155 - val_loss: 0.2516 - val_accuracy: 0.9286\n",
            "Epoch 27/30\n",
            " 4/20 [=====>........................] - ETA: 11s - loss: 0.1973 - accuracy: 0.9583"
          ],
          "name": "stdout"
        },
        {
          "output_type": "stream",
          "text": [
            "Frame count is not OK for video /content/drive/MyDrive/Colab Notebooks/Study/CSCE 636/Project/kinetics/train/target/running on treadmill.479.mp4, 0 total, 0 extracted\n"
          ],
          "name": "stderr"
        },
        {
          "output_type": "stream",
          "text": [
            "20/20 [==============================] - ETA: 0s - loss: 0.2794 - accuracy: 0.8885"
          ],
          "name": "stdout"
        },
        {
          "output_type": "stream",
          "text": [
            "Frame count is not OK for video /content/drive/MyDrive/Colab Notebooks/Study/CSCE 636/Project/kinetics/train/others/others.467.mp4, 0 total, 0 extracted\n"
          ],
          "name": "stderr"
        },
        {
          "output_type": "stream",
          "text": [
            "\b\b\b\b\b\b\b\b\b\b\b\b\b\b\b\b\b\b\b\b\b\b\b\b\b\b\b\b\b\b\b\b\b\b\b\b\b\b\b\b\b\b\b\b\b\b\b\b\b\b\b\b\b\b\b\b\b\b\b\b\b\b\b\b\b\b\b\b\b\b\b\b\b\b\b\b\b\b\b\b\b\b\r20/20 [==============================] - 18s 913ms/step - loss: 0.2816 - accuracy: 0.8872 - val_loss: 0.2938 - val_accuracy: 0.8889\n",
            "Epoch 28/30\n",
            " 5/20 [======>.......................] - ETA: 12s - loss: 0.3318 - accuracy: 0.8597"
          ],
          "name": "stdout"
        },
        {
          "output_type": "stream",
          "text": [
            "Frame count is not OK for video /content/drive/MyDrive/Colab Notebooks/Study/CSCE 636/Project/kinetics/train/target/running on treadmill.479.mp4, 0 total, 0 extracted\n"
          ],
          "name": "stderr"
        },
        {
          "output_type": "stream",
          "text": [
            "10/20 [==============>...............] - ETA: 7s - loss: 0.3789 - accuracy: 0.8470"
          ],
          "name": "stdout"
        },
        {
          "output_type": "stream",
          "text": [
            "Frame count is not OK for video /content/drive/MyDrive/Colab Notebooks/Study/CSCE 636/Project/kinetics/train/others/others.155.mp4, 0 total, 0 extracted\n"
          ],
          "name": "stderr"
        },
        {
          "output_type": "stream",
          "text": [
            "20/20 [==============================] - 18s 898ms/step - loss: 0.3889 - accuracy: 0.8456 - val_loss: 0.2797 - val_accuracy: 0.8900\n",
            "Epoch 29/30\n"
          ],
          "name": "stdout"
        },
        {
          "output_type": "stream",
          "text": [
            "Frame count is not OK for video /content/drive/MyDrive/Colab Notebooks/Study/CSCE 636/Project/kinetics/train/others/others.121.mp4, 6 total, 5 extracted\n",
            "Frame count is not OK for video /content/drive/MyDrive/Colab Notebooks/Study/CSCE 636/Project/kinetics/train/others/others.759.mp4, 0 total, 0 extracted\n"
          ],
          "name": "stderr"
        },
        {
          "output_type": "stream",
          "text": [
            " 6/20 [========>.....................] - ETA: 9s - loss: 0.3681 - accuracy: 0.8460 "
          ],
          "name": "stdout"
        },
        {
          "output_type": "stream",
          "text": [
            "Frame count is not OK for video /content/drive/MyDrive/Colab Notebooks/Study/CSCE 636/Project/kinetics/train/target/running on treadmill.786.mp4, 0 total, 0 extracted\n"
          ],
          "name": "stderr"
        },
        {
          "output_type": "stream",
          "text": [
            "17/20 [========================>.....] - ETA: 2s - loss: 0.3536 - accuracy: 0.8700"
          ],
          "name": "stdout"
        },
        {
          "output_type": "stream",
          "text": [
            "Frame count is not OK for video /content/drive/MyDrive/Colab Notebooks/Study/CSCE 636/Project/kinetics/train/others/others.155.mp4, 0 total, 0 extracted\n"
          ],
          "name": "stderr"
        },
        {
          "output_type": "stream",
          "text": [
            "20/20 [==============================] - ETA: 0s - loss: 0.3525 - accuracy: 0.8726"
          ],
          "name": "stdout"
        },
        {
          "output_type": "stream",
          "text": [
            "Frame count is not OK for video /content/drive/MyDrive/Colab Notebooks/Study/CSCE 636/Project/kinetics/train/others/others.467.mp4, 0 total, 0 extracted\n",
            "Frame count is not OK for video /content/drive/MyDrive/Colab Notebooks/Study/CSCE 636/Project/kinetics/train/others/others.151.mp4, 0 total, 0 extracted\n"
          ],
          "name": "stderr"
        },
        {
          "output_type": "stream",
          "text": [
            "\b\b\b\b\b\b\b\b\b\b\b\b\b\b\b\b\b\b\b\b\b\b\b\b\b\b\b\b\b\b\b\b\b\b\b\b\b\b\b\b\b\b\b\b\b\b\b\b\b\b\b\b\b\b\b\b\b\b\b\b\b\b\b\b\b\b\b\b\b\b\b\b\b\b\b\b\b\b\b\b\b\b\r20/20 [==============================] - 18s 861ms/step - loss: 0.3520 - accuracy: 0.8733 - val_loss: 0.2888 - val_accuracy: 0.8571\n",
            "Epoch 30/30\n"
          ],
          "name": "stdout"
        },
        {
          "output_type": "stream",
          "text": [
            "Frame count is not OK for video /content/drive/MyDrive/Colab Notebooks/Study/CSCE 636/Project/kinetics/train/others/others.155.mp4, 0 total, 0 extracted\n"
          ],
          "name": "stderr"
        },
        {
          "output_type": "stream",
          "text": [
            " 2/20 [==>...........................] - ETA: 11s - loss: 0.1746 - accuracy: 0.9737"
          ],
          "name": "stdout"
        },
        {
          "output_type": "stream",
          "text": [
            "Frame count is not OK for video /content/drive/MyDrive/Colab Notebooks/Study/CSCE 636/Project/kinetics/train/others/others.121.mp4, 6 total, 5 extracted\n"
          ],
          "name": "stderr"
        },
        {
          "output_type": "stream",
          "text": [
            "20/20 [==============================] - ETA: 0s - loss: 0.3317 - accuracy: 0.8772"
          ],
          "name": "stdout"
        },
        {
          "output_type": "stream",
          "text": [
            "Frame count is not OK for video /content/drive/MyDrive/Colab Notebooks/Study/CSCE 636/Project/kinetics/train/others/others.467.mp4, 0 total, 0 extracted\n"
          ],
          "name": "stderr"
        },
        {
          "output_type": "stream",
          "text": [
            "\b\b\b\b\b\b\b\b\b\b\b\b\b\b\b\b\b\b\b\b\b\b\b\b\b\b\b\b\b\b\b\b\b\b\b\b\b\b\b\b\b\b\b\b\b\b\b\b\b\b\b\b\b\b\b\b\b\b\b\b\b\b\b\b\b\b\b\b\b\b\b\b\b\b\b\b\b\b\b\b\b\b\r20/20 [==============================] - 17s 869ms/step - loss: 0.3331 - accuracy: 0.8763 - val_loss: 0.2760 - val_accuracy: 0.8990\n",
            "Total training time:  1187.1501369476318\n"
          ],
          "name": "stdout"
        }
      ]
    },
    {
      "cell_type": "markdown",
      "metadata": {
        "id": "-7Bv-AXz9Rb3"
      },
      "source": [
        "Plot the learning curve"
      ]
    },
    {
      "cell_type": "code",
      "metadata": {
        "id": "OiDWWm0r9Tf_",
        "colab": {
          "base_uri": "https://localhost:8080/",
          "height": 545
        },
        "outputId": "3ef07ca2-eec3-4516-f7cd-55c5670b52e1"
      },
      "source": [
        "import matplotlib.pyplot as plt\n",
        "acc = history.history['accuracy']\n",
        "val_acc = history.history['val_accuracy']\n",
        "loss = history.history['loss']\n",
        "val_loss = history.history['val_loss']\n",
        "\n",
        "epochs = range(len(acc))\n",
        "\n",
        "plt.plot(epochs, acc, 'bo', label='Training acc')\n",
        "plt.plot(epochs, val_acc, 'b', label='Validation acc')\n",
        "plt.title('Training and validation accuracy')\n",
        "plt.grid(axis='both')\n",
        "plt.legend()\n",
        "\n",
        "plt.figure()\n",
        "\n",
        "plt.plot(epochs, loss, 'bo', label='Training loss')\n",
        "plt.plot(epochs, val_loss, 'b', label='Validation loss')\n",
        "plt.title('Training and validation loss')\n",
        "plt.grid(axis='both')\n",
        "plt.legend()\n",
        "\n",
        "plt.show()"
      ],
      "execution_count": null,
      "outputs": [
        {
          "output_type": "display_data",
          "data": {
            "image/png": "[encoded data removed]",
            "text/plain": [
              "<Figure size 432x288 with 1 Axes>"
            ]
          },
          "metadata": {
            "tags": [],
            "needs_background": "light"
          }
        },
        {
          "output_type": "display_data",
          "data": {
            "image/png": "[encoded data removed]",
            "text/plain": [
              "<Figure size 432x288 with 1 Axes>"
            ]
          },
          "metadata": {
            "tags": [],
            "needs_background": "light"
          }
        }
      ]
    },
    {
      "cell_type": "markdown",
      "metadata": {
        "id": "DYNe9pEj5aeU"
      },
      "source": [
        "# Test on test set"
      ]
    },
    {
      "cell_type": "code",
      "metadata": {
        "colab": {
          "base_uri": "https://localhost:8080/"
        },
        "id": "KG4LgeL-c_Um",
        "outputId": "109c9273-34da-40e0-a8e4-aedc9739f4ce"
      },
      "source": [
        "from keras_video import VideoFrameGenerator\n",
        "\n",
        "classes = ['target' , 'others']\n",
        "# some global params\n",
        "SIZE = (112, 112)\n",
        "CHANNELS = 3\n",
        "NFRAME = 25\n",
        "BS = 10\n",
        "# pattern to get videos and classes\n",
        "glob_pattern='/content/drive/MyDrive/Colab Notebooks/kinetics/test/{classname}/*.mp4'\n",
        "\n",
        "# Create video frame generator\n",
        "test = VideoFrameGenerator(\n",
        "    classes=classes, \n",
        "    glob_pattern=glob_pattern,\n",
        "    nb_frames=NFRAME,\n",
        "    shuffle=False,\n",
        "    batch_size=BS,\n",
        "    target_shape=SIZE,\n",
        "    nb_channel=CHANNELS,\n",
        "    use_frame_cache=True)"
      ],
      "execution_count": null,
      "outputs": [
        {
          "output_type": "stream",
          "text": [
            "Total data: 2 classes for 91 files for train\n"
          ],
          "name": "stdout"
        }
      ]
    },
    {
      "cell_type": "code",
      "metadata": {
        "id": "Kx0UCDcwdhEY"
      },
      "source": [
        "model.evaluate(test)"
      ],
      "execution_count": null,
      "outputs": []
    },
    {
      "cell_type": "markdown",
      "metadata": {
        "id": "5-YxXQkuMEa7"
      },
      "source": [
        "# Scraping and parsing from YouTube query"
      ]
    },
    {
      "cell_type": "code",
      "metadata": {
        "id": "5Kev2GYZMLPe",
        "colab": {
          "base_uri": "https://localhost:8080/"
        },
        "outputId": "02e0a101-f1df-4c65-c7a7-c2e7ff750d98"
      },
      "source": [
        "import requests\n",
        "import json\n",
        "from bs4 import BeautifulSoup\n",
        "\n",
        "# keywords = ['python', 'youtube', 'scraper']\n",
        "keywords = ['cleaning shoes','renovating shoes']\n",
        "pages = 5\n",
        "\n",
        "baseUrl = 'https://www.youtube.com'\n",
        "headMatch = '{\"responseContext\"'\n",
        "tailMatch = ';</script>'\n",
        "outputFile = open('output.csv', 'w')\n",
        "debugFile = open('debug.txt', 'w')\n",
        "outputLines = []\n",
        "\n",
        "for page in range(1, pages+1):\n",
        "    response = requests.get(baseUrl+'/results?search_query='+'+'.join(keywords)+'&page='+str(page))\n",
        "    soup = BeautifulSoup(response.text, 'html.parser')\n",
        "    debugFile.write(soup.prettify())\n",
        "    jsonStr = ''\n",
        "\n",
        "    for script in soup.find_all('script'):\n",
        "        scriptStr = str(script)\n",
        "        headIndex = scriptStr.find(headMatch)\n",
        "        if headIndex != -1:\n",
        "            tailIndex = scriptStr.find(tailMatch)\n",
        "            jsonStr = scriptStr[headIndex:tailIndex]\n",
        "            break\n",
        "\n",
        "    data = json.loads(jsonStr)\n",
        "    contents = data['contents']['twoColumnSearchResultsRenderer']['primaryContents']['sectionListRenderer']['contents'][0]['itemSectionRenderer']['contents']\n",
        "    for content in contents:\n",
        "        if 'videoRenderer' in content:\n",
        "            title = content['videoRenderer']['title']['runs'][0]['text'].replace(',', ' ')\n",
        "            url = content['videoRenderer']['navigationEndpoint']['commandMetadata']['webCommandMetadata']['url']\n",
        "            outputLines.append(title+','+baseUrl+url)\n",
        "\n",
        "outputFile.write('title,url\\n'+'\\n'.join(outputLines))"
      ],
      "execution_count": null,
      "outputs": [
        {
          "output_type": "execute_result",
          "data": {
            "text/plain": [
              "10310"
            ]
          },
          "metadata": {
            "tags": []
          },
          "execution_count": 1
        }
      ]
    },
    {
      "cell_type": "markdown",
      "metadata": {
        "id": "HKZ04e91P-lQ"
      },
      "source": [
        "# Download youtube videos"
      ]
    },
    {
      "cell_type": "markdown",
      "metadata": {
        "id": "DCd5NcExQoOo"
      },
      "source": [
        "Make directory for the youtube videos"
      ]
    },
    {
      "cell_type": "code",
      "metadata": {
        "id": "A4IFB5hWK_h0"
      },
      "source": [
        "import os\n",
        "\n",
        "# Directory for the YouTube videos\n",
        "youtube_dir = '/content/youtube'\n",
        "os.mkdir(youtube_dir)"
      ],
      "execution_count": null,
      "outputs": []
    },
    {
      "cell_type": "markdown",
      "metadata": {
        "id": "IoixdpR6QtCX"
      },
      "source": [
        "Download YouTube videos from scraped information"
      ]
    },
    {
      "cell_type": "code",
      "metadata": {
        "colab": {
          "base_uri": "https://localhost:8080/"
        },
        "id": "7wyi9nmSZ3x2",
        "outputId": "aa6b8fec-75a6-4bb5-94d2-f939bd704ca6"
      },
      "source": [
        "!pip install --upgrade youtube_dl"
      ],
      "execution_count": null,
      "outputs": [
        {
          "output_type": "stream",
          "text": [
            "Collecting youtube_dl\n",
            "\u001b[?25l  Downloading https://files.pythonhosted.org/packages/3b/e5/b2344c034273159a52e7c7cbf5e1a12ad5b810822b7addc08df5df9029c9/youtube_dl-2021.3.2-py2.py3-none-any.whl (1.9MB)\n",
            "\u001b[K     |████████████████████████████████| 1.9MB 5.1MB/s \n",
            "\u001b[?25hInstalling collected packages: youtube-dl\n",
            "Successfully installed youtube-dl-2021.3.2\n"
          ],
          "name": "stdout"
        }
      ]
    },
    {
      "cell_type": "code",
      "metadata": {
        "colab": {
          "base_uri": "https://localhost:8080/"
        },
        "id": "o9J1KsvEQifb",
        "outputId": "1fa812fe-84fd-4274-8902-fb2272b70720"
      },
      "source": [
        "import youtube_dl, subprocess\n",
        "import datetime\n",
        "import numpy as np\n",
        "\n",
        "\n",
        "'''\n",
        "  YouTube videos\n",
        "'''\n",
        "\n",
        "links = [#'https://www.youtube.com/watch?v=N2GKFGNnJyk',\n",
        "         ]\n",
        "for i, link in enumerate(links):\n",
        "  for j in range(0,60,2): # The range is the number of seconds to test\n",
        "    URL = link # url of YouTube video\n",
        "    FROM = str(datetime.timedelta(seconds=j))\n",
        "    LENGTH = str(datetime.timedelta(seconds=2))\n",
        "    TARGET = os.path.join(youtube_dir,\"test.{}.mp4\".format(np.int(j/2)))\n",
        "    \n",
        "    with youtube_dl.YoutubeDL({'format': 'best'}) as ydl:\n",
        "      try:\n",
        "        result = ydl.extract_info(URL, download=False)\n",
        "        video = result['entries'][0] if 'entries' in result else result\n",
        "      except:\n",
        "        continue\n",
        "      \n",
        "    url = video['url']\n",
        "    subprocess.call(['ffmpeg', '-i', url, '-ss', FROM, '-t', LENGTH, \n",
        "                    '-c:v', 'copy', '-c:a', 'copy', TARGET,]) \n",
        "  "
      ],
      "execution_count": null,
      "outputs": [
        {
          "output_type": "stream",
          "text": [
            "[youtube] 8qcBqg9ZdAI: Downloading webpage\n",
            "[youtube] 8qcBqg9ZdAI: Downloading webpage\n",
            "[youtube] 8qcBqg9ZdAI: Downloading webpage\n",
            "[youtube] 8qcBqg9ZdAI: Downloading webpage\n",
            "[youtube] 8qcBqg9ZdAI: Downloading webpage\n",
            "[youtube] 8qcBqg9ZdAI: Downloading webpage\n",
            "[youtube] 8qcBqg9ZdAI: Downloading webpage\n",
            "[youtube] 8qcBqg9ZdAI: Downloading webpage\n",
            "[youtube] 8qcBqg9ZdAI: Downloading webpage\n",
            "[youtube] 8qcBqg9ZdAI: Downloading webpage\n",
            "[youtube] 8qcBqg9ZdAI: Downloading webpage\n",
            "[youtube] 8qcBqg9ZdAI: Downloading webpage\n",
            "[youtube] 8qcBqg9ZdAI: Downloading webpage\n",
            "[youtube] 8qcBqg9ZdAI: Downloading webpage\n",
            "[youtube] 8qcBqg9ZdAI: Downloading webpage\n"
          ],
          "name": "stdout"
        }
      ]
    },
    {
      "cell_type": "markdown",
      "metadata": {
        "id": "ShhaHLnt-7gO"
      },
      "source": [
        "# Test on YouTube videos and write to .json"
      ]
    },
    {
      "cell_type": "markdown",
      "metadata": {
        "id": "NZPi5pDt-dK8"
      },
      "source": [
        "Load saved model"
      ]
    },
    {
      "cell_type": "code",
      "metadata": {
        "id": "1apgDxAzUyDi"
      },
      "source": [
        "import keras\n",
        "from keras.models import load_model\n",
        "\n",
        "test_model = load_model('cleaning_renovate_shoes_Xception_try.h5')"
      ],
      "execution_count": null,
      "outputs": []
    },
    {
      "cell_type": "markdown",
      "metadata": {
        "id": "AGZJUtsE-f0E"
      },
      "source": [
        "Function for predicting whether clip contains target action and write to file"
      ]
    },
    {
      "cell_type": "code",
      "metadata": {
        "id": "drSHX6cwV70u"
      },
      "source": [
        "import numpy as np\n",
        "import cv2\n",
        "import json\n",
        "from time import sleep\n",
        "from tqdm.notebook import tqdm\n",
        "import matplotlib.pyplot as plt\n",
        "\n",
        "\n",
        "img_rows, img_cols, img_depth = 112, 112, 25\n",
        "\n",
        "def load_video(path, max_frames=0, resize=(112, 112)):\n",
        "  cap = cv2.VideoCapture(path)\n",
        "  frames = []\n",
        "  try:\n",
        "    while True:\n",
        "      ret, frame = cap.read()\n",
        "      if frame is not None:\n",
        "        frame = cv2.resize(frame, resize)\n",
        "        frame = frame[:, :, [2, 1, 0]]\n",
        "        frames.append(frame)\n",
        "        # plt.imshow(frame) \n",
        "\n",
        "      else:\n",
        "        # print(\"Frame is None\")\n",
        "        break\n",
        "      \n",
        "      if len(frames) == max_frames:\n",
        "        break\n",
        "  finally:\n",
        "    cap.release()\n",
        "  return np.array(frames) / 255.0\n",
        "\n",
        "videos = []\n",
        "\n",
        "for i in range(30): # The number of clips downloaded to test\n",
        "  try:\n",
        "    frames = load_video('/content/youtube/test.{}.mp4'.format(i),max_frames=25)\n",
        "\n",
        "    frames = np.expand_dims(frames,axis=0)\n",
        "\n",
        "    p = test_model.predict(frames, batch_size = 1) # verbose = 1\n",
        "    # print(p)\n",
        "    prob = p[0][1]\n",
        "\n",
        "    if prob > 0.5:\n",
        "        temp = {\n",
        "            'videoID': \"N2GKFGNnJyk\", # Change to video ID\n",
        "            'type': \"segment\",\n",
        "            'startTime': np.float(i*2),\n",
        "            'endTime': np.float((i+1)*2),\n",
        "            'observer': 'CSCE636Spring2021-astrajoan-3',\n",
        "            'isHuman': 'false',\n",
        "            'confirmedBySomeone': 'false',\n",
        "            'rejectedBySomeone': 'false',\n",
        "            'observation': {\n",
        "                'label': 'House_work_on_clothes_shoes_hats_etc',\n",
        "                'labelConfidence': np.float(prob),\n",
        "            }\n",
        "        }\n",
        "\n",
        "        videos.append(temp)\n",
        "\n",
        "  except:\n",
        "    continue\n",
        "\n",
        "with open('1.json', 'w', encoding='utf-8') as f:\n",
        "  json.dump(videos, f, indent=4)\n",
        "\n",
        "\n"
      ],
      "execution_count": null,
      "outputs": []
    }
  ]
}