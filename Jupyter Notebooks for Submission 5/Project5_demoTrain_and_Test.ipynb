{
  "nbformat": 4,
  "nbformat_minor": 0,
  "metadata": {
    "colab": {
      "name": "Project5_demoTrain_and_Test.ipynb",
      "provenance": [],
      "collapsed_sections": [],
      "toc_visible": true
    },
    "kernelspec": {
      "name": "python3",
      "display_name": "Python 3"
    }
  },
  "cells": [
    {
      "cell_type": "markdown",
      "metadata": {
        "id": "UrpLd7Rq-DIR"
      },
      "source": [
        "# Load dataset"
      ]
    },
    {
      "cell_type": "code",
      "metadata": {
        "id": "Ak9mVhjHVhV5",
        "colab": {
          "base_uri": "https://localhost:8080/"
        },
        "outputId": "91d0c385-b48c-4290-ca82-510251eb86b1"
      },
      "source": [
        "!wget https://storage.googleapis.com/deepmind-media/Datasets/kinetics700_2020.tar.gz"
      ],
      "execution_count": null,
      "outputs": [
        {
          "output_type": "stream",
          "text": [
            "--2021-02-27 19:30:08--  https://storage.googleapis.com/deepmind-media/Datasets/kinetics700_2020.tar.gz\n",
            "Resolving storage.googleapis.com (storage.googleapis.com)... 64.233.189.128, 108.177.125.128, 74.125.203.128, ...\n",
            "Connecting to storage.googleapis.com (storage.googleapis.com)|64.233.189.128|:443... connected.\n",
            "HTTP request sent, awaiting response... 200 OK\n",
            "Length: 25342182 (24M) [application/x-gzip]\n",
            "Saving to: ‘kinetics700_2020.tar.gz’\n",
            "\n",
            "kinetics700_2020.ta 100%[===================>]  24.17M  49.1MB/s    in 0.5s    \n",
            "\n",
            "2021-02-27 19:30:09 (49.1 MB/s) - ‘kinetics700_2020.tar.gz’ saved [25342182/25342182]\n",
            "\n"
          ],
          "name": "stdout"
        }
      ]
    },
    {
      "cell_type": "code",
      "metadata": {
        "id": "jzGaEBpHVxT8"
      },
      "source": [
        "import tarfile\n",
        "\n",
        "tar = tarfile.open('kinetics700_2020.tar.gz', \"r:gz\")\n",
        "tar.extractall()\n",
        "tar.close()"
      ],
      "execution_count": null,
      "outputs": []
    },
    {
      "cell_type": "markdown",
      "metadata": {
        "id": "2a2ie2Tc2XqB"
      },
      "source": [
        "[ERROR: IOPub data rate exceeded](https://stackoverflow.com/questions/50689784/in-google-collab-i-get-iopub-data-rate-exceeded)\n",
        "\n",
        "[CSV](https://www.programiz.com/python-programming/reading-csv-files)"
      ]
    },
    {
      "cell_type": "code",
      "metadata": {
        "colab": {
          "base_uri": "https://localhost:8080/"
        },
        "id": "3zoPP0NDWDZ7",
        "outputId": "bd5719d2-234b-4800-e80e-096f86ab7ce4"
      },
      "source": [
        "import os\n",
        "import csv\n",
        "import numpy as np\n",
        "\n",
        "file_path = '/content/kinetics700_2020'\n",
        "\n",
        "data_train = []\n",
        "label_train = []\n",
        "data_test = []\n",
        "label_test = []\n",
        "\n",
        "fname = 'train.csv'\n",
        "with open(os.path.join(file_path,fname)) as file:\n",
        "  reader = csv.reader(file)\n",
        "  for i,row in enumerate(reader):\n",
        "    if i == 0: # Ignore the header\n",
        "      continue\n",
        "    else:\n",
        "      dict_temp = {'url': row[1], 'time': list(map(float,row[2:4]))}\n",
        "      data_train.append(dict_temp)\n",
        "      label_train.append(row[0])\n",
        "    \n",
        "# Print the first 10 elements\n",
        "print(data_train[:10])\n",
        "print(label_train[:10])\n",
        "\n",
        "\n",
        "# Use validation dataset as test set\n",
        "fname = 'validate.csv'\n",
        "with open(os.path.join(file_path,fname)) as file:\n",
        "  reader = csv.reader(file)\n",
        "  for i,row in enumerate(reader):\n",
        "    if i == 0:\n",
        "      continue\n",
        "    else:\n",
        "      dict_temp = {'url': row[1], 'time': list(map(float,row[2:4]))}\n",
        "      data_test.append(dict_temp)\n",
        "      label_test.append(row[0])\n",
        "\n",
        "label_train = np.array(label_train)\n",
        "label_test = np.array(label_test)"
      ],
      "execution_count": null,
      "outputs": [
        {
          "output_type": "stream",
          "text": [
            "[{'url': '---0dWlqevI', 'time': [19.0, 29.0]}, {'url': '---aQ-tA5_A', 'time': [9.0, 19.0]}, {'url': '---j12rm3WI', 'time': [14.0, 24.0]}, {'url': '--07WQ2iBlw', 'time': [1.0, 11.0]}, {'url': '--0NTAs-fA0', 'time': [29.0, 39.0]}, {'url': '--0l35AkU34', 'time': [68.0, 78.0]}, {'url': '--33Lscn6sk', 'time': [4.0, 14.0]}, {'url': '--3OAstUWtU', 'time': [45.0, 55.0]}, {'url': '--3lTx87ebQ', 'time': [23.0, 33.0]}, {'url': '--3ouPhoy2A', 'time': [20.0, 30.0]}]\n",
            "['clay pottery making', 'news anchoring', 'using bagging machine', 'javelin throw', 'climbing a rope', 'sipping cup', 'flipping pancake', 'tickling', 'watering plants', 'eating spaghetti']\n"
          ],
          "name": "stdout"
        }
      ]
    },
    {
      "cell_type": "markdown",
      "metadata": {
        "id": "J3qSkVYySGw_"
      },
      "source": [
        "# Action: bandaging\n"
      ]
    },
    {
      "cell_type": "code",
      "metadata": {
        "id": "yJc24C3VOJP5"
      },
      "source": [
        "'''\n",
        "  We are NOT modifying the stored original train data and train label,\n",
        "\n",
        "  data_train, label_train,\n",
        "\n",
        "  only working with indices and save the result to new arrays or lists\n",
        "'''\n",
        "\n",
        "target_label = 'bandaging'\n",
        "\n",
        "# Get indices of 'bandaging' in training set\n",
        "indices = np.where(label_train == target_label)[0]\n",
        "\n",
        "\n",
        "train_raw = [] # Store raw info of train data: url & time\n",
        "y_train = [] # Store train data labels\n",
        "\n",
        "for idx in indices:\n",
        "  train_raw.append(data_train[idx]) # Target class raw info\n",
        "  y_train.append(1) # Target class label = 1\n",
        "\n",
        "np.random.seed(0)\n",
        "# Randomly shuffle the indices of all training data\n",
        "shuffled_indices_total = np.random.permutation(len(data_train))\n",
        "# Delete the indices of 'bandaging' in training set\n",
        "shuffled_indices_0 = shuffled_indices_total[~np.isin(\n",
        "    shuffled_indices_total,indices\n",
        ")]\n",
        "\n",
        "\n",
        "# Append the rest of the training samples to train_raw,\n",
        "# equal number of label 0 as label 1 (target)\n",
        "# Indices already shuffled, so this is in random order\n",
        "for i in range(len(indices)):\n",
        "  train_raw.append(data_train[shuffled_indices_0[i]])\n",
        "  y_train.append(0)\n",
        "\n",
        "'''\n",
        "  Do the same thing for test set\n",
        "'''\n",
        "indices_test = np.where(label_test == target_label)[0]\n",
        "\n",
        "test_raw = []\n",
        "y_test = []\n",
        "\n",
        "# Target class in validation set\n",
        "for idx in indices_test:\n",
        "  test_raw.append(data_test[idx])\n",
        "  y_test.append(1)\n",
        "\n",
        "np.random.seed(0)\n",
        "shuffled_indices_test = np.random.permutation(len(data_test))\n",
        "shuffled_indices_test_0 = shuffled_indices_test[~np.isin(\n",
        "    shuffled_indices_test,indices_test\n",
        ")]\n",
        "\n",
        "\n",
        "for i in range(len(indices_test)):\n",
        "  test_raw.append(data_test[shuffled_indices_test_0[i]])\n",
        "  y_test.append(0)"
      ],
      "execution_count": null,
      "outputs": []
    },
    {
      "cell_type": "code",
      "metadata": {
        "id": "rL8zaJOANsVA",
        "colab": {
          "base_uri": "https://localhost:8080/"
        },
        "outputId": "70a3a15d-1a90-49fe-aaf9-7db472ada3c7"
      },
      "source": [
        "!pip install --upgrade youtube_dl"
      ],
      "execution_count": null,
      "outputs": [
        {
          "output_type": "stream",
          "text": [
            "Collecting youtube_dl\n",
            "\u001b[?25l  Downloading https://files.pythonhosted.org/packages/4e/fe/8d11d7a778633441efa68f1a0bd5fbfcd79e31cb0ef7f20acb8d5c4498db/youtube_dl-2021.2.22-py2.py3-none-any.whl (1.9MB)\n",
            "\u001b[K     |████████████████████████████████| 1.9MB 5.3MB/s \n",
            "\u001b[?25hInstalling collected packages: youtube-dl\n",
            "Successfully installed youtube-dl-2021.2.22\n"
          ],
          "name": "stdout"
        }
      ]
    },
    {
      "cell_type": "markdown",
      "metadata": {
        "id": "kXh3BJ8So-ux"
      },
      "source": [
        "Make directory for the Kinetics dataset"
      ]
    },
    {
      "cell_type": "code",
      "metadata": {
        "id": "tyjaC3o6mt94"
      },
      "source": [
        "import os\n",
        "\n",
        "# Directory for the Kinetics dataset\n",
        "kinetics_dir = '/content/kinetics'\n",
        "os.mkdir(kinetics_dir)\n",
        "\n",
        "# Directory for train and test set for Kinetics\n",
        "train_dir = os.path.join(kinetics_dir,'train')\n",
        "os.mkdir(train_dir)\n",
        "test_dir = os.path.join(kinetics_dir,'test')\n",
        "os.mkdir(test_dir)\n",
        "\n",
        "# Directory for target and supplementary classes\n",
        "train_target_dir = os.path.join(train_dir,'target')\n",
        "os.mkdir(train_target_dir)\n",
        "train_others_dir = os.path.join(train_dir,'others')\n",
        "os.mkdir(train_others_dir)\n",
        "test_target_dir = os.path.join(test_dir,'target')\n",
        "os.mkdir(test_target_dir)\n",
        "test_others_dir = os.path.join(test_dir,'others')\n",
        "os.mkdir(test_others_dir)"
      ],
      "execution_count": null,
      "outputs": []
    },
    {
      "cell_type": "markdown",
      "metadata": {
        "id": "24pMbAMKwKMj"
      },
      "source": [
        "Import specific part of video from YouTube"
      ]
    },
    {
      "cell_type": "code",
      "metadata": {
        "id": "VKFmf1fI2HX-"
      },
      "source": [
        "import youtube_dl, subprocess\n",
        "import datetime\n",
        "import time\n",
        "\n",
        "'''\n",
        "  Training and validation set\n",
        "'''\n",
        "\n",
        "for i, info in enumerate(train_raw):\n",
        "  if info['url'][0] != '=':\n",
        "    info['url'] = '=' + info['url']\n",
        "  \n",
        "  URL = 'https://www.youtube.com/watch?v' + info['url'] # url of YouTube video\n",
        "  FROM = str(datetime.timedelta(seconds=info['time'][0]))\n",
        "  LENGTH = str(datetime.timedelta(seconds=(info['time'][1]-info['time'][0])))\n",
        "  if y_train[i] == 1:\n",
        "    TARGET = os.path.join(train_target_dir,\"bandaging.{}.mp4\".format(i))\n",
        "  else:\n",
        "    TARGET = os.path.join(train_others_dir,\"others.{}.mp4\".format(\n",
        "        i - y_train.count(1)\n",
        "    ))\n",
        "  \n",
        "  with youtube_dl.YoutubeDL({'format': 'best'}) as ydl:\n",
        "    try:\n",
        "      result = ydl.extract_info(URL, download=False)\n",
        "      video = result['entries'][0] if 'entries' in result else result\n",
        "    except:\n",
        "      continue\n",
        "    \n",
        "  url = video['url']\n",
        "  time.sleep(1)\n",
        "  subprocess.call(['ffmpeg', '-i', url, '-ss', FROM, '-t', LENGTH, \n",
        "                   '-c:v', 'copy', '-c:a', 'copy', TARGET,])  \n"
      ],
      "execution_count": null,
      "outputs": []
    },
    {
      "cell_type": "code",
      "metadata": {
        "id": "elFSVixMS9i7"
      },
      "source": [
        "import youtube_dl, subprocess\n",
        "import datetime\n",
        "\n",
        "'''\n",
        "  Test set\n",
        "'''\n",
        "for i, info in enumerate(test_raw):\n",
        "  if info['url'][0] != '=':\n",
        "    info['url'] = '=' + info['url']\n",
        "  \n",
        "  URL = 'https://www.youtube.com/watch?v' + info['url'] # url of YouTube video\n",
        "  FROM = str(datetime.timedelta(seconds=info['time'][0]))\n",
        "  LENGTH = str(datetime.timedelta(seconds=(info['time'][1]-info['time'][0])))\n",
        "  if y_test[i] == 1:\n",
        "    TARGET = os.path.join(test_target_dir,\"bandaging.{}.mp4\".format(i))\n",
        "  else:\n",
        "    TARGET = os.path.join(test_others_dir,\"others.{}.mp4\".format(\n",
        "        i - y_test.count(1)\n",
        "    ))\n",
        "  \n",
        "  with youtube_dl.YoutubeDL({'format': 'best'}) as ydl:\n",
        "    try:\n",
        "      result = ydl.extract_info(URL, download=False)\n",
        "      video = result['entries'][0] if 'entries' in result else result\n",
        "    except:\n",
        "      continue\n",
        "    \n",
        "  url = video['url']\n",
        "  subprocess.call(['ffmpeg', '-i', url, '-ss', FROM, '-t', LENGTH, \n",
        "                   '-c:v', 'copy', '-c:a', 'copy', TARGET,])  "
      ],
      "execution_count": null,
      "outputs": []
    },
    {
      "cell_type": "markdown",
      "metadata": {
        "id": "DAtsUBZTBhB_"
      },
      "source": [
        "Download videos from Google Colab"
      ]
    },
    {
      "cell_type": "code",
      "metadata": {
        "id": "JeyaGW-iBkUB"
      },
      "source": [
        "!zip -r /content/file.zip /content/kinetics"
      ],
      "execution_count": null,
      "outputs": []
    },
    {
      "cell_type": "code",
      "metadata": {
        "colab": {
          "base_uri": "https://localhost:8080/",
          "height": 17
        },
        "id": "syClmN8EBxKQ",
        "outputId": "5ee02732-24b3-447a-cce9-de9e8dd8a503"
      },
      "source": [
        "from google.colab import files\n",
        "files.download(\"/content/file.zip\")"
      ],
      "execution_count": null,
      "outputs": [
        {
          "output_type": "display_data",
          "data": {
            "application/javascript": [
              "\n",
              "    async function download(id, filename, size) {\n",
              "      if (!google.colab.kernel.accessAllowed) {\n",
              "        return;\n",
              "      }\n",
              "      const div = document.createElement('div');\n",
              "      const label = document.createElement('label');\n",
              "      label.textContent = `Downloading \"${filename}\": `;\n",
              "      div.appendChild(label);\n",
              "      const progress = document.createElement('progress');\n",
              "      progress.max = size;\n",
              "      div.appendChild(progress);\n",
              "      document.body.appendChild(div);\n",
              "\n",
              "      const buffers = [];\n",
              "      let downloaded = 0;\n",
              "\n",
              "      const channel = await google.colab.kernel.comms.open(id);\n",
              "      // Send a message to notify the kernel that we're ready.\n",
              "      channel.send({})\n",
              "\n",
              "      for await (const message of channel.messages) {\n",
              "        // Send a message to notify the kernel that we're ready.\n",
              "        channel.send({})\n",
              "        if (message.buffers) {\n",
              "          for (const buffer of message.buffers) {\n",
              "            buffers.push(buffer);\n",
              "            downloaded += buffer.byteLength;\n",
              "            progress.value = downloaded;\n",
              "          }\n",
              "        }\n",
              "      }\n",
              "      const blob = new Blob(buffers, {type: 'application/binary'});\n",
              "      const a = document.createElement('a');\n",
              "      a.href = window.URL.createObjectURL(blob);\n",
              "      a.download = filename;\n",
              "      div.appendChild(a);\n",
              "      a.click();\n",
              "      div.remove();\n",
              "    }\n",
              "  "
            ],
            "text/plain": [
              "<IPython.core.display.Javascript object>"
            ]
          },
          "metadata": {
            "tags": []
          }
        },
        {
          "output_type": "display_data",
          "data": {
            "application/javascript": [
              "download(\"download_6bdb77db-5e88-4bbd-acdd-41e1d14153c7\", \"file.zip\", 448366442)"
            ],
            "text/plain": [
              "<IPython.core.display.Javascript object>"
            ]
          },
          "metadata": {
            "tags": []
          }
        }
      ]
    },
    {
      "cell_type": "markdown",
      "metadata": {
        "id": "mPFZIEFLhuf5"
      },
      "source": [
        "# Load videos from Drive + preprocess\n",
        "\n",
        "*   Section all videos frame by frame\n",
        "*   Preprocess videos"
      ]
    },
    {
      "cell_type": "markdown",
      "metadata": {
        "id": "TCuYTQ16YVLw"
      },
      "source": [
        "Video frame generator\n",
        "\n",
        "[Keras video frame generator](https://medium.com/smileinnovation/training-neural-network-with-image-sequence-an-example-with-video-as-input-c3407f7a0b0f)"
      ]
    },
    {
      "cell_type": "code",
      "metadata": {
        "colab": {
          "base_uri": "https://localhost:8080/"
        },
        "id": "48MoZrifWmEX",
        "outputId": "09f6f29d-c075-43fd-81f5-295946ca0389"
      },
      "source": [
        "!pip install keras-video-generators"
      ],
      "execution_count": null,
      "outputs": [
        {
          "output_type": "stream",
          "text": [
            "Requirement already satisfied: keras-video-generators in /usr/local/lib/python3.7/dist-packages (1.0.14)\n",
            "Requirement already satisfied: keras>=2 in /usr/local/lib/python3.7/dist-packages (from keras-video-generators) (2.4.3)\n",
            "Requirement already satisfied: numpy in /usr/local/lib/python3.7/dist-packages (from keras-video-generators) (1.19.5)\n",
            "Requirement already satisfied: opencv-python in /usr/local/lib/python3.7/dist-packages (from keras-video-generators) (4.1.2.30)\n",
            "Requirement already satisfied: matplotlib in /usr/local/lib/python3.7/dist-packages (from keras-video-generators) (3.2.2)\n",
            "Requirement already satisfied: scipy>=0.14 in /usr/local/lib/python3.7/dist-packages (from keras>=2->keras-video-generators) (1.4.1)\n",
            "Requirement already satisfied: pyyaml in /usr/local/lib/python3.7/dist-packages (from keras>=2->keras-video-generators) (3.13)\n",
            "Requirement already satisfied: h5py in /usr/local/lib/python3.7/dist-packages (from keras>=2->keras-video-generators) (2.10.0)\n",
            "Requirement already satisfied: kiwisolver>=1.0.1 in /usr/local/lib/python3.7/dist-packages (from matplotlib->keras-video-generators) (1.3.1)\n",
            "Requirement already satisfied: python-dateutil>=2.1 in /usr/local/lib/python3.7/dist-packages (from matplotlib->keras-video-generators) (2.8.1)\n",
            "Requirement already satisfied: pyparsing!=2.0.4,!=2.1.2,!=2.1.6,>=2.0.1 in /usr/local/lib/python3.7/dist-packages (from matplotlib->keras-video-generators) (2.4.7)\n",
            "Requirement already satisfied: cycler>=0.10 in /usr/local/lib/python3.7/dist-packages (from matplotlib->keras-video-generators) (0.10.0)\n",
            "Requirement already satisfied: six in /usr/local/lib/python3.7/dist-packages (from h5py->keras>=2->keras-video-generators) (1.15.0)\n"
          ],
          "name": "stdout"
        }
      ]
    },
    {
      "cell_type": "code",
      "metadata": {
        "id": "O6PZEuJqNe3C"
      },
      "source": [
        "import keras\n",
        "import keras_video.utils\n",
        "from keras_video import VideoFrameGenerator\n",
        "\n",
        "classes = ['target' , 'others']\n",
        "# some global params\n",
        "SIZE = (112, 112)\n",
        "CHANNELS = 3\n",
        "NFRAME = 25\n",
        "BS = 10\n",
        "# pattern to get videos and classes\n",
        "glob_pattern='/content/drive/MyDrive/kinetics/train/{classname}/*.mp4'\n",
        "# Data augmentation\n",
        "data_aug = keras.preprocessing.image.ImageDataGenerator(\n",
        "    zoom_range=.1,\n",
        "    horizontal_flip=True,\n",
        "    rotation_range=8,\n",
        "    width_shift_range=.2,\n",
        "    height_shift_range=.2)\n",
        "# Create video frame generator\n",
        "train = VideoFrameGenerator(\n",
        "    classes=classes, \n",
        "    glob_pattern=glob_pattern,\n",
        "    nb_frames=NFRAME,\n",
        "    split_val=0.2,  # 20% of the videos will be used as validation set. \n",
        "    shuffle=True,\n",
        "    batch_size=BS,\n",
        "    target_shape=SIZE,\n",
        "    nb_channel=CHANNELS,\n",
        "    transformation=data_aug,\n",
        "    use_frame_cache=True)\n",
        "\n",
        "val = train.get_validation_generator()\n",
        "\n",
        "# keras_video.utils.show_sample(train)"
      ],
      "execution_count": null,
      "outputs": []
    },
    {
      "cell_type": "markdown",
      "metadata": {
        "id": "XONaB-3Z6Nh1"
      },
      "source": [
        "# Build model and train the network"
      ]
    },
    {
      "cell_type": "markdown",
      "metadata": {
        "id": "I9rR5jU36SKr"
      },
      "source": [
        "## Build model"
      ]
    },
    {
      "cell_type": "code",
      "metadata": {
        "id": "76BbTe2K6UkU",
        "colab": {
          "base_uri": "https://localhost:8080/"
        },
        "outputId": "b11e1969-119b-4855-bcfd-81baa6017bd0"
      },
      "source": [
        "import keras\n",
        "from keras import backend\n",
        "from keras.layers import TimeDistributed\n",
        "from keras.layers import Conv2D, MaxPool2D\n",
        "from keras.layers import Dense, Dropout\n",
        "from keras.layers import LSTM, GlobalMaxPool2D\n",
        "from keras.models import Sequential\n",
        "from keras.optimizers import Adam, RMSprop\n",
        "from keras.layers import BatchNormalization\n",
        "from keras.utils.vis_utils import plot_model\n",
        "from keras.applications import InceptionV3\n",
        "\n",
        "# The pretrained network we will use\n",
        "conv_base = InceptionV3(weights='imagenet',\n",
        "                  include_top=False,\n",
        "                  input_shape=(112, 112, 3))\n",
        "conv_base.trainable = False\n",
        "\n",
        "def action_model(shape=(NFRAME, 112, 112, 3), outputs=2):\n",
        "    \n",
        "    # Flatten output of conv_base\n",
        "    model0 = Sequential()\n",
        "    model0.add(conv_base)\n",
        "    model0.add(GlobalMaxPool2D())\n",
        "    # Build our model for training\n",
        "    model = Sequential()\n",
        "    model.add(TimeDistributed(model0, input_shape=shape))\n",
        "    # LSTM for time series\n",
        "    model.add(LSTM(64))\n",
        "    # Build the classifier\n",
        "    # model.add(Dense(1024, activation='relu'))\n",
        "    # model.add(Dropout(.5))\n",
        "    model.add(Dense(512, activation='relu'))\n",
        "    model.add(Dropout(.5))\n",
        "    model.add(Dense(128, activation='relu'))\n",
        "    model.add(Dropout(.5))\n",
        "    model.add(Dense(64, activation='relu'))\n",
        "    model.add(Dense(outputs, activation='sigmoid'))\n",
        "    return model\n",
        "\n",
        "INSHAPE=(NFRAME,) + SIZE + (CHANNELS,) # (15, 112, 112, 3)\n",
        "model = action_model(INSHAPE, len(classes))\n",
        "\n",
        "model.summary()\n"
      ],
      "execution_count": null,
      "outputs": [
        {
          "output_type": "stream",
          "text": [
            "Model: \"sequential_7\"\n",
            "_________________________________________________________________\n",
            "Layer (type)                 Output Shape              Param #   \n",
            "=================================================================\n",
            "time_distributed_3 (TimeDist (None, 25, 2048)          21802784  \n",
            "_________________________________________________________________\n",
            "lstm_3 (LSTM)                (None, 64)                540928    \n",
            "_________________________________________________________________\n",
            "dense_12 (Dense)             (None, 512)               33280     \n",
            "_________________________________________________________________\n",
            "dropout_6 (Dropout)          (None, 512)               0         \n",
            "_________________________________________________________________\n",
            "dense_13 (Dense)             (None, 128)               65664     \n",
            "_________________________________________________________________\n",
            "dropout_7 (Dropout)          (None, 128)               0         \n",
            "_________________________________________________________________\n",
            "dense_14 (Dense)             (None, 64)                8256      \n",
            "_________________________________________________________________\n",
            "dense_15 (Dense)             (None, 2)                 130       \n",
            "=================================================================\n",
            "Total params: 22,451,042\n",
            "Trainable params: 648,258\n",
            "Non-trainable params: 21,802,784\n",
            "_________________________________________________________________\n"
          ],
          "name": "stdout"
        }
      ]
    },
    {
      "cell_type": "code",
      "metadata": {
        "id": "rUr8FZpt9AFL"
      },
      "source": [
        "optimizer= Adam(lr=1e-4)\n",
        "model.compile(optimizer=optimizer , \n",
        "              loss='binary_crossentropy',\n",
        "              metrics=['accuracy'])"
      ],
      "execution_count": null,
      "outputs": []
    },
    {
      "cell_type": "markdown",
      "metadata": {
        "id": "pUR37Q0c9HfA"
      },
      "source": [
        "## Train the network"
      ]
    },
    {
      "cell_type": "code",
      "metadata": {
        "id": "HiYbzWzB9Lrp",
        "colab": {
          "base_uri": "https://localhost:8080/"
        },
        "outputId": "60ed39df-769e-47cc-bfd2-c015fb4a36c9"
      },
      "source": [
        "import time\n",
        "\n",
        "callbacks = [\n",
        "    keras.callbacks.ReduceLROnPlateau(\n",
        "        monitor = 'val_loss',\n",
        "        # factor = 0.1,\n",
        "        # patience = 10,\n",
        "    ),\n",
        "    keras.callbacks.ModelCheckpoint(\n",
        "        filepath = 'bandaging_Inception_try.h5',\n",
        "        monitor = 'val_loss',\n",
        "        save_best_only = True,\n",
        "                 ),\n",
        "]\n",
        "\n",
        "start = time.time()\n",
        "history = model.fit(\n",
        "                    train,\n",
        "                    steps_per_epoch = 20,\n",
        "                    #batch_size= 10,\n",
        "                    epochs = 30,\n",
        "                    callbacks=callbacks,\n",
        "                    validation_data= val,\n",
        "                    validation_steps = 10,)\n",
        "finish = time.time()\n",
        "print(\"Total training time: \", finish - start)"
      ],
      "execution_count": null,
      "outputs": [
        {
          "output_type": "stream",
          "text": [
            "Epoch 1/30\n",
            " 4/20 [=====>........................] - ETA: 10s - loss: 0.6437 - accuracy: 0.8250"
          ],
          "name": "stdout"
        },
        {
          "output_type": "stream",
          "text": [
            "Frame count is not OK for video /content/drive/MyDrive/Colab Notebooks/Study/CSCE 636/Project/kinetics/train/others/others.121.mp4, 6 total, 5 extracted\n"
          ],
          "name": "stderr"
        },
        {
          "output_type": "stream",
          "text": [
            "20/20 [==============================] - 23s 867ms/step - loss: 0.6647 - accuracy: 0.6558 - val_loss: 0.6988 - val_accuracy: 0.4800\n",
            "Epoch 2/30\n",
            "12/20 [=================>............] - ETA: 5s - loss: 0.7056 - accuracy: 0.5134"
          ],
          "name": "stdout"
        },
        {
          "output_type": "stream",
          "text": [
            "Frame count is not OK for video /content/drive/MyDrive/Colab Notebooks/Study/CSCE 636/Project/kinetics/train/others/others.121.mp4, 6 total, 5 extracted\n"
          ],
          "name": "stderr"
        },
        {
          "output_type": "stream",
          "text": [
            "20/20 [==============================] - ETA: 0s - loss: 0.6994 - accuracy: 0.5284"
          ],
          "name": "stdout"
        },
        {
          "output_type": "stream",
          "text": [
            "Frame count is not OK for video /content/drive/MyDrive/Colab Notebooks/Study/CSCE 636/Project/kinetics/train/target/assembling computer.887.mp4, 0 total, 0 extracted\n"
          ],
          "name": "stderr"
        },
        {
          "output_type": "stream",
          "text": [
            "\b\b\b\b\b\b\b\b\b\b\b\b\b\b\b\b\b\b\b\b\b\b\b\b\b\b\b\b\b\b\b\b\b\b\b\b\b\b\b\b\b\b\b\b\b\b\b\b\b\b\b\b\b\b\b\b\b\b\b\b\b\b\b\b\b\b\b\b\b\b\b\b\b\b\b\b\b\b\b\b\b\b\r20/20 [==============================] - 15s 764ms/step - loss: 0.6990 - accuracy: 0.5291 - val_loss: 0.6946 - val_accuracy: 0.4747\n",
            "Epoch 3/30\n",
            " 1/20 [>.............................] - ETA: 14s - loss: 0.7338 - accuracy: 0.5000"
          ],
          "name": "stdout"
        },
        {
          "output_type": "stream",
          "text": [
            "Frame count is not OK for video /content/drive/MyDrive/Colab Notebooks/Study/CSCE 636/Project/kinetics/train/others/others.467.mp4, 0 total, 0 extracted\n"
          ],
          "name": "stderr"
        },
        {
          "output_type": "stream",
          "text": [
            "\b\b\b\b\b\b\b\b\b\b\b\b\b\b\b\b\b\b\b\b\b\b\b\b\b\b\b\b\b\b\b\b\b\b\b\b\b\b\b\b\b\b\b\b\b\b\b\b\b\b\b\b\b\b\b\b\b\b\b\b\b\b\b\b\b\b\b\b\b\b\b\b\b\b\b\b\b\b\b\b\b\b\b\r 2/20 [==>...........................] - ETA: 11s - loss: 0.7217 - accuracy: 0.5132"
          ],
          "name": "stdout"
        },
        {
          "output_type": "stream",
          "text": [
            "Frame count is not OK for video /content/drive/MyDrive/Colab Notebooks/Study/CSCE 636/Project/kinetics/train/others/others.155.mp4, 0 total, 0 extracted\n"
          ],
          "name": "stderr"
        },
        {
          "output_type": "stream",
          "text": [
            "20/20 [==============================] - ETA: 0s - loss: 0.6997 - accuracy: 0.5060"
          ],
          "name": "stdout"
        },
        {
          "output_type": "stream",
          "text": [
            "Frame count is not OK for video /content/drive/MyDrive/Colab Notebooks/Study/CSCE 636/Project/kinetics/train/target/assembling computer.887.mp4, 0 total, 0 extracted\n"
          ],
          "name": "stderr"
        },
        {
          "output_type": "stream",
          "text": [
            "\b\b\b\b\b\b\b\b\b\b\b\b\b\b\b\b\b\b\b\b\b\b\b\b\b\b\b\b\b\b\b\b\b\b\b\b\b\b\b\b\b\b\b\b\b\b\b\b\b\b\b\b\b\b\b\b\b\b\b\b\b\b\b\b\b\b\b\b\b\b\b\b\b\b\b\b\b\b\b\b\b\b\r20/20 [==============================] - 15s 760ms/step - loss: 0.6992 - accuracy: 0.5069 - val_loss: 0.6863 - val_accuracy: 0.4949\n",
            "Epoch 4/30\n",
            "10/20 [==============>...............] - ETA: 6s - loss: 0.6852 - accuracy: 0.5424"
          ],
          "name": "stdout"
        },
        {
          "output_type": "stream",
          "text": [
            "Frame count is not OK for video /content/drive/MyDrive/Colab Notebooks/Study/CSCE 636/Project/kinetics/train/others/others.783.mp4, 0 total, 0 extracted\n"
          ],
          "name": "stderr"
        },
        {
          "output_type": "stream",
          "text": [
            "20/20 [==============================] - ETA: 0s - loss: 0.6840 - accuracy: 0.5338"
          ],
          "name": "stdout"
        },
        {
          "output_type": "stream",
          "text": [
            "Frame count is not OK for video /content/drive/MyDrive/Colab Notebooks/Study/CSCE 636/Project/kinetics/train/target/assembling computer.887.mp4, 0 total, 0 extracted\n"
          ],
          "name": "stderr"
        },
        {
          "output_type": "stream",
          "text": [
            "\b\b\b\b\b\b\b\b\b\b\b\b\b\b\b\b\b\b\b\b\b\b\b\b\b\b\b\b\b\b\b\b\b\b\b\b\b\b\b\b\b\b\b\b\b\b\b\b\b\b\b\b\b\b\b\b\b\b\b\b\b\b\b\b\b\b\b\b\b\b\b\b\b\b\b\b\b\b\b\b\b\b\r20/20 [==============================] - 15s 759ms/step - loss: 0.6837 - accuracy: 0.5338 - val_loss: 0.6640 - val_accuracy: 0.5200\n",
            "Epoch 5/30\n",
            "20/20 [==============================] - ETA: 0s - loss: 0.6991 - accuracy: 0.4184"
          ],
          "name": "stdout"
        },
        {
          "output_type": "stream",
          "text": [
            "Frame count is not OK for video /content/drive/MyDrive/Colab Notebooks/Study/CSCE 636/Project/kinetics/train/others/others.796.mp4, 0 total, 0 extracted\n",
            "Frame count is not OK for video /content/drive/MyDrive/Colab Notebooks/Study/CSCE 636/Project/kinetics/train/target/assembling computer.887.mp4, 0 total, 0 extracted\n"
          ],
          "name": "stderr"
        },
        {
          "output_type": "stream",
          "text": [
            "\b\b\b\b\b\b\b\b\b\b\b\b\b\b\b\b\b\b\b\b\b\b\b\b\b\b\b\b\b\b\b\b\b\b\b\b\b\b\b\b\b\b\b\b\b\b\b\b\b\b\b\b\b\b\b\b\b\b\b\b\b\b\b\b\b\b\b\b\b\b\b\b\b\b\b\b\b\b\b\b\b\b\r20/20 [==============================] - 15s 768ms/step - loss: 0.6981 - accuracy: 0.4235 - val_loss: 0.6554 - val_accuracy: 0.5354\n",
            "Epoch 6/30\n",
            "13/20 [==================>...........] - ETA: 4s - loss: 0.6863 - accuracy: 0.5225"
          ],
          "name": "stdout"
        },
        {
          "output_type": "stream",
          "text": [
            "Frame count is not OK for video /content/drive/MyDrive/Colab Notebooks/Study/CSCE 636/Project/kinetics/train/others/others.467.mp4, 0 total, 0 extracted\n"
          ],
          "name": "stderr"
        },
        {
          "output_type": "stream",
          "text": [
            "20/20 [==============================] - ETA: 0s - loss: 0.6806 - accuracy: 0.5314"
          ],
          "name": "stdout"
        },
        {
          "output_type": "stream",
          "text": [
            "Frame count is not OK for video /content/drive/MyDrive/Colab Notebooks/Study/CSCE 636/Project/kinetics/train/target/assembling computer.887.mp4, 0 total, 0 extracted\n"
          ],
          "name": "stderr"
        },
        {
          "output_type": "stream",
          "text": [
            "\b\b\b\b\b\b\b\b\b\b\b\b\b\b\b\b\b\b\b\b\b\b\b\b\b\b\b\b\b\b\b\b\b\b\b\b\b\b\b\b\b\b\b\b\b\b\b\b\b\b\b\b\b\b\b\b\b\b\b\b\b\b\b\b\b\b\b\b\b\b\b\b\b\b\b\b\b\b\b\b\b\b\r20/20 [==============================] - 15s 769ms/step - loss: 0.6800 - accuracy: 0.5329 - val_loss: 0.6243 - val_accuracy: 0.6263\n",
            "Epoch 7/30\n",
            "20/20 [==============================] - 15s 766ms/step - loss: 0.6693 - accuracy: 0.6075 - val_loss: 0.6207 - val_accuracy: 0.7600\n",
            "Epoch 8/30\n",
            " 4/20 [=====>........................] - ETA: 10s - loss: 0.6520 - accuracy: 0.4750"
          ],
          "name": "stdout"
        },
        {
          "output_type": "stream",
          "text": [
            "Frame count is not OK for video /content/drive/MyDrive/Colab Notebooks/Study/CSCE 636/Project/kinetics/train/others/others.121.mp4, 6 total, 5 extracted\n"
          ],
          "name": "stderr"
        },
        {
          "output_type": "stream",
          "text": [
            "20/20 [==============================] - 15s 767ms/step - loss: 0.6284 - accuracy: 0.6207 - val_loss: 0.5597 - val_accuracy: 0.7900\n",
            "Epoch 9/30\n",
            " 1/20 [>.............................] - ETA: 14s - loss: 0.6311 - accuracy: 0.8000"
          ],
          "name": "stdout"
        },
        {
          "output_type": "stream",
          "text": [
            "Frame count is not OK for video /content/drive/MyDrive/Colab Notebooks/Study/CSCE 636/Project/kinetics/train/others/others.796.mp4, 0 total, 0 extracted\n"
          ],
          "name": "stderr"
        },
        {
          "output_type": "stream",
          "text": [
            "14/20 [====================>.........] - ETA: 4s - loss: 0.6083 - accuracy: 0.7284"
          ],
          "name": "stdout"
        },
        {
          "output_type": "stream",
          "text": [
            "Frame count is not OK for video /content/drive/MyDrive/Colab Notebooks/Study/CSCE 636/Project/kinetics/train/others/others.151.mp4, 0 total, 0 extracted\n"
          ],
          "name": "stderr"
        },
        {
          "output_type": "stream",
          "text": [
            "19/20 [===========================>..] - ETA: 0s - loss: 0.6033 - accuracy: 0.7255"
          ],
          "name": "stdout"
        },
        {
          "output_type": "stream",
          "text": [
            "Frame count is not OK for video /content/drive/MyDrive/Colab Notebooks/Study/CSCE 636/Project/kinetics/train/others/others.121.mp4, 6 total, 5 extracted\n"
          ],
          "name": "stderr"
        },
        {
          "output_type": "stream",
          "text": [
            "\b\b\b\b\b\b\b\b\b\b\b\b\b\b\b\b\b\b\b\b\b\b\b\b\b\b\b\b\b\b\b\b\b\b\b\b\b\b\b\b\b\b\b\b\b\b\b\b\b\b\b\b\b\b\b\b\b\b\b\b\b\b\b\b\b\b\b\b\b\b\b\b\b\b\b\b\b\b\b\b\b\b\r20/20 [==============================] - ETA: 0s - loss: 0.6023 - accuracy: 0.7252"
          ],
          "name": "stdout"
        },
        {
          "output_type": "stream",
          "text": [
            "Frame count is not OK for video /content/drive/MyDrive/Colab Notebooks/Study/CSCE 636/Project/kinetics/train/target/assembling computer.887.mp4, 0 total, 0 extracted\n"
          ],
          "name": "stderr"
        },
        {
          "output_type": "stream",
          "text": [
            "\b\b\b\b\b\b\b\b\b\b\b\b\b\b\b\b\b\b\b\b\b\b\b\b\b\b\b\b\b\b\b\b\b\b\b\b\b\b\b\b\b\b\b\b\b\b\b\b\b\b\b\b\b\b\b\b\b\b\b\b\b\b\b\b\b\b\b\b\b\b\b\b\b\b\b\b\b\b\b\b\b\b\r20/20 [==============================] - 15s 760ms/step - loss: 0.6015 - accuracy: 0.7250 - val_loss: 0.4661 - val_accuracy: 0.8889\n",
            "Epoch 10/30\n",
            "20/20 [==============================] - 15s 773ms/step - loss: 0.6035 - accuracy: 0.7839 - val_loss: 0.4777 - val_accuracy: 0.8900\n",
            "Epoch 11/30\n",
            "17/20 [========================>.....] - ETA: 2s - loss: 0.5508 - accuracy: 0.7813"
          ],
          "name": "stdout"
        },
        {
          "output_type": "stream",
          "text": [
            "Frame count is not OK for video /content/drive/MyDrive/Colab Notebooks/Study/CSCE 636/Project/kinetics/train/others/others.467.mp4, 0 total, 0 extracted\n"
          ],
          "name": "stderr"
        },
        {
          "output_type": "stream",
          "text": [
            "20/20 [==============================] - 15s 762ms/step - loss: 0.5450 - accuracy: 0.7862 - val_loss: 0.3949 - val_accuracy: 0.9100\n",
            "Epoch 12/30\n",
            " 1/20 [>.............................] - ETA: 14s - loss: 0.3675 - accuracy: 1.0000"
          ],
          "name": "stdout"
        },
        {
          "output_type": "stream",
          "text": [
            "Frame count is not OK for video /content/drive/MyDrive/Colab Notebooks/Study/CSCE 636/Project/kinetics/train/others/others.155.mp4, 0 total, 0 extracted\n"
          ],
          "name": "stderr"
        },
        {
          "output_type": "stream",
          "text": [
            "20/20 [==============================] - ETA: 0s - loss: 0.4853 - accuracy: 0.8477"
          ],
          "name": "stdout"
        },
        {
          "output_type": "stream",
          "text": [
            "Frame count is not OK for video /content/drive/MyDrive/Colab Notebooks/Study/CSCE 636/Project/kinetics/train/target/assembling computer.887.mp4, 0 total, 0 extracted\n"
          ],
          "name": "stderr"
        },
        {
          "output_type": "stream",
          "text": [
            "\b\b\b\b\b\b\b\b\b\b\b\b\b\b\b\b\b\b\b\b\b\b\b\b\b\b\b\b\b\b\b\b\b\b\b\b\b\b\b\b\b\b\b\b\b\b\b\b\b\b\b\b\b\b\b\b\b\b\b\b\b\b\b\b\b\b\b\b\b\b\b\b\b\b\b\b\b\b\b\b\b\b\r20/20 [==============================] - 15s 767ms/step - loss: 0.4860 - accuracy: 0.8471 - val_loss: 0.4184 - val_accuracy: 0.8889\n",
            "Epoch 13/30\n",
            "11/20 [===============>..............] - ETA: 6s - loss: 0.5486 - accuracy: 0.7554"
          ],
          "name": "stdout"
        },
        {
          "output_type": "stream",
          "text": [
            "Frame count is not OK for video /content/drive/MyDrive/Colab Notebooks/Study/CSCE 636/Project/kinetics/train/others/others.783.mp4, 0 total, 0 extracted\n"
          ],
          "name": "stderr"
        },
        {
          "output_type": "stream",
          "text": [
            "13/20 [==================>...........] - ETA: 4s - loss: 0.5430 - accuracy: 0.7583"
          ],
          "name": "stdout"
        },
        {
          "output_type": "stream",
          "text": [
            "Frame count is not OK for video /content/drive/MyDrive/Colab Notebooks/Study/CSCE 636/Project/kinetics/train/others/others.796.mp4, 0 total, 0 extracted\n"
          ],
          "name": "stderr"
        },
        {
          "output_type": "stream",
          "text": [
            "20/20 [==============================] - ETA: 0s - loss: 0.5354 - accuracy: 0.7620"
          ],
          "name": "stdout"
        },
        {
          "output_type": "stream",
          "text": [
            "Frame count is not OK for video /content/drive/MyDrive/Colab Notebooks/Study/CSCE 636/Project/kinetics/train/target/assembling computer.887.mp4, 0 total, 0 extracted\n"
          ],
          "name": "stderr"
        },
        {
          "output_type": "stream",
          "text": [
            "\b\b\b\b\b\b\b\b\b\b\b\b\b\b\b\b\b\b\b\b\b\b\b\b\b\b\b\b\b\b\b\b\b\b\b\b\b\b\b\b\b\b\b\b\b\b\b\b\b\b\b\b\b\b\b\b\b\b\b\b\b\b\b\b\b\b\b\b\b\b\b\b\b\b\b\b\b\b\b\b\b\b\r20/20 [==============================] - 15s 759ms/step - loss: 0.5345 - accuracy: 0.7620 - val_loss: 0.3576 - val_accuracy: 0.9192\n",
            "Epoch 14/30\n",
            "20/20 [==============================] - ETA: 0s - loss: 0.4291 - accuracy: 0.8641"
          ],
          "name": "stdout"
        },
        {
          "output_type": "stream",
          "text": [
            "Frame count is not OK for video /content/drive/MyDrive/Colab Notebooks/Study/CSCE 636/Project/kinetics/train/target/assembling computer.887.mp4, 0 total, 0 extracted\n"
          ],
          "name": "stderr"
        },
        {
          "output_type": "stream",
          "text": [
            "\b\b\b\b\b\b\b\b\b\b\b\b\b\b\b\b\b\b\b\b\b\b\b\b\b\b\b\b\b\b\b\b\b\b\b\b\b\b\b\b\b\b\b\b\b\b\b\b\b\b\b\b\b\b\b\b\b\b\b\b\b\b\b\b\b\b\b\b\b\b\b\b\b\b\b\b\b\b\b\b\b\b\r20/20 [==============================] - 15s 764ms/step - loss: 0.4286 - accuracy: 0.8646 - val_loss: 0.2636 - val_accuracy: 0.9293\n",
            "Epoch 15/30\n",
            "20/20 [==============================] - ETA: 0s - loss: 0.3682 - accuracy: 0.8913"
          ],
          "name": "stdout"
        },
        {
          "output_type": "stream",
          "text": [
            "Frame count is not OK for video /content/drive/MyDrive/Colab Notebooks/Study/CSCE 636/Project/kinetics/train/target/assembling computer.887.mp4, 0 total, 0 extracted\n"
          ],
          "name": "stderr"
        },
        {
          "output_type": "stream",
          "text": [
            "\b\b\b\b\b\b\b\b\b\b\b\b\b\b\b\b\b\b\b\b\b\b\b\b\b\b\b\b\b\b\b\b\b\b\b\b\b\b\b\b\b\b\b\b\b\b\b\b\b\b\b\b\b\b\b\b\b\b\b\b\b\b\b\b\b\b\b\b\b\b\b\b\b\b\b\b\b\b\b\b\b\b\r20/20 [==============================] - 16s 796ms/step - loss: 0.3676 - accuracy: 0.8910 - val_loss: 0.2591 - val_accuracy: 0.9394\n",
            "Epoch 16/30\n",
            " 1/20 [>.............................] - ETA: 14s - loss: 0.2757 - accuracy: 0.9000"
          ],
          "name": "stdout"
        },
        {
          "output_type": "stream",
          "text": [
            "Frame count is not OK for video /content/drive/MyDrive/Colab Notebooks/Study/CSCE 636/Project/kinetics/train/others/others.796.mp4, 0 total, 0 extracted\n"
          ],
          "name": "stderr"
        },
        {
          "output_type": "stream",
          "text": [
            " 5/20 [======>.......................] - ETA: 9s - loss: 0.2791 - accuracy: 0.9012 "
          ],
          "name": "stdout"
        },
        {
          "output_type": "stream",
          "text": [
            "Frame count is not OK for video /content/drive/MyDrive/Colab Notebooks/Study/CSCE 636/Project/kinetics/train/others/others.467.mp4, 0 total, 0 extracted\n"
          ],
          "name": "stderr"
        },
        {
          "output_type": "stream",
          "text": [
            "20/20 [==============================] - 15s 764ms/step - loss: 0.3347 - accuracy: 0.8533 - val_loss: 0.2106 - val_accuracy: 0.9300\n",
            "Epoch 17/30\n",
            "16/20 [=======================>......] - ETA: 2s - loss: 0.3718 - accuracy: 0.8737"
          ],
          "name": "stdout"
        },
        {
          "output_type": "stream",
          "text": [
            "Frame count is not OK for video /content/drive/MyDrive/Colab Notebooks/Study/CSCE 636/Project/kinetics/train/others/others.155.mp4, 0 total, 0 extracted\n"
          ],
          "name": "stderr"
        },
        {
          "output_type": "stream",
          "text": [
            "20/20 [==============================] - 15s 755ms/step - loss: 0.3596 - accuracy: 0.8724 - val_loss: 0.1413 - val_accuracy: 0.9600\n",
            "Epoch 18/30\n",
            "11/20 [===============>..............] - ETA: 6s - loss: 0.3751 - accuracy: 0.8302"
          ],
          "name": "stdout"
        },
        {
          "output_type": "stream",
          "text": [
            "Frame count is not OK for video /content/drive/MyDrive/Colab Notebooks/Study/CSCE 636/Project/kinetics/train/others/others.467.mp4, 0 total, 0 extracted\n"
          ],
          "name": "stderr"
        },
        {
          "output_type": "stream",
          "text": [
            "20/20 [==============================] - ETA: 0s - loss: 0.3638 - accuracy: 0.8281"
          ],
          "name": "stdout"
        },
        {
          "output_type": "stream",
          "text": [
            "Frame count is not OK for video /content/drive/MyDrive/Colab Notebooks/Study/CSCE 636/Project/kinetics/train/target/assembling computer.887.mp4, 0 total, 0 extracted\n"
          ],
          "name": "stderr"
        },
        {
          "output_type": "stream",
          "text": [
            "\b\b\b\b\b\b\b\b\b\b\b\b\b\b\b\b\b\b\b\b\b\b\b\b\b\b\b\b\b\b\b\b\b\b\b\b\b\b\b\b\b\b\b\b\b\b\b\b\b\b\b\b\b\b\b\b\b\b\b\b\b\b\b\b\b\b\b\b\b\b\b\b\b\b\b\b\b\b\b\b\b\b\r20/20 [==============================] - 15s 763ms/step - loss: 0.3632 - accuracy: 0.8280 - val_loss: 0.2762 - val_accuracy: 0.9293\n",
            "Epoch 19/30\n",
            " 5/20 [======>.......................] - ETA: 10s - loss: 0.3996 - accuracy: 0.8517"
          ],
          "name": "stdout"
        },
        {
          "output_type": "stream",
          "text": [
            "Frame count is not OK for video /content/drive/MyDrive/Colab Notebooks/Study/CSCE 636/Project/kinetics/train/others/others.155.mp4, 0 total, 0 extracted\n"
          ],
          "name": "stderr"
        },
        {
          "output_type": "stream",
          "text": [
            "12/20 [=================>............] - ETA: 5s - loss: 0.3456 - accuracy: 0.8797"
          ],
          "name": "stdout"
        },
        {
          "output_type": "stream",
          "text": [
            "Frame count is not OK for video /content/drive/MyDrive/Colab Notebooks/Study/CSCE 636/Project/kinetics/train/others/others.783.mp4, 0 total, 0 extracted\n"
          ],
          "name": "stderr"
        },
        {
          "output_type": "stream",
          "text": [
            "18/20 [==========================>...] - ETA: 1s - loss: 0.3369 - accuracy: 0.8792"
          ],
          "name": "stdout"
        },
        {
          "output_type": "stream",
          "text": [
            "Frame count is not OK for video /content/drive/MyDrive/Colab Notebooks/Study/CSCE 636/Project/kinetics/train/others/others.682.mp4, 0 total, 0 extracted\n"
          ],
          "name": "stderr"
        },
        {
          "output_type": "stream",
          "text": [
            "20/20 [==============================] - 15s 759ms/step - loss: 0.3325 - accuracy: 0.8812 - val_loss: 0.2872 - val_accuracy: 0.9000\n",
            "Epoch 20/30\n",
            " 8/20 [===========>..................] - ETA: 8s - loss: 0.4461 - accuracy: 0.7714"
          ],
          "name": "stdout"
        },
        {
          "output_type": "stream",
          "text": [
            "Frame count is not OK for video /content/drive/MyDrive/Colab Notebooks/Study/CSCE 636/Project/kinetics/train/others/others.759.mp4, 0 total, 0 extracted\n"
          ],
          "name": "stderr"
        },
        {
          "output_type": "stream",
          "text": [
            "10/20 [==============>...............] - ETA: 6s - loss: 0.4419 - accuracy: 0.7798"
          ],
          "name": "stdout"
        },
        {
          "output_type": "stream",
          "text": [
            "Frame count is not OK for video /content/drive/MyDrive/Colab Notebooks/Study/CSCE 636/Project/kinetics/train/others/others.155.mp4, 0 total, 0 extracted\n"
          ],
          "name": "stderr"
        },
        {
          "output_type": "stream",
          "text": [
            "20/20 [==============================] - 15s 771ms/step - loss: 0.4082 - accuracy: 0.8098 - val_loss: 0.2438 - val_accuracy: 0.9400\n",
            "Epoch 21/30\n",
            "15/20 [=====================>........] - ETA: 3s - loss: 0.2518 - accuracy: 0.9371"
          ],
          "name": "stdout"
        },
        {
          "output_type": "stream",
          "text": [
            "Frame count is not OK for video /content/drive/MyDrive/Colab Notebooks/Study/CSCE 636/Project/kinetics/train/others/others.155.mp4, 0 total, 0 extracted\n"
          ],
          "name": "stderr"
        },
        {
          "output_type": "stream",
          "text": [
            "18/20 [==========================>...] - ETA: 1s - loss: 0.2664 - accuracy: 0.9279"
          ],
          "name": "stdout"
        },
        {
          "output_type": "stream",
          "text": [
            "Frame count is not OK for video /content/drive/MyDrive/Colab Notebooks/Study/CSCE 636/Project/kinetics/train/others/others.151.mp4, 0 total, 0 extracted\n"
          ],
          "name": "stderr"
        },
        {
          "output_type": "stream",
          "text": [
            "20/20 [==============================] - ETA: 0s - loss: 0.2721 - accuracy: 0.9237"
          ],
          "name": "stdout"
        },
        {
          "output_type": "stream",
          "text": [
            "Frame count is not OK for video /content/drive/MyDrive/Colab Notebooks/Study/CSCE 636/Project/kinetics/train/target/assembling computer.887.mp4, 0 total, 0 extracted\n"
          ],
          "name": "stderr"
        },
        {
          "output_type": "stream",
          "text": [
            "\b\b\b\b\b\b\b\b\b\b\b\b\b\b\b\b\b\b\b\b\b\b\b\b\b\b\b\b\b\b\b\b\b\b\b\b\b\b\b\b\b\b\b\b\b\b\b\b\b\b\b\b\b\b\b\b\b\b\b\b\b\b\b\b\b\b\b\b\b\b\b\b\b\b\b\b\b\b\b\b\b\b\r20/20 [==============================] - 15s 760ms/step - loss: 0.2744 - accuracy: 0.9221 - val_loss: 0.2503 - val_accuracy: 0.8990\n",
            "Epoch 22/30\n"
          ],
          "name": "stdout"
        },
        {
          "output_type": "stream",
          "text": [
            "Frame count is not OK for video /content/drive/MyDrive/Colab Notebooks/Study/CSCE 636/Project/kinetics/train/others/others.151.mp4, 0 total, 0 extracted\n"
          ],
          "name": "stderr"
        },
        {
          "output_type": "stream",
          "text": [
            "20/20 [==============================] - 15s 765ms/step - loss: 0.3181 - accuracy: 0.9084 - val_loss: 0.2049 - val_accuracy: 0.9500\n",
            "Epoch 23/30\n",
            "20/20 [==============================] - 15s 762ms/step - loss: 0.4090 - accuracy: 0.8021 - val_loss: 0.1672 - val_accuracy: 0.9500\n",
            "Epoch 24/30\n"
          ],
          "name": "stdout"
        },
        {
          "output_type": "stream",
          "text": [
            "Frame count is not OK for video /content/drive/MyDrive/Colab Notebooks/Study/CSCE 636/Project/kinetics/train/others/others.796.mp4, 0 total, 0 extracted\n"
          ],
          "name": "stderr"
        },
        {
          "output_type": "stream",
          "text": [
            "20/20 [==============================] - 15s 759ms/step - loss: 0.3073 - accuracy: 0.8883 - val_loss: 0.2507 - val_accuracy: 0.9100\n",
            "Epoch 25/30\n"
          ],
          "name": "stdout"
        },
        {
          "output_type": "stream",
          "text": [
            "Frame count is not OK for video /content/drive/MyDrive/Colab Notebooks/Study/CSCE 636/Project/kinetics/train/others/others.467.mp4, 0 total, 0 extracted\n"
          ],
          "name": "stderr"
        },
        {
          "output_type": "stream",
          "text": [
            "20/20 [==============================] - ETA: 0s - loss: 0.3680 - accuracy: 0.8603"
          ],
          "name": "stdout"
        },
        {
          "output_type": "stream",
          "text": [
            "Frame count is not OK for video /content/drive/MyDrive/Colab Notebooks/Study/CSCE 636/Project/kinetics/train/others/others.121.mp4, 6 total, 5 extracted\n"
          ],
          "name": "stderr"
        },
        {
          "output_type": "stream",
          "text": [
            "\b\b\b\b\b\b\b\b\b\b\b\b\b\b\b\b\b\b\b\b\b\b\b\b\b\b\b\b\b\b\b\b\b\b\b\b\b\b\b\b\b\b\b\b\b\b\b\b\b\b\b\b\b\b\b\b\b\b\b\b\b\b\b\b\b\b\b\b\b\b\b\b\b\b\b\b\b\b\b\b\b\b\r20/20 [==============================] - 15s 769ms/step - loss: 0.3644 - accuracy: 0.8617 - val_loss: 0.1783 - val_accuracy: 0.9200\n",
            "Epoch 26/30\n",
            " 3/20 [===>..........................] - ETA: 11s - loss: 0.4174 - accuracy: 0.8167"
          ],
          "name": "stdout"
        },
        {
          "output_type": "stream",
          "text": [
            "Frame count is not OK for video /content/drive/MyDrive/Colab Notebooks/Study/CSCE 636/Project/kinetics/train/others/others.155.mp4, 0 total, 0 extracted\n"
          ],
          "name": "stderr"
        },
        {
          "output_type": "stream",
          "text": [
            "10/20 [==============>...............] - ETA: 6s - loss: 0.3337 - accuracy: 0.8690"
          ],
          "name": "stdout"
        },
        {
          "output_type": "stream",
          "text": [
            "Frame count is not OK for video /content/drive/MyDrive/Colab Notebooks/Study/CSCE 636/Project/kinetics/train/others/others.783.mp4, 0 total, 0 extracted\n"
          ],
          "name": "stderr"
        },
        {
          "output_type": "stream",
          "text": [
            "15/20 [=====================>........] - ETA: 3s - loss: 0.3074 - accuracy: 0.8839"
          ],
          "name": "stdout"
        },
        {
          "output_type": "stream",
          "text": [
            "Frame count is not OK for video /content/drive/MyDrive/Colab Notebooks/Study/CSCE 636/Project/kinetics/train/others/others.682.mp4, 0 total, 0 extracted\n"
          ],
          "name": "stderr"
        },
        {
          "output_type": "stream",
          "text": [
            "20/20 [==============================] - 15s 765ms/step - loss: 0.2939 - accuracy: 0.8925 - val_loss: 0.2066 - val_accuracy: 0.9100\n",
            "Epoch 27/30\n",
            "15/20 [=====================>........] - ETA: 3s - loss: 0.2008 - accuracy: 0.9420"
          ],
          "name": "stdout"
        },
        {
          "output_type": "stream",
          "text": [
            "Frame count is not OK for video /content/drive/MyDrive/Colab Notebooks/Study/CSCE 636/Project/kinetics/train/others/others.759.mp4, 0 total, 0 extracted\n"
          ],
          "name": "stderr"
        },
        {
          "output_type": "stream",
          "text": [
            "20/20 [==============================] - ETA: 0s - loss: 0.2095 - accuracy: 0.9311"
          ],
          "name": "stdout"
        },
        {
          "output_type": "stream",
          "text": [
            "Frame count is not OK for video /content/drive/MyDrive/Colab Notebooks/Study/CSCE 636/Project/kinetics/train/target/assembling computer.887.mp4, 0 total, 0 extracted\n"
          ],
          "name": "stderr"
        },
        {
          "output_type": "stream",
          "text": [
            "\b\b\b\b\b\b\b\b\b\b\b\b\b\b\b\b\b\b\b\b\b\b\b\b\b\b\b\b\b\b\b\b\b\b\b\b\b\b\b\b\b\b\b\b\b\b\b\b\b\b\b\b\b\b\b\b\b\b\b\b\b\b\b\b\b\b\b\b\b\b\b\b\b\b\b\b\b\b\b\b\b\b\r20/20 [==============================] - 15s 765ms/step - loss: 0.2108 - accuracy: 0.9296 - val_loss: 0.2461 - val_accuracy: 0.8889\n"
          ],
          "name": "stdout"
        },
        {
          "output_type": "stream",
          "text": [
            "Frame count is not OK for video /content/drive/MyDrive/Colab Notebooks/Study/CSCE 636/Project/kinetics/train/others/others.682.mp4, 0 total, 0 extracted\n"
          ],
          "name": "stderr"
        },
        {
          "output_type": "stream",
          "text": [
            "Epoch 28/30\n",
            "16/20 [=======================>......] - ETA: 2s - loss: 0.2879 - accuracy: 0.8735"
          ],
          "name": "stdout"
        },
        {
          "output_type": "stream",
          "text": [
            "Frame count is not OK for video /content/drive/MyDrive/Colab Notebooks/Study/CSCE 636/Project/kinetics/train/others/others.467.mp4, 0 total, 0 extracted\n"
          ],
          "name": "stderr"
        },
        {
          "output_type": "stream",
          "text": [
            "20/20 [==============================] - ETA: 0s - loss: 0.2811 - accuracy: 0.8795"
          ],
          "name": "stdout"
        },
        {
          "output_type": "stream",
          "text": [
            "Frame count is not OK for video /content/drive/MyDrive/Colab Notebooks/Study/CSCE 636/Project/kinetics/train/target/assembling computer.887.mp4, 0 total, 0 extracted\n"
          ],
          "name": "stderr"
        },
        {
          "output_type": "stream",
          "text": [
            "\b\b\b\b\b\b\b\b\b\b\b\b\b\b\b\b\b\b\b\b\b\b\b\b\b\b\b\b\b\b\b\b\b\b\b\b\b\b\b\b\b\b\b\b\b\b\b\b\b\b\b\b\b\b\b\b\b\b\b\b\b\b\b\b\b\b\b\b\b\b\b\b\b\b\b\b\b\b\b\b\b\b\r20/20 [==============================] - 15s 759ms/step - loss: 0.2800 - accuracy: 0.8804 - val_loss: 0.2320 - val_accuracy: 0.9200\n",
            "Epoch 29/30\n",
            "20/20 [==============================] - ETA: 0s - loss: 0.2279 - accuracy: 0.9130"
          ],
          "name": "stdout"
        },
        {
          "output_type": "stream",
          "text": [
            "Frame count is not OK for video /content/drive/MyDrive/Colab Notebooks/Study/CSCE 636/Project/kinetics/train/target/assembling computer.887.mp4, 0 total, 0 extracted\n"
          ],
          "name": "stderr"
        },
        {
          "output_type": "stream",
          "text": [
            "\b\b\b\b\b\b\b\b\b\b\b\b\b\b\b\b\b\b\b\b\b\b\b\b\b\b\b\b\b\b\b\b\b\b\b\b\b\b\b\b\b\b\b\b\b\b\b\b\b\b\b\b\b\b\b\b\b\b\b\b\b\b\b\b\b\b\b\b\b\b\b\b\b\b\b\b\b\b\b\b\b\b\r20/20 [==============================] - 15s 765ms/step - loss: 0.2277 - accuracy: 0.9136 - val_loss: 0.1826 - val_accuracy: 0.9293\n",
            "Epoch 30/30\n",
            "18/20 [==========================>...] - ETA: 1s - loss: 0.3229 - accuracy: 0.9055"
          ],
          "name": "stdout"
        },
        {
          "output_type": "stream",
          "text": [
            "Frame count is not OK for video /content/drive/MyDrive/Colab Notebooks/Study/CSCE 636/Project/kinetics/train/others/others.155.mp4, 0 total, 0 extracted\n",
            "Frame count is not OK for video /content/drive/MyDrive/Colab Notebooks/Study/CSCE 636/Project/kinetics/train/others/others.759.mp4, 0 total, 0 extracted\n"
          ],
          "name": "stderr"
        },
        {
          "output_type": "stream",
          "text": [
            "20/20 [==============================] - 16s 805ms/step - loss: 0.3198 - accuracy: 0.9048 - val_loss: 0.2098 - val_accuracy: 0.9300\n",
            "Total training time:  477.4473240375519\n"
          ],
          "name": "stdout"
        }
      ]
    },
    {
      "cell_type": "markdown",
      "metadata": {
        "id": "-7Bv-AXz9Rb3"
      },
      "source": [
        "Plot the learning curve"
      ]
    },
    {
      "cell_type": "code",
      "metadata": {
        "id": "OiDWWm0r9Tf_",
        "colab": {
          "base_uri": "https://localhost:8080/",
          "height": 545
        },
        "outputId": "dd93da29-9d3a-47d1-d18f-200462b72ddb"
      },
      "source": [
        "import matplotlib.pyplot as plt\n",
        "acc = history.history['accuracy']\n",
        "val_acc = history.history['val_accuracy']\n",
        "loss = history.history['loss']\n",
        "val_loss = history.history['val_loss']\n",
        "\n",
        "epochs = range(len(acc))\n",
        "\n",
        "plt.plot(epochs, acc, 'bo', label='Training acc')\n",
        "plt.plot(epochs, val_acc, 'b', label='Validation acc')\n",
        "plt.title('Training and validation accuracy')\n",
        "plt.grid(axis='both')\n",
        "plt.legend()\n",
        "\n",
        "plt.figure()\n",
        "\n",
        "plt.plot(epochs, loss, 'bo', label='Training loss')\n",
        "plt.plot(epochs, val_loss, 'b', label='Validation loss')\n",
        "plt.title('Training and validation loss')\n",
        "plt.grid(axis='both')\n",
        "plt.legend()\n",
        "\n",
        "plt.show()"
      ],
      "execution_count": null,
      "outputs": [
        {
          "output_type": "display_data",
          "data": {
            "image/png": "[encoded data removed]",
            "text/plain": [
              "<Figure size 432x288 with 1 Axes>"
            ]
          },
          "metadata": {
            "tags": [],
            "needs_background": "light"
          }
        },
        {
          "output_type": "display_data",
          "data": {
            "image/png": "[encoded data removed]",
            "text/plain": [
              "<Figure size 432x288 with 1 Axes>"
            ]
          },
          "metadata": {
            "tags": [],
            "needs_background": "light"
          }
        }
      ]
    },
    {
      "cell_type": "markdown",
      "metadata": {
        "id": "DYNe9pEj5aeU"
      },
      "source": [
        "# Test on test set"
      ]
    },
    {
      "cell_type": "code",
      "metadata": {
        "id": "nyZ5w6YH57Te"
      },
      "source": [
        "import keras\n",
        "from keras.models import load_model\n",
        "\n",
        "test_model = load_model('bandaging_Inception_try.h5')\n"
      ],
      "execution_count": null,
      "outputs": []
    },
    {
      "cell_type": "code",
      "metadata": {
        "colab": {
          "base_uri": "https://localhost:8080/"
        },
        "id": "KG4LgeL-c_Um",
        "outputId": "afa04950-cbf5-4fad-b171-eb17be9d4f84"
      },
      "source": [
        "from keras_video import VideoFrameGenerator\n",
        "\n",
        "classes = ['target' , 'others']\n",
        "# some global params\n",
        "SIZE = (112, 112)\n",
        "CHANNELS = 3\n",
        "NFRAME = 25\n",
        "BS = 10\n",
        "# pattern to get videos and classes\n",
        "glob_pattern='/content/drive/MyDrive/kinetics/test/{classname}/*.mp4'\n",
        "\n",
        "# Create video frame generator\n",
        "test = VideoFrameGenerator(\n",
        "    classes=classes, \n",
        "    glob_pattern=glob_pattern,\n",
        "    nb_frames=NFRAME,\n",
        "    shuffle=False,\n",
        "    batch_size=BS,\n",
        "    target_shape=SIZE,\n",
        "    nb_channel=CHANNELS,\n",
        "    use_frame_cache=True)"
      ],
      "execution_count": null,
      "outputs": [
        {
          "output_type": "stream",
          "text": [
            "Total data: 2 classes for 92 files for train\n"
          ],
          "name": "stdout"
        }
      ]
    },
    {
      "cell_type": "code",
      "metadata": {
        "colab": {
          "base_uri": "https://localhost:8080/"
        },
        "id": "Kx0UCDcwdhEY",
        "outputId": "e62b8acb-0f6a-40a9-fb1f-30bdbb6838c9"
      },
      "source": [
        "test_model.evaluate(test)"
      ],
      "execution_count": null,
      "outputs": [
        {
          "output_type": "stream",
          "text": [
            "9/9 [==============================] - 65s 8s/step - loss: 0.2228 - accuracy: 0.9222\n"
          ],
          "name": "stdout"
        },
        {
          "output_type": "execute_result",
          "data": {
            "text/plain": [
              "[0.2227592021226883, 0.9222221970558167]"
            ]
          },
          "metadata": {
            "tags": []
          },
          "execution_count": 19
        }
      ]
    }
  ]
}
